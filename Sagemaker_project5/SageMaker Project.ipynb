{
 "cells": [
  {
   "cell_type": "markdown",
   "metadata": {},
   "source": [
    "# Creating a Sentiment Analysis Web App\n",
    "## Using PyTorch and SageMaker\n",
    "\n",
    "_Deep Learning Nanodegree Program | Deployment_\n",
    "\n",
    "---\n",
    "\n",
    "Now that we have a basic understanding of how SageMaker works we will try to use it to construct a complete project from end to end. Our goal will be to have a simple web page which a user can use to enter a movie review. The web page will then send the review off to our deployed model which will predict the sentiment of the entered review.\n",
    "\n",
    "## Instructions\n",
    "\n",
    "Some template code has already been provided for you, and you will need to implement additional functionality to successfully complete this notebook. You will not need to modify the included code beyond what is requested. Sections that begin with '**TODO**' in the header indicate that you need to complete or implement some portion within them. Instructions will be provided for each section and the specifics of the implementation are marked in the code block with a `# TODO: ...` comment. Please be sure to read the instructions carefully!\n",
    "\n",
    "In addition to implementing code, there will be questions for you to answer which relate to the task and your implementation. Each section where you will answer a question is preceded by a '**Question:**' header. Carefully read each question and provide your answer below the '**Answer:**' header by editing the Markdown cell.\n",
    "\n",
    "> **Note**: Code and Markdown cells can be executed using the **Shift+Enter** keyboard shortcut. In addition, a cell can be edited by typically clicking it (double-click for Markdown cells) or by pressing **Enter** while it is highlighted.\n",
    "\n",
    "## General Outline\n",
    "\n",
    "Recall the general outline for SageMaker projects using a notebook instance.\n",
    "\n",
    "1. Download or otherwise retrieve the data.\n",
    "2. Process / Prepare the data.\n",
    "3. Upload the processed data to S3.\n",
    "4. Train a chosen model.\n",
    "5. Test the trained model (typically using a batch transform job).\n",
    "6. Deploy the trained model.\n",
    "7. Use the deployed model.\n",
    "\n",
    "For this project, you will be following the steps in the general outline with some modifications. \n",
    "\n",
    "First, you will not be testing the model in its own step. You will still be testing the model, however, you will do it by deploying your model and then using the deployed model by sending the test data to it. One of the reasons for doing this is so that you can make sure that your deployed model is working correctly before moving forward.\n",
    "\n",
    "In addition, you will deploy and use your trained model a second time. In the second iteration you will customize the way that your trained model is deployed by including some of your own code. In addition, your newly deployed model will be used in the sentiment analysis web app."
   ]
  },
  {
   "cell_type": "markdown",
   "metadata": {},
   "source": [
    "## Step 1: Downloading the data\n",
    "\n",
    "As in the XGBoost in SageMaker notebook, we will be using the [IMDb dataset](http://ai.stanford.edu/~amaas/data/sentiment/)\n",
    "\n",
    "> Maas, Andrew L., et al. [Learning Word Vectors for Sentiment Analysis](http://ai.stanford.edu/~amaas/data/sentiment/). In _Proceedings of the 49th Annual Meeting of the Association for Computational Linguistics: Human Language Technologies_. Association for Computational Linguistics, 2011."
   ]
  },
  {
   "cell_type": "code",
   "execution_count": 1,
   "metadata": {},
   "outputs": [
    {
     "name": "stdout",
     "output_type": "stream",
     "text": [
      "mkdir: cannot create directory ‘../data’: File exists\n",
      "--2020-08-20 21:30:28--  http://ai.stanford.edu/~amaas/data/sentiment/aclImdb_v1.tar.gz\n",
      "Resolving ai.stanford.edu (ai.stanford.edu)... 171.64.68.10\n",
      "Connecting to ai.stanford.edu (ai.stanford.edu)|171.64.68.10|:80... connected.\n",
      "HTTP request sent, awaiting response... 200 OK\n",
      "Length: 84125825 (80M) [application/x-gzip]\n",
      "Saving to: ‘../data/aclImdb_v1.tar.gz’\n",
      "\n",
      "../data/aclImdb_v1. 100%[===================>]  80.23M  24.2MB/s    in 3.9s    \n",
      "\n",
      "2020-08-20 21:30:32 (20.4 MB/s) - ‘../data/aclImdb_v1.tar.gz’ saved [84125825/84125825]\n",
      "\n"
     ]
    }
   ],
   "source": [
    "%mkdir ../data\n",
    "!wget -O ../data/aclImdb_v1.tar.gz http://ai.stanford.edu/~amaas/data/sentiment/aclImdb_v1.tar.gz\n",
    "!tar -zxf ../data/aclImdb_v1.tar.gz -C ../data"
   ]
  },
  {
   "cell_type": "markdown",
   "metadata": {},
   "source": [
    "## Step 2: Preparing and Processing the data\n",
    "\n",
    "Also, as in the XGBoost notebook, we will be doing some initial data processing. The first few steps are the same as in the XGBoost example. To begin with, we will read in each of the reviews and combine them into a single input structure. Then, we will split the dataset into a training set and a testing set."
   ]
  },
  {
   "cell_type": "code",
   "execution_count": 2,
   "metadata": {},
   "outputs": [],
   "source": [
    "import os\n",
    "import glob\n",
    "\n",
    "def read_imdb_data(data_dir='../data/aclImdb'):\n",
    "    data = {}\n",
    "    labels = {}\n",
    "    \n",
    "    for data_type in ['train', 'test']:\n",
    "        data[data_type] = {}\n",
    "        labels[data_type] = {}\n",
    "        \n",
    "        for sentiment in ['pos', 'neg']:\n",
    "            data[data_type][sentiment] = []\n",
    "            labels[data_type][sentiment] = []\n",
    "            \n",
    "            path = os.path.join(data_dir, data_type, sentiment, '*.txt')\n",
    "            files = glob.glob(path)\n",
    "            \n",
    "            for f in files:\n",
    "                with open(f) as review:\n",
    "                    data[data_type][sentiment].append(review.read())\n",
    "                    # Here we represent a positive review by '1' and a negative review by '0'\n",
    "                    labels[data_type][sentiment].append(1 if sentiment == 'pos' else 0)\n",
    "                    \n",
    "            assert len(data[data_type][sentiment]) == len(labels[data_type][sentiment]), \\\n",
    "                    \"{}/{} data size does not match labels size\".format(data_type, sentiment)\n",
    "                \n",
    "    return data, labels"
   ]
  },
  {
   "cell_type": "code",
   "execution_count": 3,
   "metadata": {},
   "outputs": [
    {
     "name": "stdout",
     "output_type": "stream",
     "text": [
      "IMDB reviews: train = 12500 pos / 12500 neg, test = 12500 pos / 12500 neg\n"
     ]
    }
   ],
   "source": [
    "data, labels = read_imdb_data()\n",
    "print(\"IMDB reviews: train = {} pos / {} neg, test = {} pos / {} neg\".format(\n",
    "            len(data['train']['pos']), len(data['train']['neg']),\n",
    "            len(data['test']['pos']), len(data['test']['neg'])))"
   ]
  },
  {
   "cell_type": "markdown",
   "metadata": {},
   "source": [
    "Now that we've read the raw training and testing data from the downloaded dataset, we will combine the positive and negative reviews and shuffle the resulting records."
   ]
  },
  {
   "cell_type": "code",
   "execution_count": 4,
   "metadata": {},
   "outputs": [],
   "source": [
    "from sklearn.utils import shuffle\n",
    "\n",
    "def prepare_imdb_data(data, labels):\n",
    "    \"\"\"Prepare training and test sets from IMDb movie reviews.\"\"\"\n",
    "    \n",
    "    #Combine positive and negative reviews and labels\n",
    "    data_train = data['train']['pos'] + data['train']['neg']\n",
    "    data_test = data['test']['pos'] + data['test']['neg']\n",
    "    labels_train = labels['train']['pos'] + labels['train']['neg']\n",
    "    labels_test = labels['test']['pos'] + labels['test']['neg']\n",
    "    \n",
    "    #Shuffle reviews and corresponding labels within training and test sets\n",
    "    data_train, labels_train = shuffle(data_train, labels_train)\n",
    "    data_test, labels_test = shuffle(data_test, labels_test)\n",
    "    \n",
    "    # Return a unified training data, test data, training labels, test labets\n",
    "    return data_train, data_test, labels_train, labels_test"
   ]
  },
  {
   "cell_type": "code",
   "execution_count": 5,
   "metadata": {},
   "outputs": [
    {
     "name": "stdout",
     "output_type": "stream",
     "text": [
      "IMDb reviews (combined): train = 25000, test = 25000\n"
     ]
    }
   ],
   "source": [
    "train_X, test_X, train_y, test_y = prepare_imdb_data(data, labels)\n",
    "print(\"IMDb reviews (combined): train = {}, test = {}\".format(len(train_X), len(test_X)))"
   ]
  },
  {
   "cell_type": "markdown",
   "metadata": {},
   "source": [
    "Now that we have our training and testing sets unified and prepared, we should do a quick check and see an example of the data our model will be trained on. This is generally a good idea as it allows you to see how each of the further processing steps affects the reviews and it also ensures that the data has been loaded correctly."
   ]
  },
  {
   "cell_type": "code",
   "execution_count": 6,
   "metadata": {},
   "outputs": [
    {
     "name": "stdout",
     "output_type": "stream",
     "text": [
      "I liked it... just that... i liked it, not like the animated series... i love it!!!. The fact that this make less appealing is that we all try to compare and not to appreciate, but this cartoon was awesome, but it really didn't like it that much. There's too much people talking about Bruce being so cold, but if this is around 5 years later, anybody in a crime-fighting gang would get this angry and darker attitude, so to me it isn't a flaw. Batgirl was awesome she really fit there, as there isn't more Dick Grayson as a robin, batman needed a good teammate, not like the new robin, he is just a child and you cant rely that much on a child. But heres what didn't work: The new artwork... it isn't horrible but... to me it does'nt work in a series like batman. This is a dark character, with a maniac killer like the joker, so you cant put this kind of artwork in this cartoon, The joker isn't a bad design but i still like the past joker (but to me the BEST joker ever was the one who appeared in batman beyond:return of the joker) , so this joker isn't near as good. The good thing about the joker is that it still mark Hamil voice. My favorite character: Harley Quinn (im in love for her) They put an awesome episode for her: Mad love (to me the best episode of this series). Here we finally know how she turned Harley Quinn, and how the joker twisted her mind, and it feel that atmosphere that you feel in the animated series, darker, no happy ending, brutal fight with the joker (but too short), this is how it was to be ALL the series. BUT in general i didn't like how she made Harley in this series... in almost every episode they put funny but in a ridiculous way, she get punched, she say nonsenses, she make flaws... c'mon she is funny in a way you can laugh with her, not from her... and here they put ridiculous (like i said the only episode where i don't think that its in mad love and beware of the creeper) So in general its a good series, it has it upsides and downs, the drawn could be better ( MY GOOD!!! KILL THAT CATWOMAN!!!!) nice sound effects, nice music, nice voices and nice episodes: my favorites, Mad love, Jokers millions, Old Wounds, Sins of the father, and Cold comfort. If you enjoyed Batman:TAS you can watch this but don't spec too much, in the other hand if you didn't watched TAS, watch this first and then watch TAS in that way you're really gonna love TAS :D\n",
      "1\n"
     ]
    }
   ],
   "source": [
    "print(train_X[1])\n",
    "print(train_y[1])"
   ]
  },
  {
   "cell_type": "markdown",
   "metadata": {},
   "source": [
    "The first step in processing the reviews is to make sure that any html tags that appear should be removed. In addition we wish to tokenize our input, that way words such as *entertained* and *entertaining* are considered the same with regard to sentiment analysis."
   ]
  },
  {
   "cell_type": "code",
   "execution_count": 7,
   "metadata": {},
   "outputs": [],
   "source": [
    "import nltk\n",
    "from nltk.corpus import stopwords\n",
    "from nltk.stem.porter import *\n",
    "\n",
    "import re\n",
    "from bs4 import BeautifulSoup\n",
    "\n",
    "def review_to_words(review):\n",
    "    nltk.download(\"stopwords\", quiet=True)\n",
    "    stemmer = PorterStemmer()\n",
    "    \n",
    "    text = BeautifulSoup(review, \"html.parser\").get_text() # Remove HTML tags\n",
    "    text = re.sub(r\"[^a-zA-Z0-9]\", \" \", text.lower()) # Convert to lower case\n",
    "    words = text.split() # Split string into words\n",
    "    words = [w for w in words if w not in stopwords.words(\"english\")] # Remove stopwords\n",
    "    words = [PorterStemmer().stem(w) for w in words] # stem\n",
    "    \n",
    "    return words"
   ]
  },
  {
   "cell_type": "markdown",
   "metadata": {},
   "source": [
    "The `review_to_words` method defined above uses `BeautifulSoup` to remove any html tags that appear and uses the `nltk` package to tokenize the reviews. As a check to ensure we know how everything is working, try applying `review_to_words` to one of the reviews in the training set."
   ]
  },
  {
   "cell_type": "code",
   "execution_count": 8,
   "metadata": {},
   "outputs": [
    {
     "name": "stdout",
     "output_type": "stream",
     "text": [
      "['movi', 'one', 'among', 'indian', 'movi', 'would', 'never', 'fade', 'away', 'passag', 'time', 'would', 'spell', 'bind', 'appeal', 'ever', 'diminish', 'even', 'indian', 'cinema', 'transform', 'abyss', 'artifici', 'style', 'pop', 'cultur', 'drill', 'orient', 'extra', 'take', 'enhanc', 'p', 'style', 'film', 'song', 'cinematographi', 'speak', 'excel', 'skill', 'josef', 'werch', 'accentu', 'monument', 'cinema', 'scope', 'effect', 'film', 'entireti', 'gone', 'day', 'great', 'cinema', 'everi', 'scene', 'clip', 'mani', 'time', 'retak', 'taken', 'final', 'meticul', 'attent', 'paid', 'craft', 'edit', 'scene', 'poignant', 'scene', 'fill', 'sublim', 'emot', 'intens', 'like', 'instanc', 'meena', 'kumari', 'refus', 'say', 'ye', 'approv', 'nikah', 'marriag', 'bond', 'climb', 'hill', 'run', 'berserk', 'traumat', 'frenzi', 'moment', 'raj', 'kumar', 'follow', 'strong', 'gale', 'wind', 'blew', 'away', 'veil', 'kumari', 'onto', 'leg', 'kumar', 'kamal', 'amrohi', 'shall', 'alway', 'rememb', 'golden', 'word', 'annal', 'indian', 'cinema', 'histori', 'endeavor', 'complet', 'movi', 'record', 'set', '12', 'year', 'manag', 'film', 'vital', 'song', 'without', 'meena', 'close', 'up', 'meena', 'kumari', 'ladi', 'lead', 'role', 'termin', 'ill', 'fight', 'life', 'earli', '1971']\n"
     ]
    }
   ],
   "source": [
    "# TODO: Apply review_to_words to a review (train_X[100] or any other review)\n",
    "print(review_to_words(train_X[100]))"
   ]
  },
  {
   "cell_type": "markdown",
   "metadata": {},
   "source": [
    "**Question:** Above we mentioned that `review_to_words` method removes html formatting and allows us to tokenize the words found in a review, for example, converting *entertained* and *entertaining* into *entertain* so that they are treated as though they are the same word. What else, if anything, does this method do to the input?"
   ]
  },
  {
   "cell_type": "markdown",
   "metadata": {},
   "source": [
    "**Answer:** In the method review_to_words\n",
    "1.Regular expressions is used  to convert all the alphabets to lower case.\n",
    "2 nltk.stopwords has the list of common words in English (such as a, an , but, for etc)which are removed to save the processing time. There is a possibility to customize the stopword list as per our requirement. \n",
    "3.Porterstemmer is used to reduce the words to their stems.This process reduces the redundancy as the word stem means the same as the derived words."
   ]
  },
  {
   "cell_type": "markdown",
   "metadata": {},
   "source": [
    "The method below applies the `review_to_words` method to each of the reviews in the training and testing datasets. In addition it caches the results. This is because performing this processing step can take a long time. This way if you are unable to complete the notebook in the current session, you can come back without needing to process the data a second time."
   ]
  },
  {
   "cell_type": "code",
   "execution_count": 9,
   "metadata": {},
   "outputs": [],
   "source": [
    "import pickle\n",
    "\n",
    "cache_dir = os.path.join(\"../cache\", \"sentiment_analysis\")  # where to store cache files\n",
    "os.makedirs(cache_dir, exist_ok=True)  # ensure cache directory exists\n",
    "\n",
    "def preprocess_data(data_train, data_test, labels_train, labels_test,\n",
    "                    cache_dir=cache_dir, cache_file=\"preprocessed_data.pkl\"):\n",
    "    \"\"\"Convert each review to words; read from cache if available.\"\"\"\n",
    "\n",
    "    # If cache_file is not None, try to read from it first\n",
    "    cache_data = None\n",
    "    if cache_file is not None:\n",
    "        try:\n",
    "            with open(os.path.join(cache_dir, cache_file), \"rb\") as f:\n",
    "                cache_data = pickle.load(f)\n",
    "            print(\"Read preprocessed data from cache file:\", cache_file)\n",
    "        except:\n",
    "            pass  # unable to read from cache, but that's okay\n",
    "    \n",
    "    # If cache is missing, then do the heavy lifting\n",
    "    if cache_data is None:\n",
    "        # Preprocess training and test data to obtain words for each review\n",
    "        #words_train = list(map(review_to_words, data_train))\n",
    "        #words_test = list(map(review_to_words, data_test))\n",
    "        words_train = [review_to_words(review) for review in data_train]\n",
    "        words_test = [review_to_words(review) for review in data_test]\n",
    "        \n",
    "        # Write to cache file for future runs\n",
    "        if cache_file is not None:\n",
    "            cache_data = dict(words_train=words_train, words_test=words_test,\n",
    "                              labels_train=labels_train, labels_test=labels_test)\n",
    "            with open(os.path.join(cache_dir, cache_file), \"wb\") as f:\n",
    "                pickle.dump(cache_data, f)\n",
    "            print(\"Wrote preprocessed data to cache file:\", cache_file)\n",
    "    else:\n",
    "        # Unpack data loaded from cache file\n",
    "        words_train, words_test, labels_train, labels_test = (cache_data['words_train'],\n",
    "                cache_data['words_test'], cache_data['labels_train'], cache_data['labels_test'])\n",
    "    \n",
    "    return words_train, words_test, labels_train, labels_test"
   ]
  },
  {
   "cell_type": "code",
   "execution_count": 10,
   "metadata": {},
   "outputs": [
    {
     "name": "stdout",
     "output_type": "stream",
     "text": [
      "Read preprocessed data from cache file: preprocessed_data.pkl\n"
     ]
    }
   ],
   "source": [
    "# Preprocess data\n",
    "train_X, test_X, train_y, test_y = preprocess_data(train_X, test_X, train_y, test_y)"
   ]
  },
  {
   "cell_type": "markdown",
   "metadata": {},
   "source": [
    "## Transform the data\n",
    "\n",
    "In the XGBoost notebook we transformed the data from its word representation to a bag-of-words feature representation. For the model we are going to construct in this notebook we will construct a feature representation which is very similar. To start, we will represent each word as an integer. Of course, some of the words that appear in the reviews occur very infrequently and so likely don't contain much information for the purposes of sentiment analysis. The way we will deal with this problem is that we will fix the size of our working vocabulary and we will only include the words that appear most frequently. We will then combine all of the infrequent words into a single category and, in our case, we will label it as `1`.\n",
    "\n",
    "Since we will be using a recurrent neural network, it will be convenient if the length of each review is the same. To do this, we will fix a size for our reviews and then pad short reviews with the category 'no word' (which we will label `0`) and truncate long reviews."
   ]
  },
  {
   "cell_type": "markdown",
   "metadata": {},
   "source": [
    "### (TODO) Create a word dictionary\n",
    "\n",
    "To begin with, we need to construct a way to map words that appear in the reviews to integers. Here we fix the size of our vocabulary (including the 'no word' and 'infrequent' categories) to be `5000` but you may wish to change this to see how it affects the model.\n",
    "\n",
    "> **TODO:** Complete the implementation for the `build_dict()` method below. Note that even though the vocab_size is set to `5000`, we only want to construct a mapping for the most frequently appearing `4998` words. This is because we want to reserve the special labels `0` for 'no word' and `1` for 'infrequent word'."
   ]
  },
  {
   "cell_type": "code",
   "execution_count": 11,
   "metadata": {},
   "outputs": [],
   "source": [
    "import numpy as np\n",
    "#from nltk import sent_tokenize\n",
    "#nltk.download('punkt')\n",
    "from collections import Counter \n",
    "\n",
    "def build_dict(data, vocab_size = 5000):\n",
    "    \"\"\"Construct and return a dictionary mapping each of the most frequently appearing words to a unique integer.\"\"\"\n",
    "    \n",
    "    # TODO: Determine how often each word appears in `data`. Note that `data` is a list of sentences and that a\n",
    "    #       sentence is a list of words.\n",
    "    #data = str(data)\n",
    "    #sentences  = nltk.sent_tokenize(data)\n",
    "    word_count={}\n",
    "    \n",
    "    word_count = dict(Counter(word for sentence in data for word in sentence))\n",
    "                \n",
    "    \n",
    "    #word_count = {} # A dict storing the words that appear in the reviews along with how often they occur\n",
    "    \n",
    "    # TODO: Sort the words found in `data` so that sorted_words[0] is the most frequently appearing word and\n",
    "    #       sorted_words[-1] is the least frequently appearing word.\n",
    "    \n",
    "    sorted_words = sorted(word_count, key=word_count.get , reverse=True)\n",
    "    #print(sorted_words)\n",
    "    word_dict = {} # This is what we are building, a dictionary that translates words into integers\n",
    "    for idx, word in enumerate(sorted_words[:vocab_size - 2]): # The -2 is so that we save room for the 'no word'\n",
    "        word_dict[word] = idx + 2                              # 'infrequent' labels\n",
    "        \n",
    "    return word_dict"
   ]
  },
  {
   "cell_type": "code",
   "execution_count": 12,
   "metadata": {},
   "outputs": [],
   "source": [
    "word_dict = build_dict(train_X)"
   ]
  },
  {
   "cell_type": "code",
   "execution_count": 13,
   "metadata": {},
   "outputs": [
    {
     "name": "stdout",
     "output_type": "stream",
     "text": [
      "{'movi': 2, 'film': 3, 'one': 4, 'like': 5, 'time': 6, 'good': 7, 'make': 8, 'charact': 9, 'get': 10, 'see': 11, 'watch': 12, 'stori': 13, 'even': 14, 'would': 15, 'realli': 16, 'well': 17, 'scene': 18, 'look': 19, 'show': 20, 'much': 21, 'end': 22, 'peopl': 23, 'bad': 24, 'go': 25, 'great': 26, 'also': 27, 'first': 28, 'love': 29, 'think': 30, 'way': 31, 'act': 32, 'play': 33, 'made': 34, 'thing': 35, 'could': 36, 'know': 37, 'say': 38, 'seem': 39, 'work': 40, 'plot': 41, 'two': 42, 'actor': 43, 'year': 44, 'come': 45, 'mani': 46, 'seen': 47, 'take': 48, 'want': 49, 'life': 50, 'never': 51, 'littl': 52, 'best': 53, 'tri': 54, 'man': 55, 'ever': 56, 'give': 57, 'better': 58, 'still': 59, 'perform': 60, 'find': 61, 'feel': 62, 'part': 63, 'back': 64, 'use': 65, 'someth': 66, 'director': 67, 'actual': 68, 'interest': 69, 'lot': 70, 'real': 71, 'old': 72, 'cast': 73, 'though': 74, 'live': 75, 'star': 76, 'enjoy': 77, 'guy': 78, 'anoth': 79, 'new': 80, 'role': 81, 'noth': 82, '10': 83, 'funni': 84, 'music': 85, 'point': 86, 'start': 87, 'set': 88, 'girl': 89, 'origin': 90, 'day': 91, 'world': 92, 'everi': 93, 'believ': 94, 'turn': 95, 'quit': 96, 'us': 97, 'direct': 98, 'thought': 99, 'fact': 100, 'minut': 101, 'horror': 102, 'kill': 103, 'action': 104, 'comedi': 105, 'pretti': 106, 'young': 107, 'wonder': 108, 'happen': 109, 'around': 110, 'got': 111, 'effect': 112, 'right': 113, 'long': 114, 'howev': 115, 'big': 116, 'line': 117, 'famili': 118, 'enough': 119, 'seri': 120, 'may': 121, 'need': 122, 'fan': 123, 'bit': 124, 'script': 125, 'beauti': 126, 'person': 127, 'becom': 128, 'without': 129, 'must': 130, 'alway': 131, 'friend': 132, 'tell': 133, 'reason': 134, 'saw': 135, 'last': 136, 'final': 137, 'kid': 138, 'almost': 139, 'put': 140, 'least': 141, 'sure': 142, 'done': 143, 'whole': 144, 'place': 145, 'complet': 146, 'kind': 147, 'differ': 148, 'expect': 149, 'shot': 150, 'far': 151, 'mean': 152, 'anyth': 153, 'book': 154, 'laugh': 155, 'might': 156, 'name': 157, 'sinc': 158, 'begin': 159, '2': 160, 'probabl': 161, 'woman': 162, 'help': 163, 'entertain': 164, 'let': 165, 'screen': 166, 'call': 167, 'tv': 168, 'moment': 169, 'away': 170, 'read': 171, 'yet': 172, 'rather': 173, 'worst': 174, 'run': 175, 'fun': 176, 'lead': 177, 'hard': 178, 'audienc': 179, 'idea': 180, 'anyon': 181, 'episod': 182, 'american': 183, 'found': 184, 'appear': 185, 'bore': 186, 'especi': 187, 'although': 188, 'hope': 189, 'keep': 190, 'cours': 191, 'anim': 192, 'job': 193, 'goe': 194, 'move': 195, 'sens': 196, 'version': 197, 'dvd': 198, 'war': 199, 'money': 200, 'someon': 201, 'mind': 202, 'mayb': 203, 'problem': 204, 'true': 205, 'hous': 206, 'everyth': 207, 'nice': 208, 'second': 209, 'rate': 210, 'three': 211, 'night': 212, 'face': 213, 'follow': 214, 'recommend': 215, 'main': 216, 'product': 217, 'worth': 218, 'leav': 219, 'human': 220, 'special': 221, 'excel': 222, 'togeth': 223, 'wast': 224, 'everyon': 225, 'sound': 226, 'john': 227, 'hand': 228, '1': 229, 'father': 230, 'later': 231, 'eye': 232, 'said': 233, 'view': 234, 'instead': 235, 'review': 236, 'boy': 237, 'high': 238, 'hour': 239, 'miss': 240, 'talk': 241, 'classic': 242, 'wife': 243, 'understand': 244, 'left': 245, 'care': 246, 'black': 247, 'death': 248, 'open': 249, 'murder': 250, 'write': 251, 'half': 252, 'head': 253, 'rememb': 254, 'chang': 255, 'viewer': 256, 'fight': 257, 'gener': 258, 'surpris': 259, 'short': 260, 'includ': 261, 'die': 262, 'fall': 263, 'less': 264, 'els': 265, 'entir': 266, 'piec': 267, 'involv': 268, 'pictur': 269, 'simpli': 270, 'power': 271, 'top': 272, 'home': 273, 'total': 274, 'usual': 275, 'budget': 276, 'attempt': 277, 'suppos': 278, 'releas': 279, 'hollywood': 280, 'terribl': 281, 'song': 282, 'men': 283, 'possibl': 284, 'featur': 285, 'portray': 286, 'disappoint': 287, 'poor': 288, '3': 289, 'coupl': 290, 'camera': 291, 'stupid': 292, 'dead': 293, 'wrong': 294, 'produc': 295, 'low': 296, 'video': 297, 'either': 298, 'aw': 299, 'definit': 300, 'except': 301, 'rest': 302, 'given': 303, 'absolut': 304, 'women': 305, 'lack': 306, 'word': 307, 'writer': 308, 'titl': 309, 'talent': 310, 'decid': 311, 'full': 312, 'perfect': 313, 'along': 314, 'style': 315, 'close': 316, 'truli': 317, 'school': 318, 'save': 319, 'emot': 320, 'age': 321, 'sex': 322, 'next': 323, 'bring': 324, 'mr': 325, 'case': 326, 'killer': 327, 'heart': 328, 'comment': 329, 'sort': 330, 'creat': 331, 'perhap': 332, 'came': 333, 'brother': 334, 'sever': 335, 'joke': 336, 'art': 337, 'dialogu': 338, 'game': 339, 'small': 340, 'base': 341, 'flick': 342, 'written': 343, 'sequenc': 344, 'meet': 345, 'earli': 346, 'often': 347, 'other': 348, 'mother': 349, 'develop': 350, 'humor': 351, 'actress': 352, 'consid': 353, 'dark': 354, 'guess': 355, 'amaz': 356, 'unfortun': 357, 'light': 358, 'lost': 359, 'exampl': 360, 'cinema': 361, 'drama': 362, 'ye': 363, 'white': 364, 'experi': 365, 'imagin': 366, 'mention': 367, 'stop': 368, 'natur': 369, 'forc': 370, 'manag': 371, 'felt': 372, 'present': 373, 'cut': 374, 'children': 375, 'fail': 376, 'son': 377, 'support': 378, 'car': 379, 'qualiti': 380, 'ask': 381, 'hit': 382, 'side': 383, 'voic': 384, 'extrem': 385, 'impress': 386, 'wors': 387, 'evil': 388, 'stand': 389, 'went': 390, 'certainli': 391, 'basic': 392, 'oh': 393, 'overal': 394, 'favorit': 395, 'horribl': 396, 'mysteri': 397, 'number': 398, 'type': 399, 'danc': 400, 'wait': 401, 'hero': 402, 'alreadi': 403, '5': 404, 'learn': 405, 'matter': 406, '4': 407, 'michael': 408, 'genr': 409, 'fine': 410, 'despit': 411, 'throughout': 412, 'walk': 413, 'success': 414, 'histori': 415, 'question': 416, 'zombi': 417, 'town': 418, 'relationship': 419, 'realiz': 420, 'child': 421, 'past': 422, 'daughter': 423, 'late': 424, 'b': 425, 'wish': 426, 'hate': 427, 'credit': 428, 'event': 429, 'theme': 430, 'touch': 431, 'citi': 432, 'today': 433, 'sometim': 434, 'behind': 435, 'god': 436, 'twist': 437, 'sit': 438, 'deal': 439, 'stay': 440, 'annoy': 441, 'abl': 442, 'rent': 443, 'pleas': 444, 'edit': 445, 'blood': 446, 'deserv': 447, 'anyway': 448, 'comic': 449, 'appar': 450, 'soon': 451, 'gave': 452, 'etc': 453, 'level': 454, 'slow': 455, 'chanc': 456, 'score': 457, 'bodi': 458, 'brilliant': 459, 'incred': 460, 'figur': 461, 'situat': 462, 'major': 463, 'self': 464, 'stuff': 465, 'decent': 466, 'element': 467, 'return': 468, 'dream': 469, 'obvious': 470, 'continu': 471, 'order': 472, 'pace': 473, 'ridicul': 474, 'happi': 475, 'add': 476, 'group': 477, 'highli': 478, 'thank': 479, 'ladi': 480, 'novel': 481, 'speak': 482, 'pain': 483, 'career': 484, 'shoot': 485, 'strang': 486, 'heard': 487, 'sad': 488, 'husband': 489, 'polic': 490, 'import': 491, 'break': 492, 'took': 493, 'strong': 494, 'cannot': 495, 'robert': 496, 'predict': 497, 'violenc': 498, 'hilari': 499, 'recent': 500, 'countri': 501, 'known': 502, 'particularli': 503, 'pick': 504, 'documentari': 505, 'season': 506, 'critic': 507, 'jame': 508, 'compar': 509, 'alon': 510, 'obviou': 511, 'told': 512, 'state': 513, 'rock': 514, 'visual': 515, 'theater': 516, 'exist': 517, 'offer': 518, 'opinion': 519, 'gore': 520, 'crap': 521, 'hold': 522, 'result': 523, 'realiti': 524, 'room': 525, 'hear': 526, 'effort': 527, 'clich': 528, 'thriller': 529, 'caus': 530, 'explain': 531, 'serious': 532, 'sequel': 533, 'king': 534, 'local': 535, 'ago': 536, 'hell': 537, 'none': 538, 'note': 539, 'allow': 540, 'sister': 541, 'david': 542, 'simpl': 543, 'femal': 544, 'deliv': 545, 'ok': 546, 'convinc': 547, 'class': 548, 'check': 549, 'suspens': 550, 'win': 551, 'oscar': 552, 'buy': 553, 'huge': 554, 'valu': 555, 'sexual': 556, 'cool': 557, 'scari': 558, 'similar': 559, 'excit': 560, 'exactli': 561, 'provid': 562, 'apart': 563, 'avoid': 564, 'shown': 565, 'seriou': 566, 'english': 567, 'taken': 568, 'whose': 569, 'cinematographi': 570, 'shock': 571, 'polit': 572, 'spoiler': 573, 'offic': 574, 'across': 575, 'middl': 576, 'pass': 577, 'street': 578, 'messag': 579, 'somewhat': 580, 'charm': 581, 'silli': 582, 'modern': 583, 'filmmak': 584, 'confus': 585, 'form': 586, 'tale': 587, 'singl': 588, 'jack': 589, 'mostli': 590, 'william': 591, 'carri': 592, 'attent': 593, 'sing': 594, 'subject': 595, 'five': 596, 'richard': 597, 'prove': 598, 'stage': 599, 'team': 600, 'unlik': 601, 'cop': 602, 'georg': 603, 'monster': 604, 'televis': 605, 'earth': 606, 'villain': 607, 'cover': 608, 'pay': 609, 'marri': 610, 'toward': 611, 'build': 612, 'pull': 613, 'parent': 614, 'due': 615, 'respect': 616, 'fill': 617, 'dialog': 618, 'four': 619, 'remind': 620, 'futur': 621, 'typic': 622, 'weak': 623, '7': 624, 'cheap': 625, 'intellig': 626, 'atmospher': 627, 'british': 628, '80': 629, 'clearli': 630, 'paul': 631, 'non': 632, 'dog': 633, 'knew': 634, 'artist': 635, '8': 636, 'fast': 637, 'crime': 638, 'easili': 639, 'escap': 640, 'doubt': 641, 'adult': 642, 'detail': 643, 'date': 644, 'member': 645, 'fire': 646, 'romant': 647, 'drive': 648, 'gun': 649, 'straight': 650, 'beyond': 651, 'fit': 652, 'attack': 653, 'imag': 654, 'upon': 655, 'posit': 656, 'whether': 657, 'fantast': 658, 'peter': 659, 'captur': 660, 'appreci': 661, 'aspect': 662, 'ten': 663, 'plan': 664, 'discov': 665, 'remain': 666, 'near': 667, 'period': 668, 'air': 669, 'realist': 670, 'mark': 671, 'red': 672, 'dull': 673, 'adapt': 674, 'within': 675, 'spend': 676, 'lose': 677, 'color': 678, 'materi': 679, 'chase': 680, 'mari': 681, 'storylin': 682, 'forget': 683, 'bunch': 684, 'clear': 685, 'lee': 686, 'victim': 687, 'nearli': 688, 'box': 689, 'york': 690, 'inspir': 691, 'match': 692, 'mess': 693, 'finish': 694, 'standard': 695, 'easi': 696, 'truth': 697, 'busi': 698, 'suffer': 699, 'dramat': 700, 'space': 701, 'bill': 702, 'western': 703, 'e': 704, 'list': 705, 'battl': 706, 'notic': 707, 'de': 708, 'french': 709, 'ad': 710, '9': 711, 'tom': 712, 'larg': 713, 'among': 714, 'eventu': 715, 'accept': 716, 'train': 717, 'agre': 718, 'spirit': 719, 'soundtrack': 720, 'third': 721, 'teenag': 722, 'adventur': 723, 'soldier': 724, 'sorri': 725, 'suggest': 726, 'famou': 727, 'drug': 728, 'normal': 729, 'cri': 730, 'babi': 731, 'ultim': 732, 'troubl': 733, 'contain': 734, 'certain': 735, 'cultur': 736, 'romanc': 737, 'rare': 738, 'lame': 739, 'somehow': 740, 'mix': 741, 'disney': 742, 'gone': 743, 'cartoon': 744, 'student': 745, 'fear': 746, 'reveal': 747, 'suck': 748, 'kept': 749, 'attract': 750, 'appeal': 751, 'premis': 752, 'secret': 753, 'greatest': 754, 'design': 755, 'shame': 756, 'throw': 757, 'scare': 758, 'copi': 759, 'wit': 760, 'admit': 761, 'america': 762, 'particular': 763, 'relat': 764, 'brought': 765, 'screenplay': 766, 'whatev': 767, 'pure': 768, '70': 769, 'harri': 770, 'averag': 771, 'master': 772, 'describ': 773, 'treat': 774, 'male': 775, '20': 776, 'fantasi': 777, 'issu': 778, 'warn': 779, 'inde': 780, 'forward': 781, 'background': 782, 'project': 783, 'free': 784, 'japanes': 785, 'memor': 786, 'poorli': 787, 'award': 788, 'locat': 789, 'potenti': 790, 'amus': 791, 'struggl': 792, 'magic': 793, 'weird': 794, 'societi': 795, 'okay': 796, 'imdb': 797, 'doctor': 798, 'accent': 799, 'water': 800, 'hot': 801, '30': 802, 'express': 803, 'alien': 804, 'dr': 805, 'odd': 806, 'crazi': 807, 'choic': 808, 'fiction': 809, 'studio': 810, 'control': 811, 'becam': 812, 'masterpiec': 813, 'fli': 814, 'difficult': 815, 'joe': 816, 'scream': 817, 'costum': 818, 'lover': 819, 'refer': 820, 'uniqu': 821, 'remak': 822, 'vampir': 823, 'girlfriend': 824, 'prison': 825, 'execut': 826, 'wear': 827, 'jump': 828, 'wood': 829, 'unless': 830, 'creepi': 831, 'cheesi': 832, 'superb': 833, 'otherwis': 834, 'parti': 835, 'ghost': 836, 'roll': 837, 'mad': 838, 'public': 839, 'depict': 840, 'earlier': 841, 'badli': 842, 'moral': 843, 'jane': 844, 'week': 845, 'dumb': 846, 'fi': 847, 'flaw': 848, 'grow': 849, 'deep': 850, 'sci': 851, 'maker': 852, 'cat': 853, 'footag': 854, 'connect': 855, 'older': 856, 'bother': 857, 'plenti': 858, 'outsid': 859, 'stick': 860, 'gay': 861, 'catch': 862, 'plu': 863, 'co': 864, 'popular': 865, 'equal': 866, 'social': 867, 'disturb': 868, 'quickli': 869, 'perfectli': 870, 'dress': 871, '90': 872, 'era': 873, 'mistak': 874, 'lie': 875, 'ride': 876, 'previou': 877, 'combin': 878, 'concept': 879, 'band': 880, 'answer': 881, 'rich': 882, 'surviv': 883, 'front': 884, 'christma': 885, 'sweet': 886, 'insid': 887, 'concern': 888, 'eat': 889, 'bare': 890, 'beat': 891, 'listen': 892, 'ben': 893, 'c': 894, 'term': 895, 'serv': 896, 'meant': 897, 'la': 898, 'german': 899, 'hardli': 900, 'stereotyp': 901, 'innoc': 902, 'law': 903, 'desper': 904, 'memori': 905, 'promis': 906, 'cute': 907, 'intent': 908, 'inform': 909, 'variou': 910, 'steal': 911, 'brain': 912, 'post': 913, 'tone': 914, 'island': 915, 'amount': 916, 'compani': 917, 'track': 918, 'nuditi': 919, 'claim': 920, 'store': 921, 'hair': 922, 'flat': 923, '50': 924, 'univers': 925, 'land': 926, 'kick': 927, 'fairli': 928, 'danger': 929, 'scott': 930, 'player': 931, 'plain': 932, 'step': 933, 'crew': 934, 'toni': 935, 'share': 936, 'centuri': 937, 'tast': 938, 'achiev': 939, 'engag': 940, 'travel': 941, 'cold': 942, 'rip': 943, 'record': 944, 'suit': 945, 'manner': 946, 'sadli': 947, 'wrote': 948, 'spot': 949, 'tension': 950, 'intens': 951, 'fascin': 952, 'familiar': 953, 'burn': 954, 'remark': 955, 'depth': 956, 'histor': 957, 'destroy': 958, 'sleep': 959, 'purpos': 960, 'languag': 961, 'ruin': 962, 'ignor': 963, 'delight': 964, 'italian': 965, 'unbeliev': 966, 'abil': 967, 'collect': 968, 'soul': 969, 'detect': 970, 'clever': 971, 'violent': 972, 'rape': 973, 'reach': 974, 'door': 975, 'liter': 976, 'trash': 977, 'scienc': 978, 'reveng': 979, 'commun': 980, 'caught': 981, 'creatur': 982, 'approach': 983, 'trip': 984, 'fashion': 985, 'intrigu': 986, 'introduc': 987, 'skill': 988, 'paint': 989, 'channel': 990, 'complex': 991, 'camp': 992, 'christian': 993, 'extra': 994, 'hole': 995, 'mental': 996, 'immedi': 997, 'limit': 998, 'ann': 999, 'comput': 1000, 'slightli': 1001, 'million': 1002, 'mere': 1003, '6': 1004, 'slasher': 1005, 'conclus': 1006, 'suddenli': 1007, 'imposs': 1008, 'crimin': 1009, 'teen': 1010, 'neither': 1011, 'physic': 1012, 'nation': 1013, 'spent': 1014, 'respons': 1015, 'planet': 1016, 'receiv': 1017, 'fake': 1018, 'sick': 1019, 'blue': 1020, 'bizarr': 1021, 'embarrass': 1022, 'indian': 1023, 'ring': 1024, '15': 1025, 'drop': 1026, 'pop': 1027, 'drag': 1028, 'haunt': 1029, 'suspect': 1030, 'pointless': 1031, 'search': 1032, 'edg': 1033, 'handl': 1034, 'common': 1035, 'biggest': 1036, 'faith': 1037, 'arriv': 1038, 'hurt': 1039, 'technic': 1040, 'angel': 1041, 'genuin': 1042, 'dad': 1043, 'solid': 1044, 'f': 1045, 'awesom': 1046, 'colleg': 1047, 'focu': 1048, 'van': 1049, 'former': 1050, 'count': 1051, 'tear': 1052, 'heavi': 1053, 'wall': 1054, 'rais': 1055, 'visit': 1056, 'younger': 1057, 'laughabl': 1058, 'excus': 1059, 'sign': 1060, 'fair': 1061, 'cult': 1062, 'motion': 1063, 'tough': 1064, 'key': 1065, 'super': 1066, 'desir': 1067, 'stun': 1068, 'addit': 1069, 'exploit': 1070, 'cloth': 1071, 'tortur': 1072, 'smith': 1073, 'davi': 1074, 'race': 1075, 'author': 1076, 'cross': 1077, 'jim': 1078, 'consist': 1079, 'minor': 1080, 'focus': 1081, 'compel': 1082, 'pathet': 1083, 'chemistri': 1084, 'commit': 1085, 'park': 1086, 'obsess': 1087, 'tradit': 1088, 'frank': 1089, 'grade': 1090, '60': 1091, 'asid': 1092, 'brutal': 1093, 'somewher': 1094, 'steve': 1095, 'rule': 1096, 'u': 1097, 'depress': 1098, 'grant': 1099, 'explor': 1100, 'opportun': 1101, 'honest': 1102, 'besid': 1103, 'dub': 1104, 'anti': 1105, 'trailer': 1106, 'intend': 1107, 'bar': 1108, 'scientist': 1109, 'longer': 1110, 'regard': 1111, 'west': 1112, 'judg': 1113, 'decad': 1114, 'silent': 1115, 'creativ': 1116, 'armi': 1117, 'wild': 1118, 'south': 1119, 'g': 1120, 'stewart': 1121, 'draw': 1122, 'road': 1123, 'govern': 1124, 'ex': 1125, 'boss': 1126, 'practic': 1127, 'festiv': 1128, 'motiv': 1129, 'surprisingli': 1130, 'gang': 1131, 'club': 1132, 'redeem': 1133, 'london': 1134, 'green': 1135, 'page': 1136, 'idiot': 1137, 'machin': 1138, 'display': 1139, 'militari': 1140, 'aliv': 1141, 'thrill': 1142, 'repeat': 1143, '100': 1144, 'nobodi': 1145, 'yeah': 1146, 'folk': 1147, '40': 1148, 'journey': 1149, 'garbag': 1150, 'ground': 1151, 'tire': 1152, 'smile': 1153, 'mood': 1154, 'bought': 1155, 'sam': 1156, 'stone': 1157, 'cost': 1158, 'mouth': 1159, 'noir': 1160, 'terrif': 1161, 'agent': 1162, 'utterli': 1163, 'requir': 1164, 'area': 1165, 'honestli': 1166, 'sexi': 1167, 'report': 1168, 'geniu': 1169, 'glad': 1170, 'enter': 1171, 'humour': 1172, 'investig': 1173, 'serial': 1174, 'occasion': 1175, 'passion': 1176, 'narr': 1177, 'climax': 1178, 'marriag': 1179, 'studi': 1180, 'industri': 1181, 'nowher': 1182, 'charli': 1183, 'ship': 1184, 'demon': 1185, 'center': 1186, 'hors': 1187, 'loos': 1188, 'bear': 1189, 'hang': 1190, 'wow': 1191, 'graphic': 1192, 'admir': 1193, 'giant': 1194, 'send': 1195, 'damn': 1196, 'loud': 1197, 'nake': 1198, 'subtl': 1199, 'profession': 1200, 'rel': 1201, 'blow': 1202, 'bottom': 1203, 'insult': 1204, 'batman': 1205, 'doubl': 1206, 'boyfriend': 1207, 'r': 1208, 'kelli': 1209, 'initi': 1210, 'frame': 1211, 'gem': 1212, 'opera': 1213, 'cinemat': 1214, 'drawn': 1215, 'challeng': 1216, 'church': 1217, 'affect': 1218, 'j': 1219, 'l': 1220, 'evid': 1221, 'seek': 1222, 'fulli': 1223, 'nightmar': 1224, 'essenti': 1225, 'arm': 1226, 'conflict': 1227, 'christoph': 1228, 'grace': 1229, 'wind': 1230, 'henri': 1231, 'witch': 1232, 'assum': 1233, 'narrat': 1234, 'push': 1235, 'hunt': 1236, 'chri': 1237, 'wise': 1238, 'nomin': 1239, 'repres': 1240, 'month': 1241, 'hide': 1242, 'avail': 1243, 'sceneri': 1244, 'affair': 1245, 'justic': 1246, 'thu': 1247, 'smart': 1248, 'bond': 1249, 'outstand': 1250, 'interview': 1251, 'flashback': 1252, 'constantli': 1253, 'satisfi': 1254, 'presenc': 1255, 'bed': 1256, 'central': 1257, 'sell': 1258, 'iron': 1259, 'content': 1260, 'gag': 1261, 'everybodi': 1262, 'slowli': 1263, 'hotel': 1264, 'hire': 1265, 'system': 1266, 'hey': 1267, 'thrown': 1268, 'individu': 1269, 'charl': 1270, 'adam': 1271, 'jone': 1272, 'mediocr': 1273, 'allen': 1274, 'lesson': 1275, 'ray': 1276, 'billi': 1277, 'photographi': 1278, 'cameo': 1279, 'fellow': 1280, 'pari': 1281, 'strike': 1282, 'absurd': 1283, 'rise': 1284, 'brief': 1285, 'independ': 1286, 'neg': 1287, 'phone': 1288, 'impact': 1289, 'model': 1290, 'born': 1291, 'ill': 1292, 'spoil': 1293, 'angl': 1294, 'fresh': 1295, 'abus': 1296, 'likabl': 1297, 'discuss': 1298, 'hill': 1299, 'sight': 1300, 'ahead': 1301, 'sent': 1302, 'photograph': 1303, 'shine': 1304, 'logic': 1305, 'occur': 1306, 'blame': 1307, 'mainli': 1308, 'bruce': 1309, 'forev': 1310, 'skip': 1311, 'commerci': 1312, 'teacher': 1313, 'held': 1314, 'surround': 1315, 'segment': 1316, 'blond': 1317, 'zero': 1318, 'trap': 1319, 'resembl': 1320, 'summer': 1321, 'satir': 1322, 'ball': 1323, 'queen': 1324, 'six': 1325, 'fool': 1326, 'sub': 1327, 'tragedi': 1328, 'twice': 1329, 'pack': 1330, 'reaction': 1331, 'bomb': 1332, 'hospit': 1333, 'will': 1334, 'protagonist': 1335, 'sport': 1336, 'mile': 1337, 'trust': 1338, 'vote': 1339, 'drink': 1340, 'mom': 1341, 'jerri': 1342, 'encount': 1343, 'plane': 1344, 'station': 1345, 'program': 1346, 'al': 1347, 'current': 1348, 'celebr': 1349, 'martin': 1350, 'choos': 1351, 'join': 1352, 'tragic': 1353, 'favourit': 1354, 'field': 1355, 'round': 1356, 'lord': 1357, 'vision': 1358, 'jean': 1359, 'robot': 1360, 'tie': 1361, 'arthur': 1362, 'random': 1363, 'fortun': 1364, 'roger': 1365, 'psycholog': 1366, 'dread': 1367, 'intern': 1368, 'improv': 1369, 'epic': 1370, 'nonsens': 1371, 'prefer': 1372, 'formula': 1373, 'legend': 1374, 'highlight': 1375, 'pleasur': 1376, '11': 1377, 'tape': 1378, 'dollar': 1379, 'gorgeou': 1380, 'porn': 1381, 'object': 1382, 'thin': 1383, 'wide': 1384, 'fox': 1385, 'influenc': 1386, 'ugli': 1387, 'buddi': 1388, 'ii': 1389, 'nasti': 1390, 'prepar': 1391, 'reflect': 1392, 'progress': 1393, 'supposedli': 1394, 'warm': 1395, 'worthi': 1396, 'youth': 1397, 'length': 1398, 'unusu': 1399, 'latter': 1400, 'crash': 1401, 'seven': 1402, 'shop': 1403, 'childhood': 1404, 'superior': 1405, 'remot': 1406, 'theatr': 1407, 'paid': 1408, 'disgust': 1409, 'funniest': 1410, 'pilot': 1411, 'castl': 1412, 'fell': 1413, 'convers': 1414, 'trick': 1415, 'rob': 1416, 'establish': 1417, 'disast': 1418, 'gangster': 1419, 'heaven': 1420, 'mine': 1421, 'suicid': 1422, 'disappear': 1423, 'ident': 1424, 'tend': 1425, 'decis': 1426, 'mask': 1427, 'heroin': 1428, 'forgotten': 1429, 'singer': 1430, 'partner': 1431, 'brian': 1432, 'recogn': 1433, 'alan': 1434, 'desert': 1435, 'thoroughli': 1436, 'ms': 1437, 'stuck': 1438, 'p': 1439, 'sky': 1440, 'replac': 1441, 'accur': 1442, 'market': 1443, 'seemingli': 1444, 'danni': 1445, 'andi': 1446, 'commentari': 1447, 'uncl': 1448, 'eddi': 1449, 'clue': 1450, 'jackson': 1451, 'devil': 1452, 'therefor': 1453, 'that': 1454, 'refus': 1455, 'pair': 1456, 'unit': 1457, 'fault': 1458, 'ed': 1459, 'accid': 1460, 'river': 1461, 'fate': 1462, 'tune': 1463, 'afraid': 1464, 'stephen': 1465, 'clean': 1466, 'hidden': 1467, 'russian': 1468, 'test': 1469, 'quick': 1470, 'instanc': 1471, 'irrit': 1472, 'convey': 1473, 'readi': 1474, 'captain': 1475, 'european': 1476, 'insan': 1477, 'frustrat': 1478, 'daniel': 1479, 'wed': 1480, 'chines': 1481, '1950': 1482, 'food': 1483, 'rescu': 1484, 'angri': 1485, 'dirti': 1486, 'lock': 1487, 'joy': 1488, 'steven': 1489, 'price': 1490, 'cage': 1491, 'bland': 1492, 'rang': 1493, 'anymor': 1494, 'wooden': 1495, 'rush': 1496, 'jason': 1497, 'n': 1498, 'news': 1499, 'board': 1500, 'martial': 1501, 'twenti': 1502, '12': 1503, 'led': 1504, 'worri': 1505, 'transform': 1506, 'symbol': 1507, 'hunter': 1508, 'cgi': 1509, 'x': 1510, 'piti': 1511, 'onto': 1512, 'sentiment': 1513, 'johnni': 1514, 'invent': 1515, 'process': 1516, 'explan': 1517, 'attitud': 1518, 'awar': 1519, 'owner': 1520, 'aim': 1521, 'favor': 1522, 'floor': 1523, 'target': 1524, 'energi': 1525, 'necessari': 1526, 'religi': 1527, 'opposit': 1528, 'blind': 1529, 'window': 1530, 'chick': 1531, 'insight': 1532, 'movement': 1533, 'mountain': 1534, 'comparison': 1535, 'research': 1536, 'deepli': 1537, 'possess': 1538, 'grand': 1539, 'comed': 1540, 'whatsoev': 1541, 'rain': 1542, 'began': 1543, 'bank': 1544, 'mid': 1545, 'shadow': 1546, 'parodi': 1547, 'princ': 1548, 'pre': 1549, 'taylor': 1550, 'friendship': 1551, 'credibl': 1552, 'weapon': 1553, 'teach': 1554, 'flesh': 1555, 'dougla': 1556, 'bloodi': 1557, 'hint': 1558, 'protect': 1559, 'terror': 1560, 'marvel': 1561, 'drunk': 1562, 'accord': 1563, 'load': 1564, 'leader': 1565, 'anybodi': 1566, 'superman': 1567, 'watchabl': 1568, 'freddi': 1569, 'brown': 1570, 'hitler': 1571, 'seat': 1572, 'tim': 1573, 'appropri': 1574, 'jeff': 1575, 'charg': 1576, 'knock': 1577, 'villag': 1578, 'unknown': 1579, 'keaton': 1580, 'enemi': 1581, 'unnecessari': 1582, 'england': 1583, 'media': 1584, 'empti': 1585, 'buck': 1586, 'wave': 1587, 'craft': 1588, 'perspect': 1589, 'utter': 1590, 'strength': 1591, 'dare': 1592, 'contrast': 1593, 'correct': 1594, 'kiss': 1595, 'nativ': 1596, 'ford': 1597, 'knowledg': 1598, 'magnific': 1599, 'nazi': 1600, 'anywher': 1601, 'distract': 1602, 'speed': 1603, 'soap': 1604, 'chill': 1605, 'ice': 1606, '1980': 1607, 'mission': 1608, 'breath': 1609, 'fred': 1610, 'crowd': 1611, 'moon': 1612, 'jr': 1613, 'joan': 1614, 'kate': 1615, 'soft': 1616, '000': 1617, 'frighten': 1618, 'hundr': 1619, 'dick': 1620, 'dan': 1621, 'nick': 1622, 'somebodi': 1623, 'simon': 1624, 'dozen': 1625, 'radio': 1626, 'academi': 1627, 'thousand': 1628, 'loss': 1629, 'shakespear': 1630, 'andrew': 1631, 'sum': 1632, 'quot': 1633, 'root': 1634, 'account': 1635, 'vehicl': 1636, 'leg': 1637, 'convent': 1638, 'behavior': 1639, '1970': 1640, 'regular': 1641, 'gold': 1642, 'worker': 1643, 'pretenti': 1644, 'demand': 1645, 'compet': 1646, 'stretch': 1647, 'privat': 1648, 'lynch': 1649, 'interpret': 1650, 'japan': 1651, 'candi': 1652, 'notabl': 1653, 'explos': 1654, 'debut': 1655, 'constant': 1656, 'tarzan': 1657, 'prais': 1658, 'spi': 1659, 'sea': 1660, 'translat': 1661, 'revolv': 1662, 'sat': 1663, 'ass': 1664, 'franc': 1665, 'quiet': 1666, 'jesu': 1667, 'failur': 1668, 'threaten': 1669, 'technolog': 1670, 'toy': 1671, 'higher': 1672, 'met': 1673, 'aid': 1674, 'kevin': 1675, 'punch': 1676, 'vh': 1677, 'abandon': 1678, 'mike': 1679, 'interact': 1680, 'confront': 1681, 'command': 1682, 'bet': 1683, 'separ': 1684, 'servic': 1685, 'gotten': 1686, 'site': 1687, 'techniqu': 1688, 'belong': 1689, 'stunt': 1690, 'recal': 1691, 'foot': 1692, 'freak': 1693, 'cabl': 1694, 'bug': 1695, 'jimmi': 1696, 'african': 1697, 'capabl': 1698, 'fu': 1699, 'bright': 1700, 'succeed': 1701, 'stock': 1702, 'fat': 1703, 'clark': 1704, 'presid': 1705, 'boat': 1706, 'spanish': 1707, 'structur': 1708, 'gene': 1709, 'kidnap': 1710, 'paper': 1711, 'belief': 1712, 'factor': 1713, 'whilst': 1714, 'educ': 1715, 'attend': 1716, 'realism': 1717, 'realis': 1718, 'tree': 1719, 'bob': 1720, 'complic': 1721, 'witti': 1722, 'finest': 1723, 'assist': 1724, 'santa': 1725, 'broken': 1726, 'observ': 1727, 'smoke': 1728, 'depart': 1729, 'determin': 1730, 'up': 1731, 'v': 1732, 'lewi': 1733, 'fame': 1734, 'domin': 1735, 'oper': 1736, 'routin': 1737, 'rubbish': 1738, 'hat': 1739, 'kinda': 1740, 'lone': 1741, 'foreign': 1742, 'safe': 1743, 'morgan': 1744, 'advanc': 1745, 'hook': 1746, 'rank': 1747, 'numer': 1748, 'civil': 1749, 'werewolf': 1750, 'shallow': 1751, 'vs': 1752, 'shape': 1753, 'rose': 1754, 'washington': 1755, 'gari': 1756, 'morn': 1757, 'kong': 1758, 'accomplish': 1759, 'winner': 1760, 'ordinari': 1761, 'grab': 1762, 'peac': 1763, 'whenev': 1764, 'virtual': 1765, 'luck': 1766, 'offens': 1767, 'h': 1768, 'welcom': 1769, 'activ': 1770, 'contriv': 1771, 'unfunni': 1772, 'patient': 1773, 'complain': 1774, 'bigger': 1775, 'con': 1776, 'dimension': 1777, 'trek': 1778, 'pretend': 1779, 'eric': 1780, 'dri': 1781, 'wake': 1782, 'cain': 1783, 'lesbian': 1784, 'code': 1785, 'flash': 1786, 'albert': 1787, 'manipul': 1788, 'corrupt': 1789, 'dancer': 1790, 'guard': 1791, 'statu': 1792, 'speech': 1793, 'sourc': 1794, 'gain': 1795, 'signific': 1796, 'awkward': 1797, 'context': 1798, 'anthoni': 1799, 'sean': 1800, '13': 1801, 'psycho': 1802, 'clip': 1803, 'corni': 1804, 'priest': 1805, 'curiou': 1806, 'w': 1807, 'advic': 1808, 'theatric': 1809, 'religion': 1810, 'reli': 1811, 'flow': 1812, 'addict': 1813, 'howard': 1814, 'specif': 1815, 'asian': 1816, 'jennif': 1817, 'skin': 1818, 'secur': 1819, 'organ': 1820, 'luke': 1821, 'promot': 1822, 'golden': 1823, 'comfort': 1824, 'core': 1825, 'lucki': 1826, 'cash': 1827, 'cheat': 1828, 'associ': 1829, 'lower': 1830, 'dislik': 1831, 'regret': 1832, 'balanc': 1833, 'spell': 1834, 'degre': 1835, 'frankli': 1836, 'wing': 1837, 'contribut': 1838, 'devic': 1839, 'frequent': 1840, 'print': 1841, 'forgiv': 1842, 'lake': 1843, 'sake': 1844, 'thoma': 1845, 'mass': 1846, 'betti': 1847, 'crack': 1848, 'gordon': 1849, 'unexpect': 1850, 'categori': 1851, 'depend': 1852, 'grown': 1853, 'amateur': 1854, 'construct': 1855, 'unfold': 1856, 'invit': 1857, 'anna': 1858, 'grew': 1859, 'honor': 1860, 'condit': 1861, 'intellectu': 1862, 'matur': 1863, 'walter': 1864, 'spectacular': 1865, 'sudden': 1866, 'mirror': 1867, 'veteran': 1868, 'sole': 1869, 'demonstr': 1870, 'robin': 1871, 'meanwhil': 1872, 'liner': 1873, 'overli': 1874, 'card': 1875, 'freedom': 1876, 'gift': 1877, 'grip': 1878, 'experienc': 1879, 'sheriff': 1880, 'drew': 1881, 'section': 1882, 'crappi': 1883, 'unabl': 1884, 'circumst': 1885, 'brilliantli': 1886, 'oliv': 1887, 'subtitl': 1888, 'colour': 1889, 'theori': 1890, 'parker': 1891, 'pile': 1892, 'laughter': 1893, 'altern': 1894, 'path': 1895, 'cook': 1896, 'matt': 1897, 'sheer': 1898, 'wander': 1899, 'hall': 1900, 'treatment': 1901, 'accident': 1902, 'relief': 1903, 'lawyer': 1904, 'defin': 1905, 'sinatra': 1906, 'captiv': 1907, 'dragon': 1908, 'hank': 1909, 'halloween': 1910, 'gratuit': 1911, 'moor': 1912, 'jacki': 1913, 'wound': 1914, 'unintent': 1915, 'broadway': 1916, 'wayn': 1917, 'barbara': 1918, 'kung': 1919, 'k': 1920, 'cowboy': 1921, 'winter': 1922, 'spoof': 1923, 'surreal': 1924, 'statement': 1925, 'canadian': 1926, 'treasur': 1927, 'cheer': 1928, 'compos': 1929, 'fare': 1930, 'gonna': 1931, 'fish': 1932, 'emerg': 1933, 'woodi': 1934, 'sensit': 1935, 'victor': 1936, 'unrealist': 1937, 'driven': 1938, 'ran': 1939, 'neighbor': 1940, 'sympathet': 1941, 'menac': 1942, 'authent': 1943, 'glass': 1944, 'overlook': 1945, 'expos': 1946, 'topic': 1947, 'gross': 1948, 'ancient': 1949, 'handsom': 1950, 'michel': 1951, 'chief': 1952, 'pleasant': 1953, 'nevertheless': 1954, 'contemporari': 1955, 'feet': 1956, 'stranger': 1957, 'comedian': 1958, 'cinderella': 1959, 'russel': 1960, 'built': 1961, 'network': 1962, 'letter': 1963, 'blockbust': 1964, 'consider': 1965, 'gori': 1966, 'earn': 1967, 'underr': 1968, 'endless': 1969, 'miser': 1970, 'brook': 1971, 'solv': 1972, 'switch': 1973, 'edward': 1974, 'virgin': 1975, 'joseph': 1976, 'bullet': 1977, 'convict': 1978, 'victoria': 1979, 'scenario': 1980, '0': 1981, 'chosen': 1982, 'alex': 1983, 'cynic': 1984, 'scale': 1985, 'gut': 1986, 'curs': 1987, 'com': 1988, 'outrag': 1989, 'sword': 1990, 'proper': 1991, 'juli': 1992, 'uk': 1993, 'monkey': 1994, 'driver': 1995, 'substanc': 1996, 'wrap': 1997, 'screenwrit': 1998, 'par': 1999, 'bird': 2000, 'remov': 2001, 'indic': 2002, 'court': 2003, 'grave': 2004, 'inevit': 2005, 'consequ': 2006, 'advertis': 2007, 'roy': 2008, 'loser': 2009, 'rental': 2010, 'naiv': 2011, 'nanci': 2012, 'brave': 2013, 'slap': 2014, 'fatal': 2015, 'bridg': 2016, 'germani': 2017, 'le': 2018, 'invis': 2019, 'footbal': 2020, 'anger': 2021, 'ador': 2022, 'loui': 2023, 'provok': 2024, 'chan': 2025, 'anderson': 2026, 'alcohol': 2027, 'professor': 2028, 'ryan': 2029, 'willi': 2030, 'stumbl': 2031, 'assassin': 2032, 'sharp': 2033, 'patrick': 2034, '1930': 2035, 'bat': 2036, 'australian': 2037, 'amateurish': 2038, 'trilog': 2039, 'eight': 2040, 'refresh': 2041, 'heck': 2042, 'liber': 2043, 'lousi': 2044, 'deni': 2045, 'cell': 2046, 'strongli': 2047, 'ape': 2048, 'saturday': 2049, 'sin': 2050, 'san': 2051, 'resid': 2052, 'vagu': 2053, 'justifi': 2054, 'mini': 2055, 'creator': 2056, 'reput': 2057, 'indi': 2058, 'terrifi': 2059, 'defeat': 2060, 'sympathi': 2061, 'prevent': 2062, 'tabl': 2063, 'expert': 2064, 'tediou': 2065, 'endur': 2066, 'task': 2067, 'employ': 2068, 'trial': 2069, 'imit': 2070, 'rival': 2071, 'offend': 2072, 'basebal': 2073, 'che': 2074, 'max': 2075, 'pitch': 2076, 'complaint': 2077, 'weekend': 2078, 'beach': 2079, 'dig': 2080, 'fairi': 2081, 'europ': 2082, 'risk': 2083, 'murphi': 2084, 'purchas': 2085, 'format': 2086, 'titan': 2087, 'hype': 2088, 'glimps': 2089, 'bite': 2090, 'powel': 2091, 'harsh': 2092, 'nois': 2093, 'reminisc': 2094, 'tini': 2095, 'north': 2096, 'till': 2097, 'fals': 2098, 'asleep': 2099, 'prime': 2100, '14': 2101, 'strip': 2102, 'revel': 2103, 'destruct': 2104, 'descript': 2105, 'texa': 2106, 'africa': 2107, 'uninterest': 2108, 'inner': 2109, 'spin': 2110, 'excess': 2111, 'surfac': 2112, 'arrest': 2113, 'sitcom': 2114, 'semi': 2115, 'hitchcock': 2116, 'makeup': 2117, 'controversi': 2118, 'dinosaur': 2119, 'maintain': 2120, 'massiv': 2121, 'argu': 2122, 'twin': 2123, 'ideal': 2124, 'expens': 2125, 'insist': 2126, 'ludicr': 2127, 'stare': 2128, 'kim': 2129, 'reject': 2130, 'melodrama': 2131, 'columbo': 2132, 'supernatur': 2133, 'atroci': 2134, 'host': 2135, 'erot': 2136, 'forest': 2137, 'ga': 2138, 'subplot': 2139, 'ala': 2140, 'nail': 2141, 'press': 2142, 'presum': 2143, 'identifi': 2144, 'notch': 2145, 'dude': 2146, 'cant': 2147, 'closer': 2148, 'forgett': 2149, 'character': 2150, 'plagu': 2151, 'guest': 2152, 'method': 2153, 'crude': 2154, 'border': 2155, 'beast': 2156, 'ear': 2157, 'lion': 2158, 'princess': 2159, 'landscap': 2160, 'foster': 2161, 'urban': 2162, 'storytel': 2163, 'previous': 2164, 'bound': 2165, 'damag': 2166, 'jungl': 2167, 'accus': 2168, 'pacino': 2169, 'birth': 2170, 'aunt': 2171, 'chose': 2172, 'jess': 2173, 'guid': 2174, 'nude': 2175, 'thirti': 2176, 'propaganda': 2177, 'emma': 2178, 'doll': 2179, 'warrior': 2180, 'mate': 2181, '25': 2182, 'pet': 2183, 'whoever': 2184, 'mainstream': 2185, 'friday': 2186, 'gritti': 2187, 'deadli': 2188, 'exact': 2189, 'merit': 2190, 'upset': 2191, 'cooper': 2192, 'size': 2193, 'latest': 2194, 'poster': 2195, 'sun': 2196, 'ton': 2197, 'settl': 2198, 'contest': 2199, 'blend': 2200, 'warner': 2201, '1990': 2202, 'popul': 2203, 'buff': 2204, 'citizen': 2205, 'contact': 2206, 'wilson': 2207, 'rough': 2208, 'corps': 2209, 'metal': 2210, 'bu': 2211, 'environ': 2212, 'mgm': 2213, 'select': 2214, 'widow': 2215, 'overcom': 2216, 'pitt': 2217, 'alic': 2218, 'rat': 2219, 'ted': 2220, 'lift': 2221, 'particip': 2222, 'guilti': 2223, 'revolut': 2224, 'link': 2225, 'prostitut': 2226, 'exagger': 2227, 'moron': 2228, 'accompani': 2229, 'afternoon': 2230, 'corner': 2231, 'corpor': 2232, 'matrix': 2233, '1960': 2234, 'johnson': 2235, 'sincer': 2236, 'doom': 2237, 'hood': 2238, 'friendli': 2239, 'instal': 2240, 'leagu': 2241, 'clair': 2242, 'multipl': 2243, 'holm': 2244, 'examin': 2245, 'defend': 2246, 'irish': 2247, 'sunday': 2248, 'junk': 2249, 'blah': 2250, 'string': 2251, 'advis': 2252, 'hip': 2253, 'grim': 2254, 'aka': 2255, 'campi': 2256, 'lugosi': 2257, 'confid': 2258, 'shut': 2259, 'pro': 2260, 'tight': 2261, 'rachel': 2262, 'varieti': 2263, 'shake': 2264, 'icon': 2265, 'directli': 2266, 'jaw': 2267, 'medic': 2268, 'goal': 2269, 'attach': 2270, 'denni': 2271, 'sullivan': 2272, 'mexican': 2273, 'terrorist': 2274, 'breast': 2275, 'duke': 2276, 'truck': 2277, 'dean': 2278, 'sentenc': 2279, 'courag': 2280, 'bourn': 2281, 'legendari': 2282, 'prior': 2283, 'vietnam': 2284, 'sarah': 2285, 'entri': 2286, 'hong': 2287, 'un': 2288, 'yell': 2289, 'behav': 2290, 'donald': 2291, 'proceed': 2292, 'split': 2293, 'nose': 2294, 'borrow': 2295, 'buri': 2296, 'everywher': 2297, 'unconvinc': 2298, 'swim': 2299, 'confess': 2300, 'gather': 2301, 'stolen': 2302, 'lifetim': 2303, 'concentr': 2304, 'crush': 2305, 'forth': 2306, 'jerk': 2307, 'pan': 2308, 'spite': 2309, 'deliveri': 2310, 'lip': 2311, 'turkey': 2312, 'julia': 2313, 'california': 2314, 'freeman': 2315, 'proud': 2316, 'offici': 2317, 'flight': 2318, 'quest': 2319, 'reward': 2320, 'china': 2321, 'hoffman': 2322, 'downright': 2323, 'notori': 2324, 'inept': 2325, 'sir': 2326, 'worthwhil': 2327, 'fabul': 2328, 'fade': 2329, 'sink': 2330, 'lazi': 2331, 'encourag': 2332, 'jail': 2333, 'betray': 2334, 'jon': 2335, 'relev': 2336, 'teeth': 2337, 'imageri': 2338, 'storm': 2339, 'bag': 2340, 'cousin': 2341, 'shower': 2342, 'bell': 2343, 'lisa': 2344, 'susan': 2345, 'retard': 2346, 'survivor': 2347, 'branagh': 2348, 'summari': 2349, 'tremend': 2350, 'stab': 2351, 'mexico': 2352, 'quirki': 2353, 'facial': 2354, 'hugh': 2355, 'finger': 2356, 'bride': 2357, 'shark': 2358, 'trade': 2359, 'toler': 2360, 'alright': 2361, 'von': 2362, 'hyster': 2363, 'pose': 2364, 'blown': 2365, 'bitter': 2366, 'ha': 2367, 'ron': 2368, 'address': 2369, 'afterward': 2370, 'larri': 2371, 'ned': 2372, 'scheme': 2373, 'christ': 2374, 'bone': 2375, 'cruel': 2376, 'snake': 2377, 'tour': 2378, 'beg': 2379, 'traci': 2380, 'screw': 2381, 'swear': 2382, 'thumb': 2383, 'distinct': 2384, 'pursu': 2385, 'feed': 2386, 'raw': 2387, 'obscur': 2388, 'chair': 2389, 'mechan': 2390, 'stomach': 2391, 'occas': 2392, 'photo': 2393, 'cabin': 2394, 'heavili': 2395, 'render': 2396, 'gruesom': 2397, 'chain': 2398, 'argument': 2399, 'hardi': 2400, 'resist': 2401, 'sidney': 2402, 'necessarili': 2403, 'southern': 2404, 'holiday': 2405, 'satan': 2406, 'understood': 2407, 'indulg': 2408, 'philip': 2409, 'india': 2410, 'racist': 2411, 'stalk': 2412, 'forgot': 2413, 'fourth': 2414, 'lay': 2415, 'pregnant': 2416, 'integr': 2417, 'obnoxi': 2418, 'tongu': 2419, 'outfit': 2420, 'midnight': 2421, 'belov': 2422, 'ticket': 2423, 'carol': 2424, 'magazin': 2425, 'restor': 2426, '17': 2427, 'deeper': 2428, 'inhabit': 2429, 'slapstick': 2430, 'garden': 2431, 'shoe': 2432, 'devot': 2433, 'brad': 2434, 'lincoln': 2435, 'incid': 2436, 'benefit': 2437, 'underground': 2438, 'maria': 2439, 'disbelief': 2440, 'anticip': 2441, 'lili': 2442, 'guarante': 2443, 'elizabeth': 2444, 'divorc': 2445, 'sandler': 2446, 'princip': 2447, 'amazingli': 2448, 'bbc': 2449, 'capit': 2450, 'cring': 2451, 'creation': 2452, 'explod': 2453, 'mildli': 2454, 'slave': 2455, 'greater': 2456, 'lesli': 2457, 'halfway': 2458, 'extraordinari': 2459, 'introduct': 2460, 'funnier': 2461, 'transfer': 2462, 'tap': 2463, 'wreck': 2464, 'enhanc': 2465, 'text': 2466, 'advantag': 2467, 'overwhelm': 2468, 'extent': 2469, 'punish': 2470, 'horrif': 2471, 'jessica': 2472, 'lo': 2473, 'plant': 2474, 'dynam': 2475, 'east': 2476, 'preview': 2477, 'lane': 2478, 'error': 2479, 'deliber': 2480, 'homosexu': 2481, 'basi': 2482, 'vacat': 2483, 'vincent': 2484, 'appli': 2485, '2000': 2486, 'miller': 2487, 'miscast': 2488, 'ensu': 2489, 'sophist': 2490, 'uncomfort': 2491, 'bollywood': 2492, 'via': 2493, 'spoken': 2494, 'measur': 2495, 'steel': 2496, 'sleazi': 2497, 'mansion': 2498, 'reed': 2499, 'extend': 2500, 'elev': 2501, 'savag': 2502, 'mous': 2503, 'cathol': 2504, 'alter': 2505, 'overact': 2506, 'blair': 2507, 'daili': 2508, 'assign': 2509, 'fix': 2510, 'beer': 2511, 'conceiv': 2512, 'stanley': 2513, 'goofi': 2514, 'breathtak': 2515, 'melt': 2516, 'hippi': 2517, 'dentist': 2518, 'inspector': 2519, 'nowaday': 2520, 'oppos': 2521, 'sacrific': 2522, 'subsequ': 2523, 'succe': 2524, 'properli': 2525, 'carpent': 2526, 'burt': 2527, 'everyday': 2528, 'circl': 2529, 'massacr': 2530, 'neck': 2531, 'laura': 2532, 'block': 2533, 'christi': 2534, 'fallen': 2535, 'seagal': 2536, 'grey': 2537, 'pool': 2538, 'concert': 2539, 'portrait': 2540, 'access': 2541, 'lesser': 2542, 'mob': 2543, 'fay': 2544, 'sinist': 2545, 'relax': 2546, 'competit': 2547, 'chees': 2548, 'isol': 2549, 'jewish': 2550, 'usa': 2551, 'react': 2552, 'jake': 2553, 'nonetheless': 2554, 'ironi': 2555, 'immens': 2556, 'suitabl': 2557, 'stink': 2558, 'chop': 2559, 'spiritu': 2560, 'appal': 2561, 'lyric': 2562, 'nine': 2563, 'creep': 2564, '2006': 2565, 'shirt': 2566, 'sold': 2567, 'nut': 2568, 'rage': 2569, 'adopt': 2570, 'showcas': 2571, 'franchis': 2572, 'needless': 2573, 'reduc': 2574, 'spring': 2575, 'navi': 2576, 'retir': 2577, 'luci': 2578, 'user': 2579, 'zone': 2580, 'bulli': 2581, 'digit': 2582, 'nurs': 2583, 'asham': 2584, 'jay': 2585, 'bath': 2586, 'uninspir': 2587, 'per': 2588, 'stanwyck': 2589, 'oddli': 2590, '2001': 2591, 'laid': 2592, 'upper': 2593, 'sutherland': 2594, '1940': 2595, 'amongst': 2596, 'illustr': 2597, 'broadcast': 2598, 'throat': 2599, 'disguis': 2600, 'fulfil': 2601, 'stylish': 2602, 'baker': 2603, 'aspir': 2604, 'brando': 2605, 'nobl': 2606, 'pride': 2607, 'impli': 2608, 'pound': 2609, 'wwii': 2610, 'wanna': 2611, 'endear': 2612, '18': 2613, 'thief': 2614, 'neighborhood': 2615, 'em': 2616, 'shoulder': 2617, 'bett': 2618, 'dawn': 2619, 'distribut': 2620, 'shift': 2621, 'diseas': 2622, 'coher': 2623, 'prop': 2624, 'rochest': 2625, 'cinematograph': 2626, 'tens': 2627, '16': 2628, 'dinner': 2629, 'albeit': 2630, 'bo': 2631, 'knife': 2632, 'silenc': 2633, 'poignant': 2634, 'function': 2635, 'wash': 2636, 'shout': 2637, 'contract': 2638, 'forti': 2639, 'rebel': 2640, 'surf': 2641, 'matthau': 2642, 'snow': 2643, 'derek': 2644, 'proof': 2645, 'horrend': 2646, 'height': 2647, 'henc': 2648, 'cannib': 2649, 'duti': 2650, 'chuck': 2651, 'elvira': 2652, 'mindless': 2653, 'internet': 2654, 'widmark': 2655, 'reunion': 2656, 'cancel': 2657, 'eeri': 2658, 'instinct': 2659, 'silver': 2660, 'heat': 2661, 'alik': 2662, 'spielberg': 2663, 'torn': 2664, 'greatli': 2665, 'incoher': 2666, 'innov': 2667, 'mill': 2668, 'elvi': 2669, 'repetit': 2670, 'neat': 2671, 'premier': 2672, 'etern': 2673, 'absorb': 2674, 'pie': 2675, 'glori': 2676, 'musician': 2677, 'lovabl': 2678, 'precis': 2679, 'bang': 2680, 'nelson': 2681, 'homag': 2682, 'infam': 2683, 'blank': 2684, 'itali': 2685, 'fbi': 2686, 'wealthi': 2687, 'crisi': 2688, 'horrifi': 2689, 'announc': 2690, 'racism': 2691, 'diamond': 2692, 'burton': 2693, 'britain': 2694, 'trite': 2695, 'redempt': 2696, 'parallel': 2697, 'streisand': 2698, 'pat': 2699, 'flop': 2700, 'chaplin': 2701, 'resolut': 2702, 'happili': 2703, 'helen': 2704, 'ensembl': 2705, 'wilder': 2706, 'dedic': 2707, 'hammer': 2708, 'st': 2709, 'plastic': 2710, 'factori': 2711, 'oil': 2712, 'mar': 2713, 'broke': 2714, 'triumph': 2715, 'disagre': 2716, 'carter': 2717, 'conclud': 2718, 'cube': 2719, 'weight': 2720, 'climb': 2721, 'march': 2722, 'chuckl': 2723, 'vega': 2724, 'row': 2725, 'bush': 2726, 'fighter': 2727, 'own': 2728, 'rocket': 2729, 'luca': 2730, 'lust': 2731, 'sensibl': 2732, 'boot': 2733, 'enorm': 2734, 'wherea': 2735, 'meaning': 2736, 'spare': 2737, 'unforgett': 2738, 'dump': 2739, 'mst3k': 2740, 'dane': 2741, 'kurt': 2742, 'thug': 2743, 'brand': 2744, 'butt': 2745, 'bobbi': 2746, 'arnold': 2747, 'dear': 2748, 'rap': 2749, 'fifti': 2750, 'threat': 2751, 'stress': 2752, 'difficulti': 2753, 'adequ': 2754, 'engin': 2755, 'karloff': 2756, 'caricatur': 2757, 'polish': 2758, 'homeless': 2759, 'secretari': 2760, 'ralph': 2761, 'ego': 2762, 'journalist': 2763, 'fest': 2764, 'hamlet': 2765, 'arrog': 2766, 'barri': 2767, 'swing': 2768, 'elabor': 2769, 'flynn': 2770, 'float': 2771, 'induc': 2772, 'puppet': 2773, 'simpson': 2774, 'unbear': 2775, 'grate': 2776, 'fanci': 2777, 'resort': 2778, 'arrang': 2779, 'spike': 2780, 'tool': 2781, 'conspiraci': 2782, 'phillip': 2783, 'basement': 2784, 'tribut': 2785, 'guilt': 2786, 'pig': 2787, 'exercis': 2788, 'choreograph': 2789, 'cruis': 2790, 'muppet': 2791, 'boll': 2792, 'puzzl': 2793, 'medium': 2794, 'item': 2795, 'toilet': 2796, 'document': 2797, 'tower': 2798, 'layer': 2799, 'fianc': 2800, 'slip': 2801, 'babe': 2802, '24': 2803, 'editor': 2804, 'ham': 2805, 'korean': 2806, 'scarecrow': 2807, 'file': 2808, 'ward': 2809, 'stan': 2810, 'slaughter': 2811, 'philosoph': 2812, 'glover': 2813, 'persona': 2814, 'catherin': 2815, 'portion': 2816, 'orient': 2817, 'spark': 2818, 'assur': 2819, 'superfici': 2820, 'minim': 2821, 'librari': 2822, 'larger': 2823, 'doc': 2824, 'transit': 2825, 'inexplic': 2826, 'territori': 2827, 'denzel': 2828, 'owe': 2829, 'shi': 2830, 'wolf': 2831, 'jeremi': 2832, 'pg': 2833, 'dorothi': 2834, 'sneak': 2835, 'boredom': 2836, 'curti': 2837, 'ban': 2838, 'financi': 2839, 'walken': 2840, 'jet': 2841, 'profound': 2842, 'multi': 2843, 'hudson': 2844, 'eleph': 2845, 'metaphor': 2846, 'ambigu': 2847, 'backdrop': 2848, 'cusack': 2849, 'whale': 2850, 'hack': 2851, 'elsewher': 2852, 'rave': 2853, 'ultra': 2854, 'birthday': 2855, 'notion': 2856, 'implaus': 2857, '2005': 2858, 'stiff': 2859, 'viru': 2860, 'gadget': 2861, 'union': 2862, 'slight': 2863, 'lloyd': 2864, 'poison': 2865, 'pad': 2866, 'canada': 2867, '1st': 2868, 'distanc': 2869, 'squar': 2870, 'newspap': 2871, 'afford': 2872, 'eva': 2873, 'disc': 2874, 'superhero': 2875, 'deriv': 2876, 'urg': 2877, 'bibl': 2878, 'reader': 2879, 'eastwood': 2880, 'hawk': 2881, 'huh': 2882, 'spread': 2883, 'skit': 2884, 'button': 2885, 'cure': 2886, 'sadist': 2887, 'restaur': 2888, 'charisma': 2889, 'drown': 2890, 'essenc': 2891, 'health': 2892, 'montag': 2893, 'heston': 2894, 'maniac': 2895, 'muslim': 2896, 'invest': 2897, 'companion': 2898, 'peak': 2899, 'fetch': 2900, 'dealt': 2901, 'godfath': 2902, 'estat': 2903, 'lab': 2904, 'scoobi': 2905, 'gradual': 2906, 'gothic': 2907, 'miik': 2908, 'subtleti': 2909, 'alli': 2910, 'kane': 2911, 'tea': 2912, 'ritter': 2913, 'cup': 2914, 'servant': 2915, 'countless': 2916, 'iii': 2917, 'salli': 2918, 'electr': 2919, 'briefli': 2920, 'heroic': 2921, 'charismat': 2922, 'elect': 2923, 'nuanc': 2924, 'ingredi': 2925, 'bud': 2926, 'wannab': 2927, 'tender': 2928, 'admittedli': 2929, 'cole': 2930, 'resourc': 2931, 'toss': 2932, 'neil': 2933, 'reel': 2934, 'grandmoth': 2935, 'pit': 2936, 'stronger': 2937, 'shall': 2938, 'label': 2939, 'dawson': 2940, 'mild': 2941, 'pauli': 2942, 'kubrick': 2943, 'reev': 2944, 'poverti': 2945, 'gate': 2946, 'stood': 2947, 'mafia': 2948, 'carrey': 2949, 'punk': 2950, 'updat': 2951, 'burst': 2952, 'terri': 2953, 'outcom': 2954, 'smash': 2955, 'assault': 2956, 'ian': 2957, 'tag': 2958, 'useless': 2959, 'cox': 2960, 'cardboard': 2961, 'smooth': 2962, 'fond': 2963, 'easier': 2964, 'bakshi': 2965, 'astair': 2966, '2002': 2967, 'fist': 2968, 'vari': 2969, 'qualifi': 2970, 'resolv': 2971, 'vulner': 2972, 'rex': 2973, 'increasingli': 2974, 'samurai': 2975, 'exchang': 2976, 'sketch': 2977, 'melodramat': 2978, 'coincid': 2979, 'divers': 2980, 'templ': 2981, 'tame': 2982, 'luckili': 2983, 'insert': 2984, 'be': 2985, 'brillianc': 2986, 'suspend': 2987, 'blast': 2988, 'conveni': 2989, 'reynold': 2990, 'scratch': 2991, 'seventi': 2992, 'soprano': 2993, 'ambiti': 2994, 'matthew': 2995, 'nuclear': 2996, 'fisher': 2997, 'coach': 2998, 'meat': 2999, 'hamilton': 3000, 'strictli': 3001, 'farm': 3002, 'gotta': 3003, 'jami': 3004, 'walker': 3005, 'pin': 3006, 'convolut': 3007, 'struck': 3008, 'spooki': 3009, 'eccentr': 3010, 'joey': 3011, 'worthless': 3012, 'revers': 3013, 'clock': 3014, 'ninja': 3015, 'butcher': 3016, 'monk': 3017, 'cave': 3018, 'discoveri': 3019, 'grasp': 3020, 'kudo': 3021, 'closet': 3022, 'empir': 3023, 'timeless': 3024, 'instantli': 3025, 'recreat': 3026, 'brosnan': 3027, 'eighti': 3028, 'partli': 3029, 'sloppi': 3030, 'norman': 3031, 'evok': 3032, 'cliff': 3033, 'pal': 3034, 'gray': 3035, 'bleak': 3036, 'declar': 3037, 'wipe': 3038, 'seller': 3039, 'communist': 3040, 'importantli': 3041, 'sidekick': 3042, 'miracl': 3043, 'clown': 3044, 'mitchel': 3045, 'selfish': 3046, 'inconsist': 3047, 'fifteen': 3048, 'websit': 3049, 'piano': 3050, 'farc': 3051, 'chew': 3052, 'debat': 3053, 'aforement': 3054, 'destin': 3055, 'stoog': 3056, 'australia': 3057, 'enthusiast': 3058, 'flawless': 3059, 'superbl': 3060, 'lifestyl': 3061, 'seed': 3062, '45': 3063, 'cheek': 3064, 'ho': 3065, 'psychiatrist': 3066, 'splatter': 3067, 'kitchen': 3068, 'incompet': 3069, 'bash': 3070, 'directori': 3071, 'drivel': 3072, 'wick': 3073, 'regardless': 3074, 'dire': 3075, 'dash': 3076, 'akshay': 3077, 'pressur': 3078, 'emili': 3079, 'abc': 3080, 'slice': 3081, 'soviet': 3082, 'wrestl': 3083, 'anni': 3084, 'seduc': 3085, 'curios': 3086, 'beaten': 3087, 'flower': 3088, 'jar': 3089, 'lou': 3090, 'increas': 3091, 'cia': 3092, 'dave': 3093, 'helicopt': 3094, 'cameron': 3095, 'glow': 3096, 'prize': 3097, 'blob': 3098, 'chapter': 3099, 'cagney': 3100, 'suppli': 3101, 'pleasantli': 3102, 'artifici': 3103, 'recov': 3104, 'mann': 3105, 'ken': 3106, 'doo': 3107, 'boil': 3108, 'distant': 3109, 'judi': 3110, 'duo': 3111, 'favour': 3112, 'goldberg': 3113, 'web': 3114, 'ellen': 3115, 'eleg': 3116, 'combat': 3117, 'craig': 3118, 'turner': 3119, 'laurel': 3120, 'psychot': 3121, 'glenn': 3122, 'perri': 3123, 'hop': 3124, 'panic': 3125, 'francisco': 3126, 'splendid': 3127, 'craven': 3128, 'drunken': 3129, 'ranger': 3130, '20th': 3131, 'philosophi': 3132, 'fx': 3133, 'min': 3134, 'flip': 3135, 'plausibl': 3136, 'hatr': 3137, 'shortli': 3138, 'greek': 3139, 'wizard': 3140, 'gentl': 3141, 'graduat': 3142, 'ruth': 3143, 'rid': 3144, 'alexand': 3145, 'slightest': 3146, 'falk': 3147, 'modesti': 3148, 'gandhi': 3149, 'harm': 3150, 'futurist': 3151, 'knight': 3152, 'tall': 3153, 'unpleas': 3154, 'fund': 3155, 'jealou': 3156, 'ocean': 3157, 'legal': 3158, 'manhattan': 3159, 'holi': 3160, 'dracula': 3161, 'we': 3162, 'preciou': 3163, 'lend': 3164, 'felix': 3165, 'giallo': 3166, 'thread': 3167, 'ami': 3168, 'explicit': 3169, 'overdon': 3170, 'bless': 3171, 'forbidden': 3172, 'digniti': 3173, 'childish': 3174, 'tank': 3175, 'scientif': 3176, 'mock': 3177, 'reviv': 3178, 'nod': 3179, 'margaret': 3180, 'elderli': 3181, 'awaken': 3182, 'thick': 3183, 'repeatedli': 3184, 'nerv': 3185, 'verhoeven': 3186, '2004': 3187, 'mel': 3188, 'yesterday': 3189, 'unwatch': 3190, 'torment': 3191, 'awe': 3192, 'eve': 3193, 'broad': 3194, 'fever': 3195, 'pirat': 3196, '99': 3197, 'uniform': 3198, 'publish': 3199, 'bin': 3200, 'custom': 3201, 'acclaim': 3202, 'automat': 3203, 'timothi': 3204, 'ah': 3205, 'absenc': 3206, 'eas': 3207, 'kay': 3208, 'griffith': 3209, 'lean': 3210, 'romero': 3211, 'ambit': 3212, 'politician': 3213, 'roman': 3214, 'stiller': 3215, 'launch': 3216, 'rivet': 3217, 'royal': 3218, 'crook': 3219, 'purpl': 3220, 'pulp': 3221, 'gabriel': 3222, 'wallac': 3223, 'phrase': 3224, 'transport': 3225, 'antic': 3226, 'sunshin': 3227, 'tomato': 3228, 'stinker': 3229, 'warren': 3230, 'darker': 3231, 'homicid': 3232, 'pierc': 3233, 'foul': 3234, 'bathroom': 3235, 'termin': 3236, 'saint': 3237, 'packag': 3238, 'q': 3239, 'marin': 3240, 'donna': 3241, 'horrid': 3242, 'hollow': 3243, 'pray': 3244, 'choreographi': 3245, 'eyr': 3246, 'viciou': 3247, 'contrari': 3248, 'prom': 3249, 'brazil': 3250, 'karen': 3251, 'juvenil': 3252, 'li': 3253, 'revolutionari': 3254, 'ought': 3255, 'album': 3256, 'sixti': 3257, 'awak': 3258, 'kenneth': 3259, 'evolv': 3260, 'rambo': 3261, '2003': 3262, 'coloni': 3263, 'dose': 3264, 'blade': 3265, 'mildr': 3266, 'mummi': 3267, 'overr': 3268, 'ireland': 3269, 'twelv': 3270, 'boast': 3271, 'conserv': 3272, 'defi': 3273, 'option': 3274, 'stole': 3275, 'beatti': 3276, 'ramon': 3277, 'candid': 3278, 'nerd': 3279, 'kapoor': 3280, 'confirm': 3281, 'flame': 3282, 'altman': 3283, 'jazz': 3284, 'kirk': 3285, 'fulci': 3286, 'funer': 3287, 'protest': 3288, 'astonish': 3289, 'global': 3290, 'trio': 3291, 'natali': 3292, 'detract': 3293, 'collabor': 3294, 'delici': 3295, 'mystic': 3296, 'spit': 3297, 'enterpris': 3298, 'racial': 3299, 'audio': 3300, 'blake': 3301, 'leap': 3302, 'whip': 3303, 'yellow': 3304, 'destini': 3305, 'tommi': 3306, 'shade': 3307, 'bull': 3308, 'bottl': 3309, 'nicholson': 3310, 'bedroom': 3311, 'pseudo': 3312, 'popcorn': 3313, 'meaningless': 3314, 'enchant': 3315, 'visibl': 3316, 'fonda': 3317, 'neo': 3318, 'reunit': 3319, 'harder': 3320, 'swedish': 3321, 'todd': 3322, 'threw': 3323, 'altogeth': 3324, 'inherit': 3325, 'merci': 3326, 'staff': 3327, 'vivid': 3328, 'adolesc': 3329, 'fanat': 3330, 'suspici': 3331, 'synopsi': 3332, 'ruthless': 3333, 'wire': 3334, 'jew': 3335, 'uneven': 3336, 'moodi': 3337, 'tip': 3338, 'lawrenc': 3339, 'respond': 3340, 'befriend': 3341, 'exhibit': 3342, 'madonna': 3343, 'decor': 3344, 'edi': 3345, 'kennedi': 3346, 'await': 3347, 'roommat': 3348, 'bust': 3349, 'voight': 3350, 'lemmon': 3351, 'leonard': 3352, 'atlanti': 3353, 'reserv': 3354, 'crocodil': 3355, 'audit': 3356, 'clumsi': 3357, 'bradi': 3358, 'clint': 3359, 'unsettl': 3360, 'abysm': 3361, 'carl': 3362, '2007': 3363, 'ventur': 3364, 'rural': 3365, 'garner': 3366, 'chao': 3367, 'incident': 3368, 'bold': 3369, 'centr': 3370, 'bargain': 3371, 'dimens': 3372, 'holli': 3373, 'voyag': 3374, 'palma': 3375, 'lit': 3376, 'poetic': 3377, 'cd': 3378, 'imperson': 3379, 'characterist': 3380, 'elimin': 3381, 'echo': 3382, 'troop': 3383, 'mall': 3384, 'cuba': 3385, 'immigr': 3386, 'neglect': 3387, 'acknowledg': 3388, 'trail': 3389, 'versu': 3390, 'nearbi': 3391, 'cari': 3392, 'tiger': 3393, 'humili': 3394, 'timon': 3395, 'wealth': 3396, 'hart': 3397, '2nd': 3398, 'daddi': 3399, 'ant': 3400, 'celluloid': 3401, 'prejudic': 3402, 'solo': 3403, 'saga': 3404, 'collaps': 3405, 'domest': 3406, 'mistaken': 3407, 'jeffrey': 3408, 'paus': 3409, 'homer': 3410, 'repuls': 3411, 'mickey': 3412, 'infect': 3413, 'marshal': 3414, 'pun': 3415, 'chest': 3416, 'undoubtedli': 3417, 'hbo': 3418, 'milk': 3419, 'inappropri': 3420, 'interrupt': 3421, 'inan': 3422, 'ginger': 3423, 'gear': 3424, 'apolog': 3425, 'leon': 3426, 'promin': 3427, 'sore': 3428, 'olivi': 3429, 'coat': 3430, 'cake': 3431, 'coffe': 3432, 'tribe': 3433, '1996': 3434, 'assembl': 3435, 'equip': 3436, 'pant': 3437, 'harvey': 3438, 'solut': 3439, 'institut': 3440, 'airplan': 3441, 'retain': 3442, 'aveng': 3443, 'furthermor': 3444, 'highest': 3445, 'devast': 3446, 'vulgar': 3447, 'florida': 3448, 'instant': 3449, 'embrac': 3450, 'trace': 3451, 'primari': 3452, 'colleagu': 3453, 'pot': 3454, 'brooklyn': 3455, 'exot': 3456, 'maggi': 3457, 'consum': 3458, 'jenni': 3459, 'pen': 3460, 'colonel': 3461, 'humbl': 3462, 'polanski': 3463, 'poke': 3464, '3rd': 3465, 'ya': 3466, 'principl': 3467, 'gender': 3468, 'sale': 3469, 'descend': 3470, 'wive': 3471, 'linda': 3472, 'dutch': 3473, 'godzilla': 3474, 'strain': 3475, 'disabl': 3476, 'smaller': 3477, 'seduct': 3478, 'bowl': 3479, 'dian': 3480, 'rick': 3481, 'illog': 3482, '1999': 3483, 'outer': 3484, 'cope': 3485, 'scope': 3486, 'rabbit': 3487, 'cue': 3488, 'secondli': 3489, 'predecessor': 3490, 'inferior': 3491, 'vast': 3492, 'primarili': 3493, 'dive': 3494, 'hal': 3495, 'glamor': 3496, 'gundam': 3497, 'blatant': 3498, 'devoid': 3499, 'lol': 3500, 'mixtur': 3501, 'gloriou': 3502, 'yard': 3503, 'beneath': 3504, 'dud': 3505, 'bubbl': 3506, 'aggress': 3507, 'disjoint': 3508, 'z': 3509, 'breed': 3510, 'myer': 3511, 'museum': 3512, 'alert': 3513, 'et': 3514, 'april': 3515, 'pearl': 3516, 'alfr': 3517, 'streep': 3518, 'casual': 3519, 'domino': 3520, 'simplist': 3521, 'talki': 3522, 'senseless': 3523, 'garbo': 3524, 'trademark': 3525, 'shelf': 3526, 'arab': 3527, 'countrysid': 3528, 'invas': 3529, 'hideou': 3530, 'grinch': 3531, 'shirley': 3532, 'stellar': 3533, 'obtain': 3534, 'hopeless': 3535, 'boom': 3536, 'unhappi': 3537, 'hardcor': 3538, 'mail': 3539, 'stir': 3540, 'applaud': 3541, 'uwe': 3542, 'stack': 3543, 'robinson': 3544, 'experiment': 3545, 'khan': 3546, 'maci': 3547, 'vanish': 3548, 'loyal': 3549, 'rendit': 3550, 'slide': 3551, 'oz': 3552, 'defens': 3553, 'illeg': 3554, 'sh': 3555, 'disgrac': 3556, 'acid': 3557, 'mayor': 3558, 'robberi': 3559, 'declin': 3560, 'incomprehens': 3561, 'counter': 3562, 'dismiss': 3563, 'soccer': 3564, 'fri': 3565, 'berlin': 3566, 'tempt': 3567, 'spider': 3568, 'rifl': 3569, 'psychic': 3570, 'amanda': 3571, 'emphasi': 3572, 'craze': 3573, 'hartley': 3574, 'recruit': 3575, 'blew': 3576, 'span': 3577, 'wont': 3578, 'diana': 3579, 'topless': 3580, 'grandfath': 3581, 'dicken': 3582, 'tenant': 3583, 'scroog': 3584, 'revolt': 3585, 'goer': 3586, 'porno': 3587, 'faster': 3588, 'parad': 3589, 'intim': 3590, 'woo': 3591, 'ration': 3592, 'resurrect': 3593, 'justin': 3594, 'lumet': 3595, 'wet': 3596, 'sympath': 3597, 'sibl': 3598, 'ethnic': 3599, 'shaw': 3600, 'shed': 3601, 'niro': 3602, 'bitch': 3603, 'trashi': 3604, 'riot': 3605, 'hesit': 3606, 'steam': 3607, 'enlighten': 3608, 'unreal': 3609, 'nephew': 3610, 'honesti': 3611, 'commend': 3612, 'gap': 3613, 'lena': 3614, 'jonathan': 3615, 'ballet': 3616, 'rider': 3617, 'partial': 3618, 'slick': 3619, 'andr': 3620, 'wendi': 3621, 'hopper': 3622, 'immort': 3623, 'biographi': 3624, 'patriot': 3625, 'mario': 3626, 'wheel': 3627, 'region': 3628, 'weakest': 3629, '00': 3630, 'ensur': 3631, 'dealer': 3632, 'eager': 3633, 'farmer': 3634, 'choru': 3635, 'feminist': 3636, 'worm': 3637, 'hung': 3638, 'sandra': 3639, 'mutant': 3640, 'confin': 3641, 'repress': 3642, 'victori': 3643, 'prequel': 3644, 'franco': 3645, 'sappi': 3646, 'similarli': 3647, 'util': 3648, 'nostalg': 3649, 'psychopath': 3650, 'blunt': 3651, 'owen': 3652, 'morri': 3653, 'kingdom': 3654, 'vice': 3655, 'wore': 3656, 'skull': 3657, 'snap': 3658, 'charlott': 3659, 'properti': 3660, 'leo': 3661, 'composit': 3662, 'safeti': 3663, 'macarthur': 3664, 'despair': 3665, 'whoopi': 3666, 'bumbl': 3667, 'cg': 3668, 'nervou': 3669, 'recycl': 3670, 'miseri': 3671, 'deed': 3672, 'valuabl': 3673, 'dalton': 3674, 'exit': 3675, 'dust': 3676, 'pattern': 3677, 'snl': 3678, 'repli': 3679, 'emperor': 3680, 'campbel': 3681, 'del': 3682, 'bergman': 3683, 'farrel': 3684, 'kyle': 3685, 'latin': 3686, 'drain': 3687, 'thru': 3688, '1972': 3689, 'drum': 3690, 'tad': 3691, 'strand': 3692, 'hyde': 3693, 'compens': 3694, 'montana': 3695, 'rope': 3696, 'rocki': 3697, 'heartbreak': 3698, 'acquir': 3699, 'bow': 3700, 'tail': 3701, 'rambl': 3702, 'compass': 3703, 'speci': 3704, 'bonu': 3705, 'contempl': 3706, 'mistress': 3707, 'rotten': 3708, 'wacki': 3709, 'percept': 3710, 'romp': 3711, 'slug': 3712, 'radic': 3713, 'downhil': 3714, '35': 3715, 'martian': 3716, 'chess': 3717, 'orson': 3718, 'pour': 3719, 'olli': 3720, 'roth': 3721, 'oppress': 3722, 'bleed': 3723, 'gimmick': 3724, 'gal': 3725, 'tonight': 3726, 'carradin': 3727, 'da': 3728, 'rapist': 3729, 'airport': 3730, 'slash': 3731, 'preach': 3732, 'melodi': 3733, 'pervers': 3734, 'shelley': 3735, 'pursuit': 3736, 'tackl': 3737, 'taught': 3738, 'arc': 3739, '1983': 3740, 'champion': 3741, 'mislead': 3742, 'unpredict': 3743, 'programm': 3744, 'stilt': 3745, 'banal': 3746, 'pervert': 3747, 'heal': 3748, 'attorney': 3749, 'paltrow': 3750, 'edgar': 3751, 'dazzl': 3752, 'arguabl': 3753, 'belt': 3754, 'tooth': 3755, 'vengeanc': 3756, 'duval': 3757, 'maid': 3758, 'uplift': 3759, 'rubi': 3760, 'closest': 3761, 'virginia': 3762, 'gambl': 3763, 'raymond': 3764, 'dixon': 3765, 'chicken': 3766, 'vocal': 3767, 'sensat': 3768, 'plight': 3769, 'graham': 3770, 'mesmer': 3771, 'tiresom': 3772, 'conneri': 3773, 'orang': 3774, 'bela': 3775, 'passeng': 3776, 'employe': 3777, 'cleverli': 3778, 'poem': 3779, 'marti': 3780, 'franki': 3781, 'engross': 3782, 'crystal': 3783, 'extens': 3784, 'mute': 3785, 'swallow': 3786, 'paranoia': 3787, 'volum': 3788, 'sirk': 3789, 'climact': 3790, 'convincingli': 3791, 'gerard': 3792, 'outing': 3793, 'giggl': 3794, 'tube': 3795, '1968': 3796, 'scottish': 3797, 'inject': 3798, 'whine': 3799, 'yawn': 3800, 'suffic': 3801, 'amitabh': 3802, 'monologu': 3803, 'clone': 3804, 'quarter': 3805, 'numb': 3806, 'secretli': 3807, 'abraham': 3808, 'calm': 3809, 'lundgren': 3810, 'profan': 3811, 'habit': 3812, 'bay': 3813, 'iran': 3814, 'pokemon': 3815, 'chicago': 3816, 'expand': 3817, 'grotesqu': 3818, 'poetri': 3819, 'spock': 3820, 'surpass': 3821, 'dispos': 3822, 'im': 3823, 'septemb': 3824, 'frankenstein': 3825, 'franci': 3826, 'backward': 3827, 'junior': 3828, 'plod': 3829, 'meander': 3830, 'fed': 3831, 'bend': 3832, 'nichola': 3833, 'earl': 3834, 'ethan': 3835, 'linger': 3836, 'trend': 3837, 'abort': 3838, 'underst': 3839, 'austen': 3840, 'profess': 3841, 'lowest': 3842, 'richardson': 3843, 'taxi': 3844, 'tourist': 3845, 'dysfunct': 3846, 'descent': 3847, 'spoke': 3848, 'literatur': 3849, 'stallon': 3850, 'catchi': 3851, 'eugen': 3852, 'greedi': 3853, 'cannon': 3854, 'compliment': 3855, 'econom': 3856, 'instrument': 3857, 'sue': 3858, 'rant': 3859, 'waitress': 3860, 'mundan': 3861, 'muddl': 3862, 'household': 3863, 'rubber': 3864, 'hum': 3865, 'nostalgia': 3866, 'simplic': 3867, 'myth': 3868, 'lure': 3869, 'der': 3870, 'map': 3871, 'june': 3872, 'recognis': 3873, 'bacal': 3874, 'deaf': 3875, 'dictat': 3876, 'occupi': 3877, 'stale': 3878, 'carel': 3879, 'phantom': 3880, 'lang': 3881, 'damon': 3882, 'insur': 3883, 'irrelev': 3884, 'omen': 3885, 'randi': 3886, 'coast': 3887, 'eaten': 3888, 'alongsid': 3889, 'recognit': 3890, 'furi': 3891, 'duck': 3892, 'dement': 3893, 'crucial': 3894, 'phoni': 3895, 'louis': 3896, 'sissi': 3897, 'mortal': 3898, 'flee': 3899, 'equival': 3900, 'firstli': 3901, 'molli': 3902, 'cent': 3903, 'hello': 3904, 'mankind': 3905, 'twilight': 3906, 'bump': 3907, 'onlin': 3908, 'rude': 3909, 'labor': 3910, 'heel': 3911, 'ashley': 3912, 'buffalo': 3913, 'freez': 3914, 'bike': 3915, 'dreari': 3916, 'drake': 3917, 'distinguish': 3918, 'newli': 3919, 'lengthi': 3920, 'likewis': 3921, 'daisi': 3922, 'wisdom': 3923, 'grayson': 3924, 'antwon': 3925, 'loyalti': 3926, 'blackmail': 3927, 'rooney': 3928, 'cyborg': 3929, 'damm': 3930, 'reign': 3931, '1973': 3932, 'biko': 3933, 'barrymor': 3934, 'inher': 3935, 'pink': 3936, 'proce': 3937, 'approv': 3938, 'emphas': 3939, 'exposur': 3940, 'startl': 3941, 'boxer': 3942, 'baddi': 3943, 'basketbal': 3944, 'provoc': 3945, 'analysi': 3946, 'incorpor': 3947, 'interior': 3948, 'butler': 3949, 'keith': 3950, 'nineti': 3951, 'ridden': 3952, 'unorigin': 3953, 'attribut': 3954, 'vein': 3955, 'sailor': 3956, 'prey': 3957, 'worn': 3958, 'chronicl': 3959, 'tunnel': 3960, 'stalker': 3961, 'barrel': 3962, 'millionair': 3963, 'mighti': 3964, 'predat': 3965, 'drift': 3966, 'carla': 3967, 'undeni': 3968, 'fleet': 3969, 'indiffer': 3970, 'underli': 3971, 'nicol': 3972, 'bunni': 3973, 'hypnot': 3974, 'elm': 3975, 'belushi': 3976, 'unrel': 3977, 'othello': 3978, 'improvis': 3979, 'substitut': 3980, 'degrad': 3981, 'condemn': 3982, 'meyer': 3983, 'robbin': 3984, 'er': 3985, 'meg': 3986, 'julian': 3987, 'simmon': 3988, 'walsh': 3989, 'mormon': 3990, 'watson': 3991, 'shove': 3992, 'enthusiasm': 3993, 'reid': 3994, 'hay': 3995, 'firm': 3996, 'lampoon': 3997, 'alison': 3998, 'warmth': 3999, 'unawar': 4000, 'roof': 4001, 'edgi': 4002, 'alarm': 4003, 'mtv': 4004, 'disord': 4005, 'marion': 4006, 'priceless': 4007, 'greed': 4008, '3d': 4009, 'nyc': 4010, 'exquisit': 4011, 'errol': 4012, 'dolph': 4013, 'agenda': 4014, 'novak': 4015, 'vital': 4016, 'palac': 4017, 'rukh': 4018, '13th': 4019, 'petti': 4020, 'session': 4021, 'angela': 4022, 'preserv': 4023, 'peril': 4024, 'minimum': 4025, 'testament': 4026, 'simultan': 4027, 'peck': 4028, 'profit': 4029, 'crown': 4030, 'coup': 4031, 'distort': 4032, 'campaign': 4033, 'spain': 4034, 'eastern': 4035, 'showdown': 4036, 'gestur': 4037, 'nun': 4038, 'israel': 4039, 'pamela': 4040, 'glanc': 4041, 'sergeant': 4042, '1933': 4043, 'championship': 4044, 'drip': 4045, 'zizek': 4046, 'what': 4047, 'beatl': 4048, 'ponder': 4049, 'valentin': 4050, 'orlean': 4051, 'unleash': 4052, 'iraq': 4053, 'randomli': 4054, 'thompson': 4055, 'cassidi': 4056, 'restrain': 4057, 'regist': 4058, 'rout': 4059, 'cooki': 4060, 'exposit': 4061, 'buster': 4062, 'calib': 4063, 'valley': 4064, 'contradict': 4065, 'mon': 4066, 'scotland': 4067, 'bro': 4068, 'jan': 4069, 'crow': 4070, 'stroke': 4071, 'shootout': 4072, 'crawl': 4073, 'empathi': 4074, 'kurosawa': 4075, 'fido': 4076, 'wig': 4077, 'cream': 4078, 'travesti': 4079, 'represent': 4080, 'perpetu': 4081, 'unimagin': 4082, 'brenda': 4083, '1984': 4084, 'han': 4085, 'gentleman': 4086, 'realm': 4087, 'quinn': 4088, 'stake': 4089, 'din': 4090, 'climat': 4091, 'sabrina': 4092, 'reson': 4093, 'miyazaki': 4094, 'unseen': 4095, 'censor': 4096, 'shoddi': 4097, 'absent': 4098, 'tacki': 4099, 'mclaglen': 4100, 'abomin': 4101, 'distress': 4102, 'cloud': 4103, 'pole': 4104, 'businessman': 4105, '1987': 4106, 'femm': 4107, 'greg': 4108, 'perceiv': 4109, 'baldwin': 4110, 'fuller': 4111, 'sucker': 4112, 'soderbergh': 4113, 'meryl': 4114, 'shaki': 4115, 'ross': 4116, 'spacey': 4117, 'delic': 4118, 'josh': 4119, 'wax': 4120, 'warrant': 4121, '1997': 4122, 'passabl': 4123, 'derang': 4124, 'demis': 4125, 'monoton': 4126, 'darren': 4127, 'dana': 4128, 'geek': 4129, 'compromis': 4130, 'traumat': 4131, 'pretens': 4132, 'unsatisfi': 4133, 'painter': 4134, 'crawford': 4135, 'sammi': 4136, 'ustinov': 4137, 'stargat': 4138, 'uncov': 4139, 'jewel': 4140, 'clash': 4141, 'tarantino': 4142, 'deniro': 4143, 'click': 4144, 'reluct': 4145, 'judgment': 4146, 'valid': 4147, 'accuraci': 4148, 'kumar': 4149, 'fenc': 4150, 'dee': 4151, 'furiou': 4152, 'correctli': 4153, 'seal': 4154, 'antonioni': 4155, 'primit': 4156, 'wholli': 4157, 'nathan': 4158, 'austin': 4159, 'verbal': 4160, 'norm': 4161, 'unravel': 4162, '1993': 4163, 'exclus': 4164, 'tech': 4165, 'anchor': 4166, 'fog': 4167, 'expedit': 4168, 'deceas': 4169, 'sid': 4170, 'polici': 4171, 'clerk': 4172, 'behold': 4173, 'wretch': 4174, 'dreck': 4175, 'bake': 4176, 'seldom': 4177, 'malon': 4178, 'shanghai': 4179, 'ritual': 4180, 'fabric': 4181, '2008': 4182, 'conduct': 4183, 'enforc': 4184, 'fought': 4185, 'roller': 4186, '1971': 4187, 'fart': 4188, 'joel': 4189, 'temper': 4190, 'pocket': 4191, 'crippl': 4192, 'debt': 4193, 'patienc': 4194, 'trait': 4195, 'vanc': 4196, 'slam': 4197, 'sand': 4198, '3000': 4199, 'murray': 4200, 'sustain': 4201, 'unfair': 4202, 'nicola': 4203, 'alec': 4204, 'wang': 4205, 'logan': 4206, 'mode': 4207, '1995': 4208, 'darn': 4209, 'sunni': 4210, 'tax': 4211, 'hallucin': 4212, 'sheet': 4213, 'robber': 4214, 'fundament': 4215, 'pete': 4216, 'stuart': 4217, 'phil': 4218, 'divid': 4219, 'canyon': 4220, 'rita': 4221, 'stark': 4222, 'guitar': 4223, 'soup': 4224, 'outlin': 4225, 'tactic': 4226, 'runner': 4227, 'sweep': 4228, 'schedul': 4229, 'isabel': 4230, 'despis': 4231, 'clau': 4232, 'critiqu': 4233, 'legaci': 4234, 'technicolor': 4235, 'helpless': 4236, 'preposter': 4237, 'scriptwrit': 4238, 'bridget': 4239, 'bias': 4240, 'exhaust': 4241, 'penni': 4242, 'preston': 4243, 'squad': 4244, 'shell': 4245, 'grief': 4246, 'conscious': 4247, 'liberti': 4248, 'jacket': 4249, 'vomit': 4250, 'culmin': 4251, 'consciou': 4252, 'agenc': 4253, 'invad': 4254, 'jodi': 4255, 'propos': 4256, 'restrict': 4257, 'bloom': 4258, 'connor': 4259, 'kansa': 4260, 'newman': 4261, 'russia': 4262, 'lacklust': 4263, 'delv': 4264, 'rear': 4265, 'passag': 4266, 'cigarett': 4267, 'implic': 4268, 'drove': 4269, 'downey': 4270, 'marc': 4271, 'boyl': 4272, 'alley': 4273, 'inabl': 4274, 'rehash': 4275, 'alicia': 4276, 'palanc': 4277, 'flair': 4278, 'unexpectedli': 4279, 'sugar': 4280, 'sentinel': 4281, 'sniper': 4282, 'gregori': 4283, 'aesthet': 4284, 'asylum': 4285, 'foxx': 4286, 'rampag': 4287, 'delet': 4288, 'behaviour': 4289, 'yeti': 4290, 'mccoy': 4291, 'wrench': 4292, 'lush': 4293, 'tripe': 4294, 'karl': 4295, 'cap': 4296, 'arrow': 4297, 'tendenc': 4298, 'sharon': 4299, 'improb': 4300, 'pale': 4301, 'awhil': 4302, 'chainsaw': 4303, 'bacon': 4304, 'rod': 4305, 'kolchak': 4306, 'feat': 4307, '1936': 4308, 'rehears': 4309, 'vet': 4310, 'horn': 4311, '22': 4312, 'ladder': 4313, 'conscienc': 4314, 'paradis': 4315, 'lurk': 4316, 'visitor': 4317, 'fright': 4318, 'suffici': 4319, 'suspicion': 4320, 'amazon': 4321, 'wagner': 4322, 'wildli': 4323, 'spice': 4324, 'underneath': 4325, 'weav': 4326, 'thunderbird': 4327, '19th': 4328, 'tomorrow': 4329, 'stream': 4330, 'el': 4331, 'coaster': 4332, 'filler': 4333, 'globe': 4334, 'aristocrat': 4335, '1920': 4336, 'financ': 4337, 'minu': 4338, 'elit': 4339, 'scoop': 4340, '1988': 4341, 'shortcom': 4342, 'hackney': 4343, 'newcom': 4344, 'sung': 4345, 'paramount': 4346, 'rumor': 4347, 'rhythm': 4348, 'prank': 4349, 'hulk': 4350, 'tasteless': 4351, 'hungri': 4352, 'basing': 4353, '1978': 4354, 'loneli': 4355, 'curli': 4356, 'standout': 4357, 'inmat': 4358, 'lectur': 4359, 'recogniz': 4360, 'penn': 4361, 'ram': 4362, 'leigh': 4363, 'ingeni': 4364, 'naughti': 4365, 'paxton': 4366, 'brit': 4367, 'minist': 4368, 'chavez': 4369, 'straightforward': 4370, 'teas': 4371, 'rub': 4372, 'en': 4373, 'beverli': 4374, 'tierney': 4375, 'smell': 4376, 'cancer': 4377, 'entranc': 4378, 'dirt': 4379, 'counterpart': 4380, 'hopkin': 4381, 'couch': 4382, 'atroc': 4383, 'immers': 4384, 'secondari': 4385, '1989': 4386, '75': 4387, 'abrupt': 4388, 'grudg': 4389, 'chamberlain': 4390, 'literari': 4391, 'choppi': 4392, 'worship': 4393, 'impos': 4394, 'heist': 4395, 'quietli': 4396, 'bread': 4397, 'wwe': 4398, '1939': 4399, 'posey': 4400, 'springer': 4401, 'iv': 4402, 'convert': 4403, 'misguid': 4404, 'lindsay': 4405, 'sublim': 4406, 'net': 4407, 'yearn': 4408, 'clan': 4409, 'skeptic': 4410, 'enthral': 4411, 'morbid': 4412, 'missil': 4413, 'heartfelt': 4414, 'quaid': 4415, 'policeman': 4416, 'cattl': 4417, 'duel': 4418, 'bernard': 4419, 'transcend': 4420, 'sassi': 4421, 'nemesi': 4422, 'ace': 4423, 'watcher': 4424, 'esther': 4425, 'ratso': 4426, 'injuri': 4427, 'geni': 4428, 'entitl': 4429, '1986': 4430, 'variat': 4431, 'nolan': 4432, 'attenborough': 4433, 'laurenc': 4434, 'moreov': 4435, '1979': 4436, 'spiral': 4437, 'steadi': 4438, 'grin': 4439, 'enabl': 4440, 'hopelessli': 4441, 'bean': 4442, 'moder': 4443, 'brood': 4444, 'dont': 4445, 'youngest': 4446, 'out': 4447, 'characteris': 4448, 'kidman': 4449, 'tyler': 4450, 'obstacl': 4451, 'diari': 4452, 'buzz': 4453, 'hk': 4454, 'rosemari': 4455, 'egg': 4456, 'graini': 4457, 'vader': 4458, 'unexplain': 4459, 'bye': 4460, 'poe': 4461, 'artsi': 4462, 'uncut': 4463, 'mytholog': 4464, 'puppi': 4465, 'reliabl': 4466, 'cruelti': 4467, 'setup': 4468, 'facil': 4469, 'kitti': 4470, 'carlito': 4471, 'hain': 4472, 'heap': 4473, 'sweat': 4474, 'bewar': 4475, 'acquaint': 4476, 'clueless': 4477, 'gillian': 4478, 'weather': 4479, 'spontan': 4480, 'christin': 4481, 'despic': 4482, 'bronson': 4483, 'athlet': 4484, 'narrow': 4485, 'niec': 4486, 'baffl': 4487, 'effici': 4488, 'underworld': 4489, 'brendan': 4490, 'kline': 4491, 'oblig': 4492, '1969': 4493, 'hammi': 4494, 'exterior': 4495, 'disastr': 4496, 'fuel': 4497, 'martha': 4498, 'bounc': 4499, 'patricia': 4500, 'decept': 4501, 'gina': 4502, 'preming': 4503, 'trigger': 4504, 'candl': 4505, 'sooner': 4506, 'suprem': 4507, 'circu': 4508, 'tick': 4509, 'loath': 4510, 'shatter': 4511, 'uh': 4512, 'mermaid': 4513, 'outlaw': 4514, 'loi': 4515, 'hepburn': 4516, 'scar': 4517, 'enlist': 4518, 'goof': 4519, 'harmless': 4520, 'renaiss': 4521, 'injur': 4522, 'biker': 4523, '19': 4524, 'housewif': 4525, '73': 4526, 'preachi': 4527, 'taboo': 4528, 'mayhem': 4529, 'rome': 4530, 'viewpoint': 4531, 'headach': 4532, 'lester': 4533, 'dandi': 4534, 'astound': 4535, 'sleepwalk': 4536, 'analyz': 4537, 'virtu': 4538, 'insipid': 4539, 'angst': 4540, 'dilemma': 4541, 'fontain': 4542, 'boston': 4543, 'sox': 4544, 'salt': 4545, 'tripl': 4546, 'stair': 4547, 'overlong': 4548, 'bent': 4549, 'camcord': 4550, 'amor': 4551, 'foolish': 4552, 'hooker': 4553, 'ebert': 4554, 'phenomenon': 4555, 'macho': 4556, 'dish': 4557, 'filth': 4558, 'ariel': 4559, 'stimul': 4560, 'oldest': 4561, 'spade': 4562, 'slimi': 4563, 'gere': 4564, 'hokey': 4565, 'steer': 4566, 'dismal': 4567, 'idol': 4568, 'scorses': 4569, 'cassavet': 4570, 'hostag': 4571, 'guin': 4572, 'whore': 4573, 'intric': 4574, 'redund': 4575, 'glorifi': 4576, 'claustrophob': 4577, 'fluff': 4578, 'immatur': 4579, 'zoom': 4580, 'surgeri': 4581, 'contempt': 4582, 'corbett': 4583, '1981': 4584, 'rhyme': 4585, 'schlock': 4586, '1976': 4587, 'harold': 4588, 'strongest': 4589, 'gabl': 4590, 'flirt': 4591, 'flashi': 4592, 'perman': 4593, 'spree': 4594, 'faint': 4595, 'beard': 4596, 'shield': 4597, 'proport': 4598, 'dwarf': 4599, 'keen': 4600, 'shred': 4601, 'alvin': 4602, 'cush': 4603, 'remad': 4604, 'flag': 4605, 'cow': 4606, 'conquer': 4607, 'cohen': 4608, 'fascist': 4609, 'corman': 4610, 'nolt': 4611, 'margin': 4612, 'mount': 4613, 'trivia': 4614, 'transplant': 4615, 'obligatori': 4616, 'antagonist': 4617, 'widescreen': 4618, 'assert': 4619, 'zane': 4620, 'preced': 4621, 'spinal': 4622, 'joker': 4623, 'muscl': 4624, 'messi': 4625, 'gasp': 4626, 'down': 4627, 'radiat': 4628, 'frantic': 4629, 'mutual': 4630, 'naschi': 4631, 'astronaut': 4632, 'wield': 4633, 'hara': 4634, 'flock': 4635, 'ritchi': 4636, 'strive': 4637, 'brush': 4638, '95': 4639, 'divin': 4640, 'archiv': 4641, 'persuad': 4642, 'inflict': 4643, 'carey': 4644, 'resum': 4645, 'bachelor': 4646, 'raj': 4647, 'danish': 4648, 'www': 4649, 'interestingli': 4650, 'repris': 4651, 'discern': 4652, 'fishburn': 4653, 'off': 4654, 'neurot': 4655, 'departur': 4656, 'scandal': 4657, 'boob': 4658, 'mobil': 4659, 'vaniti': 4660, '28': 4661, '1945': 4662, 'info': 4663, 'someday': 4664, 'barn': 4665, 'triangl': 4666, 'instruct': 4667, 'claud': 4668, 'deer': 4669, 'bitten': 4670, 'sensual': 4671, 'aborigin': 4672, 'mol': 4673, 'cycl': 4674, 'undermin': 4675, 'luka': 4676, 'ish': 4677, 'proclaim': 4678, 'recit': 4679, 'dim': 4680, 'europa': 4681, 'miracul': 4682, 'bate': 4683, 'submit': 4684, 'cliffhang': 4685, 'hapless': 4686, 'artwork': 4687, 'helm': 4688, 'banter': 4689, 'cb': 4690, 'clad': 4691, 'earnest': 4692, 'biblic': 4693, 'traffic': 4694, 'pickford': 4695, 'dylan': 4696, 'loretta': 4697, 'colin': 4698, 'pixar': 4699, 'harrison': 4700, 'axe': 4701, 'parson': 4702, 'jade': 4703, 'rot': 4704, 'senior': 4705, 'melissa': 4706, 'hug': 4707, 'frontier': 4708, 'dame': 4709, 'heartwarm': 4710, 'vibrant': 4711, 'fragil': 4712, 'pacif': 4713, 'cher': 4714, 'mobster': 4715, 'timberlak': 4716, 'hilar': 4717, 'casino': 4718, 'prophet': 4719, 'anton': 4720, 'wendigo': 4721, 'carlo': 4722, 'neill': 4723, 'kathryn': 4724, 'estrang': 4725, 'lucil': 4726, 'venom': 4727, 'pc': 4728, 'bikini': 4729, 'aris': 4730, 'jordan': 4731, 'toronto': 4732, 'feast': 4733, 'trier': 4734, 'http': 4735, 'blatantli': 4736, 'legitim': 4737, 'holocaust': 4738, 'articl': 4739, 'seedi': 4740, 'misfortun': 4741, 'shepherd': 4742, 'northern': 4743, 'winchest': 4744, 'token': 4745, 'mason': 4746, 'vile': 4747, 'rooki': 4748, 'breakfast': 4749, 'flavor': 4750, 'electron': 4751, 'isra': 4752, 'cerebr': 4753, 'jo': 4754, 'orphan': 4755, 'foil': 4756, 'illus': 4757, 'choke': 4758, 'static': 4759, 'bondag': 4760, 'milo': 4761, 'redneck': 4762, 'alexandr': 4763, 'vanessa': 4764, 'sicken': 4765, 'wardrob': 4766, 'nope': 4767, 'antholog': 4768, 'mathieu': 4769, 'uma': 4770, 'akin': 4771, 'lui': 4772, 'marlon': 4773, 'eli': 4774, 'razor': 4775, 'styliz': 4776, 'feminin': 4777, 'peer': 4778, 'psych': 4779, 'audrey': 4780, 'outdat': 4781, 'affleck': 4782, 'highway': 4783, 'deem': 4784, 'ideolog': 4785, 'ceremoni': 4786, 'smack': 4787, 'fifth': 4788, 'turd': 4789, 'swept': 4790, 'cartoonish': 4791, 'glare': 4792, 'tack': 4793, 'disregard': 4794, 'frog': 4795, 'leather': 4796, 'howl': 4797, 'dudley': 4798, 'nightclub': 4799, 'gilbert': 4800, 'comprehend': 4801, 'retriev': 4802, 'oppon': 4803, 'shorter': 4804, 'abund': 4805, 'knightley': 4806, 'linear': 4807, 'gunga': 4808, 'clinic': 4809, 'huston': 4810, 'magician': 4811, 'wrestler': 4812, 'charlton': 4813, 'boyer': 4814, 'lighter': 4815, 'corn': 4816, 'goldsworthi': 4817, 'whack': 4818, 'toe': 4819, 'phenomen': 4820, 'tara': 4821, '1991': 4822, 'plate': 4823, 'monument': 4824, 'moe': 4825, 'chip': 4826, 'bogu': 4827, 'conrad': 4828, 'bastard': 4829, 'braveheart': 4830, 'greet': 4831, 'durat': 4832, '4th': 4833, 'btw': 4834, 'cuban': 4835, 'compris': 4836, 'client': 4837, 'summar': 4838, 'deliver': 4839, 'snatch': 4840, 'lifeless': 4841, 'spine': 4842, 'boo': 4843, 'evolut': 4844, 'newer': 4845, '1994': 4846, 'cemeteri': 4847, 'collector': 4848, 'energet': 4849, 'senat': 4850, 'sleaz': 4851, 'einstein': 4852, 'salman': 4853, 'breakdown': 4854, 'lavish': 4855, 'uniformli': 4856, 'mitch': 4857, 'potter': 4858, 'spawn': 4859, 'jam': 4860, '1974': 4861, 'outright': 4862, 'judd': 4863, 'ie': 4864, 'spectacl': 4865, 'belli': 4866, 'neatli': 4867, 'eleven': 4868, 'replay': 4869, 'alleg': 4870, 'ol': 4871, 'creek': 4872, 'embark': 4873, 'firmli': 4874, 'fluid': 4875, 'mcqueen': 4876, 'healthi': 4877, 'capot': 4878, 'historian': 4879, 'sorrow': 4880, 'pronounc': 4881, 'lex': 4882, 'wtf': 4883, 'cecil': 4884, 'kent': 4885, '1977': 4886, 'bori': 4887, 'evelyn': 4888, 'clara': 4889, 'occup': 4890, 'randolph': 4891, 'nina': 4892, 'signal': 4893, 'jule': 4894, 'luxuri': 4895, 'undertak': 4896, 'appl': 4897, 'kazan': 4898, 'bulk': 4899, 'jare': 4900, 'constitut': 4901, 'trauma': 4902, 'jedi': 4903, 'liu': 4904, 'inaccuraci': 4905, 'armstrong': 4906, 'undead': 4907, 'gilliam': 4908, 'abound': 4909, '1985': 4910, 'id': 4911, 'inclus': 4912, 'ash': 4913, 'comb': 4914, 'roar': 4915, 'conan': 4916, 'kiddi': 4917, 'decapit': 4918, 'lauren': 4919, 'miniseri': 4920, 'porter': 4921, 'vain': 4922, 'truman': 4923, 'rosario': 4924, 'unsuspect': 4925, 'poker': 4926, 'spray': 4927, 'comprehens': 4928, 'bait': 4929, 'fruit': 4930, 'aussi': 4931, 'pioneer': 4932, 'tokyo': 4933, 'curtain': 4934, 'congratul': 4935, 'walt': 4936, 'mum': 4937, 'knee': 4938, 'meal': 4939, 'blur': 4940, 'antonio': 4941, 'sacrif': 4942, 'genet': 4943, 'miami': 4944, 'sidewalk': 4945, 'forgiven': 4946, 'bsg': 4947, 'groan': 4948, 'unattract': 4949, 'inaccur': 4950, 'basket': 4951, 'paula': 4952, 'carmen': 4953, 'palm': 4954, 'goldblum': 4955, 'vignett': 4956, 'relentless': 4957, 'pepper': 4958, 'subtli': 4959, 'cape': 4960, 'propheci': 4961, 'lanc': 4962, 'galaxi': 4963, 'optimist': 4964, 'scariest': 4965, 'orchestr': 4966, 'sparkl': 4967, 'assort': 4968, 'substanti': 4969, 'rapidli': 4970, 'casper': 4971, 'modest': 4972, 'hackman': 4973, 'omin': 4974, 'frontal': 4975, 'spill': 4976, 'turtl': 4977, 'epitom': 4978, 'verg': 4979, 'dubiou': 4980, 'motorcycl': 4981, 'detach': 4982, 'profil': 4983, 'monti': 4984, 'cypher': 4985, 'bravo': 4986, 'mice': 4987, 'sophi': 4988, 'scarfac': 4989, 'victorian': 4990, 'drone': 4991, 'hostil': 4992, 'macabr': 4993, 'ingrid': 4994, 'handicap': 4995, 'jill': 4996, 'bach': 4997, 'asset': 4998, 'weari': 4999}\n"
     ]
    }
   ],
   "source": [
    "print(word_dict)"
   ]
  },
  {
   "cell_type": "markdown",
   "metadata": {},
   "source": [
    "**Question:** What are the five most frequently appearing (tokenized) words in the training set? Does it makes sense that these words appear frequently in the training set?"
   ]
  },
  {
   "cell_type": "markdown",
   "metadata": {},
   "source": [
    "**Answer:** The five most frequent words appearing in training set are'movi',\n",
    "'film',\n",
    "'one',\n",
    "'like',\n",
    "'time'"
   ]
  },
  {
   "cell_type": "code",
   "execution_count": 14,
   "metadata": {},
   "outputs": [
    {
     "name": "stdout",
     "output_type": "stream",
     "text": [
      "movi\n",
      "film\n",
      "one\n",
      "like\n",
      "time\n"
     ]
    }
   ],
   "source": [
    " for x in list(word_dict)[0:5]:\n",
    "        print(x)\n",
    "        "
   ]
  },
  {
   "cell_type": "markdown",
   "metadata": {},
   "source": [
    "### Save `word_dict`\n",
    "\n",
    "Later on when we construct an endpoint which processes a submitted review we will need to make use of the `word_dict` which we have created. As such, we will save it to a file now for future use."
   ]
  },
  {
   "cell_type": "code",
   "execution_count": 15,
   "metadata": {},
   "outputs": [],
   "source": [
    "data_dir = '../data/pytorch' # The folder we will use for storing data\n",
    "if not os.path.exists(data_dir): # Make sure that the folder exists\n",
    "    os.makedirs(data_dir)"
   ]
  },
  {
   "cell_type": "code",
   "execution_count": 16,
   "metadata": {},
   "outputs": [],
   "source": [
    "with open(os.path.join(data_dir, 'word_dict.pkl'), \"wb\") as f:\n",
    "    pickle.dump(word_dict, f)"
   ]
  },
  {
   "cell_type": "markdown",
   "metadata": {},
   "source": [
    "### Transform the reviews\n",
    "\n",
    "Now that we have our word dictionary which allows us to transform the words appearing in the reviews into integers, it is time to make use of it and convert our reviews to their integer sequence representation, making sure to pad or truncate to a fixed length, which in our case is `500`."
   ]
  },
  {
   "cell_type": "code",
   "execution_count": 17,
   "metadata": {},
   "outputs": [],
   "source": [
    "\n",
    "def convert_and_pad(word_dict, sentence, pad=500):\n",
    "    NOWORD = 0 # We will use 0 to represent the 'no word' category\n",
    "    INFREQ = 1 # and we use 1 to represent the infrequent words, i.e., words not appearing in word_dict\n",
    "    \n",
    "    working_sentence = [NOWORD] * pad\n",
    "    \n",
    "    for word_index, word in enumerate(sentence[:pad]):\n",
    "        if word in word_dict:\n",
    "            working_sentence[word_index] = word_dict[word]\n",
    "        else:\n",
    "            working_sentence[word_index] = INFREQ\n",
    "            \n",
    "    return working_sentence, min(len(sentence), pad)\n",
    "\n",
    "def convert_and_pad_data(word_dict, data, pad=500):\n",
    "    result = []\n",
    "    lengths = []\n",
    "    \n",
    "    for sentence in data:\n",
    "        converted, leng = convert_and_pad(word_dict, sentence, pad)\n",
    "        result.append(converted)\n",
    "        lengths.append(leng)\n",
    "        \n",
    "    return np.array(result), np.array(lengths)"
   ]
  },
  {
   "cell_type": "code",
   "execution_count": 18,
   "metadata": {},
   "outputs": [],
   "source": [
    "train_X, train_X_len = convert_and_pad_data(word_dict, train_X)\n",
    "test_X, test_X_len = convert_and_pad_data(word_dict, test_X)"
   ]
  },
  {
   "cell_type": "markdown",
   "metadata": {},
   "source": [
    "As a quick check to make sure that things are working as intended, check to see what one of the reviews in the training set looks like after having been processeed. Does this look reasonable? What is the length of a review in the training set?"
   ]
  },
  {
   "cell_type": "code",
   "execution_count": 19,
   "metadata": {},
   "outputs": [
    {
     "name": "stdout",
     "output_type": "stream",
     "text": [
      " First train review after converting and padding  [  47    3  976 1144    6  304 4860 1330  164  271    1   57 3533   60\n",
      "  123   43  591    1    1 4861 2368    1 1627 4584   51   99   43   36\n",
      "  660  951    5    1    1   81  135    1 1078 1272  151  888  271    1\n",
      " 1078 1272    3  660   53   60    0    0    0    0    0    0    0    0\n",
      "    0    0    0    0    0    0    0    0    0    0    0    0    0    0\n",
      "    0    0    0    0    0    0    0    0    0    0    0    0    0    0\n",
      "    0    0    0    0    0    0    0    0    0    0    0    0    0    0\n",
      "    0    0    0    0    0    0    0    0    0    0    0    0    0    0\n",
      "    0    0    0    0    0    0    0    0    0    0    0    0    0    0\n",
      "    0    0    0    0    0    0    0    0    0    0    0    0    0    0\n",
      "    0    0    0    0    0    0    0    0    0    0    0    0    0    0\n",
      "    0    0    0    0    0    0    0    0    0    0    0    0    0    0\n",
      "    0    0    0    0    0    0    0    0    0    0    0    0    0    0\n",
      "    0    0    0    0    0    0    0    0    0    0    0    0    0    0\n",
      "    0    0    0    0    0    0    0    0    0    0    0    0    0    0\n",
      "    0    0    0    0    0    0    0    0    0    0    0    0    0    0\n",
      "    0    0    0    0    0    0    0    0    0    0    0    0    0    0\n",
      "    0    0    0    0    0    0    0    0    0    0    0    0    0    0\n",
      "    0    0    0    0    0    0    0    0    0    0    0    0    0    0\n",
      "    0    0    0    0    0    0    0    0    0    0    0    0    0    0\n",
      "    0    0    0    0    0    0    0    0    0    0    0    0    0    0\n",
      "    0    0    0    0    0    0    0    0    0    0    0    0    0    0\n",
      "    0    0    0    0    0    0    0    0    0    0    0    0    0    0\n",
      "    0    0    0    0    0    0    0    0    0    0    0    0    0    0\n",
      "    0    0    0    0    0    0    0    0    0    0    0    0    0    0\n",
      "    0    0    0    0    0    0    0    0    0    0    0    0    0    0\n",
      "    0    0    0    0    0    0    0    0    0    0    0    0    0    0\n",
      "    0    0    0    0    0    0    0    0    0    0    0    0    0    0\n",
      "    0    0    0    0    0    0    0    0    0    0    0    0    0    0\n",
      "    0    0    0    0    0    0    0    0    0    0    0    0    0    0\n",
      "    0    0    0    0    0    0    0    0    0    0    0    0    0    0\n",
      "    0    0    0    0    0    0    0    0    0    0    0    0    0    0\n",
      "    0    0    0    0    0    0    0    0    0    0    0    0    0    0\n",
      "    0    0    0    0    0    0    0    0    0    0    0    0    0    0\n",
      "    0    0    0    0    0    0    0    0    0    0    0    0    0    0\n",
      "    0    0    0    0    0    0    0    0    0    0]\n",
      "length of the first train review is 500\n",
      "length of the sentence in the train review is 48\n",
      "-------------------------------------------------------------------------\n",
      " First test review after converting and padding  [  99  203    3 3271   73  261  659 2781    1  690  408 3118  770 1631\n",
      "  156  218   12 2140  294 1590 1644 1371  159   22 2781  690 2506 4323\n",
      "   12 1329   59  180   62 2781   33    1 3797 1412 1340  204    5    1\n",
      " 1404  339  541  690   27    1  838  563  355    7 1421    3 1133  285\n",
      " 1541 1233   73   67 3927    8 3916 4082    1    1  630  224    6  310\n",
      "   73   67    1    0    0    0    0    0    0    0    0    0    0    0\n",
      "    0    0    0    0    0    0    0    0    0    0    0    0    0    0\n",
      "    0    0    0    0    0    0    0    0    0    0    0    0    0    0\n",
      "    0    0    0    0    0    0    0    0    0    0    0    0    0    0\n",
      "    0    0    0    0    0    0    0    0    0    0    0    0    0    0\n",
      "    0    0    0    0    0    0    0    0    0    0    0    0    0    0\n",
      "    0    0    0    0    0    0    0    0    0    0    0    0    0    0\n",
      "    0    0    0    0    0    0    0    0    0    0    0    0    0    0\n",
      "    0    0    0    0    0    0    0    0    0    0    0    0    0    0\n",
      "    0    0    0    0    0    0    0    0    0    0    0    0    0    0\n",
      "    0    0    0    0    0    0    0    0    0    0    0    0    0    0\n",
      "    0    0    0    0    0    0    0    0    0    0    0    0    0    0\n",
      "    0    0    0    0    0    0    0    0    0    0    0    0    0    0\n",
      "    0    0    0    0    0    0    0    0    0    0    0    0    0    0\n",
      "    0    0    0    0    0    0    0    0    0    0    0    0    0    0\n",
      "    0    0    0    0    0    0    0    0    0    0    0    0    0    0\n",
      "    0    0    0    0    0    0    0    0    0    0    0    0    0    0\n",
      "    0    0    0    0    0    0    0    0    0    0    0    0    0    0\n",
      "    0    0    0    0    0    0    0    0    0    0    0    0    0    0\n",
      "    0    0    0    0    0    0    0    0    0    0    0    0    0    0\n",
      "    0    0    0    0    0    0    0    0    0    0    0    0    0    0\n",
      "    0    0    0    0    0    0    0    0    0    0    0    0    0    0\n",
      "    0    0    0    0    0    0    0    0    0    0    0    0    0    0\n",
      "    0    0    0    0    0    0    0    0    0    0    0    0    0    0\n",
      "    0    0    0    0    0    0    0    0    0    0    0    0    0    0\n",
      "    0    0    0    0    0    0    0    0    0    0    0    0    0    0\n",
      "    0    0    0    0    0    0    0    0    0    0    0    0    0    0\n",
      "    0    0    0    0    0    0    0    0    0    0    0    0    0    0\n",
      "    0    0    0    0    0    0    0    0    0    0    0    0    0    0\n",
      "    0    0    0    0    0    0    0    0    0    0    0    0    0    0\n",
      "    0    0    0    0    0    0    0    0    0    0]\n",
      "length of the first test review is 500\n",
      "length of the sentence in the test review is 73\n"
     ]
    }
   ],
   "source": [
    "# Use this cell to examine one of the processed reviews to make sure everything is working as intended.\n",
    "print(' First train review after converting and padding  {}'.format(train_X[0]))\n",
    "print('length of the first train review is {}'.format(len(train_X[0])))\n",
    "print('length of the sentence in the train review is {}'.format(train_X_len[0]))\n",
    "\n",
    "print('-------------------------------------------------------------------------')\n",
    "print(' First test review after converting and padding  {}'.format(test_X[0]))\n",
    "print('length of the first test review is {}'.format(len(test_X[0])))\n",
    "print('length of the sentence in the test review is {}'.format(test_X_len[0]))"
   ]
  },
  {
   "cell_type": "markdown",
   "metadata": {},
   "source": [
    "**Question:** In the cells above we use the `preprocess_data` and `convert_and_pad_data` methods to process both the training and testing set. Why or why not might this be a problem?"
   ]
  },
  {
   "cell_type": "markdown",
   "metadata": {},
   "source": [
    "**Answer:** Preprocessing on training and testing set  is important to standardize the data. Convert and Pad is needed on both training and testing data so that the data sent will be numerical and of the same length. This will not be any problem."
   ]
  },
  {
   "cell_type": "markdown",
   "metadata": {},
   "source": [
    "## Step 3: Upload the data to S3\n",
    "\n",
    "As in the XGBoost notebook, we will need to upload the training dataset to S3 in order for our training code to access it. For now we will save it locally and we will upload to S3 later on.\n",
    "\n",
    "### Save the processed training dataset locally\n",
    "\n",
    "It is important to note the format of the data that we are saving as we will need to know it when we write the training code. In our case, each row of the dataset has the form `label`, `length`, `review[500]` where `review[500]` is a sequence of `500` integers representing the words in the review."
   ]
  },
  {
   "cell_type": "code",
   "execution_count": 20,
   "metadata": {},
   "outputs": [],
   "source": [
    "import pandas as pd\n",
    "    \n",
    "pd.concat([pd.DataFrame(train_y), pd.DataFrame(train_X_len), pd.DataFrame(train_X)], axis=1) \\\n",
    "        .to_csv(os.path.join(data_dir, 'train.csv'), header=False, index=False)"
   ]
  },
  {
   "cell_type": "markdown",
   "metadata": {},
   "source": [
    "### Uploading the training data\n",
    "\n",
    "\n",
    "Next, we need to upload the training data to the SageMaker default S3 bucket so that we can provide access to it while training our model."
   ]
  },
  {
   "cell_type": "code",
   "execution_count": 21,
   "metadata": {},
   "outputs": [],
   "source": [
    "import sagemaker\n",
    "\n",
    "sagemaker_session = sagemaker.Session()\n",
    "\n",
    "bucket = sagemaker_session.default_bucket()\n",
    "prefix = 'sagemaker/sentiment_rnn'\n",
    "\n",
    "role = sagemaker.get_execution_role()"
   ]
  },
  {
   "cell_type": "code",
   "execution_count": 22,
   "metadata": {},
   "outputs": [],
   "source": [
    "input_data = sagemaker_session.upload_data(path=data_dir, bucket=bucket, key_prefix=prefix)"
   ]
  },
  {
   "cell_type": "markdown",
   "metadata": {},
   "source": [
    "**NOTE:** The cell above uploads the entire contents of our data directory. This includes the `word_dict.pkl` file. This is fortunate as we will need this later on when we create an endpoint that accepts an arbitrary review. For now, we will just take note of the fact that it resides in the data directory (and so also in the S3 training bucket) and that we will need to make sure it gets saved in the model directory."
   ]
  },
  {
   "cell_type": "markdown",
   "metadata": {},
   "source": [
    "## Step 4: Build and Train the PyTorch Model\n",
    "\n",
    "In the XGBoost notebook we discussed what a model is in the SageMaker framework. In particular, a model comprises three objects\n",
    "\n",
    " - Model Artifacts,\n",
    " - Training Code, and\n",
    " - Inference Code,\n",
    " \n",
    "each of which interact with one another. In the XGBoost example we used training and inference code that was provided by Amazon. Here we will still be using containers provided by Amazon with the added benefit of being able to include our own custom code.\n",
    "\n",
    "We will start by implementing our own neural network in PyTorch along with a training script. For the purposes of this project we have provided the necessary model object in the `model.py` file, inside of the `train` folder. You can see the provided implementation by running the cell below."
   ]
  },
  {
   "cell_type": "code",
   "execution_count": 23,
   "metadata": {},
   "outputs": [
    {
     "name": "stdout",
     "output_type": "stream",
     "text": [
      "\u001b[34mimport\u001b[39;49;00m \u001b[04m\u001b[36mtorch\u001b[39;49;00m\u001b[04m\u001b[36m.\u001b[39;49;00m\u001b[04m\u001b[36mnn\u001b[39;49;00m \u001b[34mas\u001b[39;49;00m \u001b[04m\u001b[36mnn\u001b[39;49;00m\r\n",
      "\r\n",
      "\u001b[34mclass\u001b[39;49;00m \u001b[04m\u001b[32mLSTMClassifier\u001b[39;49;00m(nn.Module):\r\n",
      "    \u001b[33m\"\"\"\u001b[39;49;00m\r\n",
      "\u001b[33m    This is the simple RNN model we will be using to perform Sentiment Analysis.\u001b[39;49;00m\r\n",
      "\u001b[33m    \"\"\"\u001b[39;49;00m\r\n",
      "\r\n",
      "    \u001b[34mdef\u001b[39;49;00m \u001b[32m__init__\u001b[39;49;00m(\u001b[36mself\u001b[39;49;00m, embedding_dim, hidden_dim, vocab_size):\r\n",
      "        \u001b[33m\"\"\"\u001b[39;49;00m\r\n",
      "\u001b[33m        Initialize the model by settingg up the various layers.\u001b[39;49;00m\r\n",
      "\u001b[33m        \"\"\"\u001b[39;49;00m\r\n",
      "        \u001b[36msuper\u001b[39;49;00m(LSTMClassifier, \u001b[36mself\u001b[39;49;00m).\u001b[32m__init__\u001b[39;49;00m()\r\n",
      "\r\n",
      "        \u001b[36mself\u001b[39;49;00m.embedding = nn.Embedding(vocab_size, embedding_dim, padding_idx=\u001b[34m0\u001b[39;49;00m)\r\n",
      "        \u001b[36mself\u001b[39;49;00m.lstm = nn.LSTM(embedding_dim, hidden_dim)\r\n",
      "        \u001b[36mself\u001b[39;49;00m.dense = nn.Linear(in_features=hidden_dim, out_features=\u001b[34m1\u001b[39;49;00m)\r\n",
      "        \u001b[36mself\u001b[39;49;00m.sig = nn.Sigmoid()\r\n",
      "        \r\n",
      "        \u001b[36mself\u001b[39;49;00m.word_dict = \u001b[34mNone\u001b[39;49;00m\r\n",
      "\r\n",
      "    \u001b[34mdef\u001b[39;49;00m \u001b[32mforward\u001b[39;49;00m(\u001b[36mself\u001b[39;49;00m, x):\r\n",
      "        \u001b[33m\"\"\"\u001b[39;49;00m\r\n",
      "\u001b[33m        Perform a forward pass of our model on some input.\u001b[39;49;00m\r\n",
      "\u001b[33m        \"\"\"\u001b[39;49;00m\r\n",
      "        x = x.t()\r\n",
      "        lengths = x[\u001b[34m0\u001b[39;49;00m,:]\r\n",
      "        reviews = x[\u001b[34m1\u001b[39;49;00m:,:]\r\n",
      "        embeds = \u001b[36mself\u001b[39;49;00m.embedding(reviews)\r\n",
      "        lstm_out, _ = \u001b[36mself\u001b[39;49;00m.lstm(embeds)\r\n",
      "        out = \u001b[36mself\u001b[39;49;00m.dense(lstm_out)\r\n",
      "        out = out[lengths - \u001b[34m1\u001b[39;49;00m, \u001b[36mrange\u001b[39;49;00m(\u001b[36mlen\u001b[39;49;00m(lengths))]\r\n",
      "        \u001b[34mreturn\u001b[39;49;00m \u001b[36mself\u001b[39;49;00m.sig(out.squeeze())\r\n"
     ]
    }
   ],
   "source": [
    "!pygmentize train/model.py"
   ]
  },
  {
   "cell_type": "markdown",
   "metadata": {},
   "source": [
    "The important takeaway from the implementation provided is that there are three parameters that we may wish to tweak to improve the performance of our model. These are the embedding dimension, the hidden dimension and the size of the vocabulary. We will likely want to make these parameters configurable in the training script so that if we wish to modify them we do not need to modify the script itself. We will see how to do this later on. To start we will write some of the training code in the notebook so that we can more easily diagnose any issues that arise.\n",
    "\n",
    "First we will load a small portion of the training data set to use as a sample. It would be very time consuming to try and train the model completely in the notebook as we do not have access to a gpu and the compute instance that we are using is not particularly powerful. However, we can work on a small bit of the data to get a feel for how our training script is behaving."
   ]
  },
  {
   "cell_type": "code",
   "execution_count": 24,
   "metadata": {},
   "outputs": [],
   "source": [
    "import torch\n",
    "import torch.utils.data\n",
    "\n",
    "# Read in only the first 250 rows\n",
    "train_sample = pd.read_csv(os.path.join(data_dir, 'train.csv'), header=None, names=None, nrows=250)\n",
    "\n",
    "# Turn the input pandas dataframe into tensors\n",
    "train_sample_y = torch.from_numpy(train_sample[[0]].values).float().squeeze()\n",
    "train_sample_X = torch.from_numpy(train_sample.drop([0], axis=1).values).long()\n",
    "\n",
    "# Build the dataset\n",
    "train_sample_ds = torch.utils.data.TensorDataset(train_sample_X, train_sample_y)\n",
    "# Build the dataloader\n",
    "train_sample_dl = torch.utils.data.DataLoader(train_sample_ds, batch_size=50)"
   ]
  },
  {
   "cell_type": "markdown",
   "metadata": {},
   "source": [
    "### (TODO) Writing the training method\n",
    "\n",
    "Next we need to write the training code itself. This should be very similar to training methods that you have written before to train PyTorch models. We will leave any difficult aspects such as model saving / loading and parameter loading until a little later."
   ]
  },
  {
   "cell_type": "code",
   "execution_count": 25,
   "metadata": {},
   "outputs": [],
   "source": [
    "def train(model, train_loader, epochs, optimizer, loss_fn, device):\n",
    "    for epoch in range(1, epochs + 1):\n",
    "        model.train()\n",
    "        total_loss = 0\n",
    "        for batch in train_loader:         \n",
    "            batch_X, batch_y = batch\n",
    "            \n",
    "            batch_X = batch_X.to(device)\n",
    "            batch_y = batch_y.to(device)\n",
    "            \n",
    "            # TODO: Complete this train method to train the model provided.\n",
    "            model.zero_grad()\n",
    "            output = model(batch_X)\n",
    "            \n",
    "            loss = loss_fn(output, batch_y)\n",
    "            loss.backward()\n",
    "            \n",
    "            optimizer.step()\n",
    "            \n",
    "            total_loss += loss.data.item()\n",
    "        print(\"Epoch: {}, BCELoss: {}\".format(epoch, total_loss / len(train_loader)))"
   ]
  },
  {
   "cell_type": "markdown",
   "metadata": {},
   "source": [
    "Supposing we have the training method above, we will test that it is working by writing a bit of code in the notebook that executes our training method on the small sample training set that we loaded earlier. The reason for doing this in the notebook is so that we have an opportunity to fix any errors that arise early when they are easier to diagnose."
   ]
  },
  {
   "cell_type": "code",
   "execution_count": 26,
   "metadata": {},
   "outputs": [
    {
     "name": "stdout",
     "output_type": "stream",
     "text": [
      "Epoch: 1, BCELoss: 0.6988100528717041\n",
      "Epoch: 2, BCELoss: 0.6876262903213501\n",
      "Epoch: 3, BCELoss: 0.6782677888870239\n",
      "Epoch: 4, BCELoss: 0.6682445883750916\n",
      "Epoch: 5, BCELoss: 0.6562879681587219\n"
     ]
    }
   ],
   "source": [
    "import torch.optim as optim\n",
    "from train.model import LSTMClassifier\n",
    "\n",
    "device = torch.device(\"cuda\" if torch.cuda.is_available() else \"cpu\")\n",
    "model = LSTMClassifier(32, 100, 5000).to(device)\n",
    "optimizer = optim.Adam(model.parameters())\n",
    "loss_fn = torch.nn.BCELoss()\n",
    "\n",
    "train(model, train_sample_dl, 5, optimizer, loss_fn, device)"
   ]
  },
  {
   "cell_type": "markdown",
   "metadata": {},
   "source": [
    "In order to construct a PyTorch model using SageMaker we must provide SageMaker with a training script. We may optionally include a directory which will be copied to the container and from which our training code will be run. When the training container is executed it will check the uploaded directory (if there is one) for a `requirements.txt` file and install any required Python libraries, after which the training script will be run."
   ]
  },
  {
   "cell_type": "markdown",
   "metadata": {},
   "source": [
    "### (TODO) Training the model\n",
    "\n",
    "When a PyTorch model is constructed in SageMaker, an entry point must be specified. This is the Python file which will be executed when the model is trained. Inside of the `train` directory is a file called `train.py` which has been provided and which contains most of the necessary code to train our model. The only thing that is missing is the implementation of the `train()` method which you wrote earlier in this notebook.\n",
    "\n",
    "**TODO**: Copy the `train()` method written above and paste it into the `train/train.py` file where required.\n",
    "\n",
    "The way that SageMaker passes hyperparameters to the training script is by way of arguments. These arguments can then be parsed and used in the training script. To see how this is done take a look at the provided `train/train.py` file."
   ]
  },
  {
   "cell_type": "code",
   "execution_count": 27,
   "metadata": {},
   "outputs": [],
   "source": [
    "from sagemaker.pytorch import PyTorch\n",
    "\n",
    "estimator = PyTorch(entry_point=\"train.py\",\n",
    "                    source_dir=\"train\",\n",
    "                    role=role,\n",
    "                    framework_version='0.4.0',\n",
    "                    train_instance_count=1,\n",
    "                    train_instance_type='ml.p2.xlarge',\n",
    "                    hyperparameters={\n",
    "                        'epochs': 10,\n",
    "                        'hidden_dim': 200,\n",
    "                    })"
   ]
  },
  {
   "cell_type": "code",
   "execution_count": 28,
   "metadata": {},
   "outputs": [
    {
     "name": "stderr",
     "output_type": "stream",
     "text": [
      "'create_image_uri' will be deprecated in favor of 'ImageURIProvider' class in SageMaker Python SDK v2.\n",
      "'s3_input' class will be renamed to 'TrainingInput' in SageMaker Python SDK v2.\n",
      "'create_image_uri' will be deprecated in favor of 'ImageURIProvider' class in SageMaker Python SDK v2.\n"
     ]
    },
    {
     "name": "stdout",
     "output_type": "stream",
     "text": [
      "2020-08-20 21:40:50 Starting - Starting the training job...\n",
      "2020-08-20 21:40:52 Starting - Launching requested ML instances......\n",
      "2020-08-20 21:41:54 Starting - Preparing the instances for training.........\n",
      "2020-08-20 21:43:31 Downloading - Downloading input data...\n",
      "2020-08-20 21:44:07 Training - Downloading the training image..\u001b[34mbash: cannot set terminal process group (-1): Inappropriate ioctl for device\u001b[0m\n",
      "\u001b[34mbash: no job control in this shell\u001b[0m\n",
      "\u001b[34m2020-08-20 21:44:28,896 sagemaker-containers INFO     Imported framework sagemaker_pytorch_container.training\u001b[0m\n",
      "\u001b[34m2020-08-20 21:44:28,921 sagemaker_pytorch_container.training INFO     Block until all host DNS lookups succeed.\u001b[0m\n",
      "\u001b[34m2020-08-20 21:44:28,925 sagemaker_pytorch_container.training INFO     Invoking user training script.\u001b[0m\n",
      "\u001b[34m2020-08-20 21:44:29,214 sagemaker-containers INFO     Module train does not provide a setup.py. \u001b[0m\n",
      "\u001b[34mGenerating setup.py\u001b[0m\n",
      "\u001b[34m2020-08-20 21:44:29,215 sagemaker-containers INFO     Generating setup.cfg\u001b[0m\n",
      "\u001b[34m2020-08-20 21:44:29,215 sagemaker-containers INFO     Generating MANIFEST.in\u001b[0m\n",
      "\u001b[34m2020-08-20 21:44:29,215 sagemaker-containers INFO     Installing module with the following command:\u001b[0m\n",
      "\u001b[34m/usr/bin/python -m pip install -U . -r requirements.txt\u001b[0m\n",
      "\u001b[34mProcessing /opt/ml/code\u001b[0m\n",
      "\u001b[34mCollecting pandas (from -r requirements.txt (line 1))\u001b[0m\n",
      "\u001b[34m  Downloading https://files.pythonhosted.org/packages/74/24/0cdbf8907e1e3bc5a8da03345c23cbed7044330bb8f73bb12e711a640a00/pandas-0.24.2-cp35-cp35m-manylinux1_x86_64.whl (10.0MB)\u001b[0m\n",
      "\u001b[34mCollecting numpy (from -r requirements.txt (line 2))\n",
      "  Downloading https://files.pythonhosted.org/packages/b5/36/88723426b4ff576809fec7d73594fe17a35c27f8d01f93637637a29ae25b/numpy-1.18.5-cp35-cp35m-manylinux1_x86_64.whl (19.9MB)\u001b[0m\n",
      "\u001b[34mCollecting nltk (from -r requirements.txt (line 3))\n",
      "  Downloading https://files.pythonhosted.org/packages/92/75/ce35194d8e3022203cca0d2f896dbb88689f9b3fce8e9f9cff942913519d/nltk-3.5.zip (1.4MB)\u001b[0m\n",
      "\u001b[34mCollecting beautifulsoup4 (from -r requirements.txt (line 4))\n",
      "  Downloading https://files.pythonhosted.org/packages/66/25/ff030e2437265616a1e9b25ccc864e0371a0bc3adb7c5a404fd661c6f4f6/beautifulsoup4-4.9.1-py3-none-any.whl (115kB)\u001b[0m\n",
      "\u001b[34mCollecting html5lib (from -r requirements.txt (line 5))\n",
      "  Downloading https://files.pythonhosted.org/packages/6c/dd/a834df6482147d48e225a49515aabc28974ad5a4ca3215c18a882565b028/html5lib-1.1-py2.py3-none-any.whl (112kB)\u001b[0m\n",
      "\u001b[34mCollecting pytz>=2011k (from pandas->-r requirements.txt (line 1))\n",
      "  Downloading https://files.pythonhosted.org/packages/4f/a4/879454d49688e2fad93e59d7d4efda580b783c745fd2ec2a3adf87b0808d/pytz-2020.1-py2.py3-none-any.whl (510kB)\u001b[0m\n",
      "\u001b[34mRequirement already satisfied, skipping upgrade: python-dateutil>=2.5.0 in /usr/local/lib/python3.5/dist-packages (from pandas->-r requirements.txt (line 1)) (2.7.5)\u001b[0m\n",
      "\u001b[34mRequirement already satisfied, skipping upgrade: click in /usr/local/lib/python3.5/dist-packages (from nltk->-r requirements.txt (line 3)) (7.0)\u001b[0m\n",
      "\u001b[34mCollecting joblib (from nltk->-r requirements.txt (line 3))\n",
      "  Downloading https://files.pythonhosted.org/packages/28/5c/cf6a2b65a321c4a209efcdf64c2689efae2cb62661f8f6f4bb28547cf1bf/joblib-0.14.1-py2.py3-none-any.whl (294kB)\u001b[0m\n",
      "\u001b[34mCollecting regex (from nltk->-r requirements.txt (line 3))\u001b[0m\n",
      "\u001b[34m  Downloading https://files.pythonhosted.org/packages/09/c3/ddaa87500f31ed86290e3d014c0302a51fde28d7139eda0b5f33733726db/regex-2020.7.14.tar.gz (690kB)\u001b[0m\n",
      "\u001b[34mCollecting tqdm (from nltk->-r requirements.txt (line 3))\n",
      "  Downloading https://files.pythonhosted.org/packages/28/7e/281edb5bc3274dfb894d90f4dbacfceaca381c2435ec6187a2c6f329aed7/tqdm-4.48.2-py2.py3-none-any.whl (68kB)\u001b[0m\n",
      "\u001b[34mCollecting soupsieve>1.2 (from beautifulsoup4->-r requirements.txt (line 4))\n",
      "  Downloading https://files.pythonhosted.org/packages/6f/8f/457f4a5390eeae1cc3aeab89deb7724c965be841ffca6cfca9197482e470/soupsieve-2.0.1-py3-none-any.whl\u001b[0m\n",
      "\u001b[34mRequirement already satisfied, skipping upgrade: six>=1.9 in /usr/local/lib/python3.5/dist-packages (from html5lib->-r requirements.txt (line 5)) (1.11.0)\u001b[0m\n",
      "\u001b[34mCollecting webencodings (from html5lib->-r requirements.txt (line 5))\n",
      "  Downloading https://files.pythonhosted.org/packages/f4/24/2a3e3df732393fed8b3ebf2ec078f05546de641fe1b667ee316ec1dcf3b7/webencodings-0.5.1-py2.py3-none-any.whl\u001b[0m\n",
      "\u001b[34mBuilding wheels for collected packages: nltk, train, regex\n",
      "  Running setup.py bdist_wheel for nltk: started\u001b[0m\n",
      "\u001b[34m  Running setup.py bdist_wheel for nltk: finished with status 'done'\n",
      "  Stored in directory: /root/.cache/pip/wheels/ae/8c/3f/b1fe0ba04555b08b57ab52ab7f86023639a526d8bc8d384306\n",
      "  Running setup.py bdist_wheel for train: started\u001b[0m\n",
      "\u001b[34m  Running setup.py bdist_wheel for train: finished with status 'done'\n",
      "  Stored in directory: /tmp/pip-ephem-wheel-cache-71w08p3o/wheels/35/24/16/37574d11bf9bde50616c67372a334f94fa8356bc7164af8ca3\n",
      "  Running setup.py bdist_wheel for regex: started\u001b[0m\n",
      "\n",
      "2020-08-20 21:44:28 Training - Training image download completed. Training in progress.\u001b[34m  Running setup.py bdist_wheel for regex: finished with status 'done'\n",
      "  Stored in directory: /root/.cache/pip/wheels/53/55/dc/e17fa4568958f4c53be34b65e474a1327b64641f65df379ec3\u001b[0m\n",
      "\u001b[34mSuccessfully built nltk train regex\u001b[0m\n",
      "\u001b[34mInstalling collected packages: numpy, pytz, pandas, joblib, regex, tqdm, nltk, soupsieve, beautifulsoup4, webencodings, html5lib, train\n",
      "  Found existing installation: numpy 1.15.4\n",
      "    Uninstalling numpy-1.15.4:\u001b[0m\n",
      "\u001b[34m      Successfully uninstalled numpy-1.15.4\u001b[0m\n",
      "\u001b[34mSuccessfully installed beautifulsoup4-4.9.1 html5lib-1.1 joblib-0.14.1 nltk-3.5 numpy-1.18.5 pandas-0.24.2 pytz-2020.1 regex-2020.7.14 soupsieve-2.0.1 tqdm-4.48.2 train-1.0.0 webencodings-0.5.1\u001b[0m\n",
      "\u001b[34mYou are using pip version 18.1, however version 20.2.2 is available.\u001b[0m\n",
      "\u001b[34mYou should consider upgrading via the 'pip install --upgrade pip' command.\u001b[0m\n",
      "\u001b[34m2020-08-20 21:44:51,865 sagemaker-containers INFO     Invoking user script\n",
      "\u001b[0m\n",
      "\u001b[34mTraining Env:\n",
      "\u001b[0m\n",
      "\u001b[34m{\n",
      "    \"hyperparameters\": {\n",
      "        \"hidden_dim\": 200,\n",
      "        \"epochs\": 10\n",
      "    },\n",
      "    \"output_intermediate_dir\": \"/opt/ml/output/intermediate\",\n",
      "    \"job_name\": \"sagemaker-pytorch-2020-08-20-21-40-49-819\",\n",
      "    \"output_data_dir\": \"/opt/ml/output/data\",\n",
      "    \"module_dir\": \"s3://sagemaker-us-east-2-308208009032/sagemaker-pytorch-2020-08-20-21-40-49-819/source/sourcedir.tar.gz\",\n",
      "    \"resource_config\": {\n",
      "        \"hosts\": [\n",
      "            \"algo-1\"\n",
      "        ],\n",
      "        \"network_interface_name\": \"eth0\",\n",
      "        \"current_host\": \"algo-1\"\n",
      "    },\n",
      "    \"input_data_config\": {\n",
      "        \"training\": {\n",
      "            \"S3DistributionType\": \"FullyReplicated\",\n",
      "            \"TrainingInputMode\": \"File\",\n",
      "            \"RecordWrapperType\": \"None\"\n",
      "        }\n",
      "    },\n",
      "    \"input_dir\": \"/opt/ml/input\",\n",
      "    \"hosts\": [\n",
      "        \"algo-1\"\n",
      "    ],\n",
      "    \"num_cpus\": 4,\n",
      "    \"module_name\": \"train\",\n",
      "    \"framework_module\": \"sagemaker_pytorch_container.training:main\",\n",
      "    \"log_level\": 20,\n",
      "    \"output_dir\": \"/opt/ml/output\",\n",
      "    \"additional_framework_parameters\": {},\n",
      "    \"input_config_dir\": \"/opt/ml/input/config\",\n",
      "    \"network_interface_name\": \"eth0\",\n",
      "    \"user_entry_point\": \"train.py\",\n",
      "    \"current_host\": \"algo-1\",\n",
      "    \"num_gpus\": 1,\n",
      "    \"model_dir\": \"/opt/ml/model\",\n",
      "    \"channel_input_dirs\": {\n",
      "        \"training\": \"/opt/ml/input/data/training\"\n",
      "    }\u001b[0m\n",
      "\u001b[34m}\n",
      "\u001b[0m\n",
      "\u001b[34mEnvironment variables:\n",
      "\u001b[0m\n",
      "\u001b[34mSM_MODULE_NAME=train\u001b[0m\n",
      "\u001b[34mSM_INPUT_CONFIG_DIR=/opt/ml/input/config\u001b[0m\n",
      "\u001b[34mSM_INPUT_DIR=/opt/ml/input\u001b[0m\n",
      "\u001b[34mSM_USER_ARGS=[\"--epochs\",\"10\",\"--hidden_dim\",\"200\"]\u001b[0m\n",
      "\u001b[34mSM_HP_EPOCHS=10\u001b[0m\n",
      "\u001b[34mSM_NUM_GPUS=1\u001b[0m\n",
      "\u001b[34mSM_MODEL_DIR=/opt/ml/model\u001b[0m\n",
      "\u001b[34mSM_INPUT_DATA_CONFIG={\"training\":{\"RecordWrapperType\":\"None\",\"S3DistributionType\":\"FullyReplicated\",\"TrainingInputMode\":\"File\"}}\u001b[0m\n",
      "\u001b[34mSM_CHANNELS=[\"training\"]\u001b[0m\n",
      "\u001b[34mSM_OUTPUT_DIR=/opt/ml/output\u001b[0m\n",
      "\u001b[34mSM_USER_ENTRY_POINT=train.py\u001b[0m\n",
      "\u001b[34mSM_NETWORK_INTERFACE_NAME=eth0\u001b[0m\n",
      "\u001b[34mSM_CURRENT_HOST=algo-1\u001b[0m\n",
      "\u001b[34mSM_RESOURCE_CONFIG={\"current_host\":\"algo-1\",\"hosts\":[\"algo-1\"],\"network_interface_name\":\"eth0\"}\u001b[0m\n",
      "\u001b[34mSM_HOSTS=[\"algo-1\"]\u001b[0m\n",
      "\u001b[34mSM_MODULE_DIR=s3://sagemaker-us-east-2-308208009032/sagemaker-pytorch-2020-08-20-21-40-49-819/source/sourcedir.tar.gz\u001b[0m\n",
      "\u001b[34mSM_FRAMEWORK_MODULE=sagemaker_pytorch_container.training:main\u001b[0m\n",
      "\u001b[34mSM_FRAMEWORK_PARAMS={}\u001b[0m\n",
      "\u001b[34mSM_LOG_LEVEL=20\u001b[0m\n",
      "\u001b[34mSM_NUM_CPUS=4\u001b[0m\n",
      "\u001b[34mSM_HPS={\"epochs\":10,\"hidden_dim\":200}\u001b[0m\n",
      "\u001b[34mSM_HP_HIDDEN_DIM=200\u001b[0m\n",
      "\u001b[34mSM_OUTPUT_INTERMEDIATE_DIR=/opt/ml/output/intermediate\u001b[0m\n",
      "\u001b[34mSM_TRAINING_ENV={\"additional_framework_parameters\":{},\"channel_input_dirs\":{\"training\":\"/opt/ml/input/data/training\"},\"current_host\":\"algo-1\",\"framework_module\":\"sagemaker_pytorch_container.training:main\",\"hosts\":[\"algo-1\"],\"hyperparameters\":{\"epochs\":10,\"hidden_dim\":200},\"input_config_dir\":\"/opt/ml/input/config\",\"input_data_config\":{\"training\":{\"RecordWrapperType\":\"None\",\"S3DistributionType\":\"FullyReplicated\",\"TrainingInputMode\":\"File\"}},\"input_dir\":\"/opt/ml/input\",\"job_name\":\"sagemaker-pytorch-2020-08-20-21-40-49-819\",\"log_level\":20,\"model_dir\":\"/opt/ml/model\",\"module_dir\":\"s3://sagemaker-us-east-2-308208009032/sagemaker-pytorch-2020-08-20-21-40-49-819/source/sourcedir.tar.gz\",\"module_name\":\"train\",\"network_interface_name\":\"eth0\",\"num_cpus\":4,\"num_gpus\":1,\"output_data_dir\":\"/opt/ml/output/data\",\"output_dir\":\"/opt/ml/output\",\"output_intermediate_dir\":\"/opt/ml/output/intermediate\",\"resource_config\":{\"current_host\":\"algo-1\",\"hosts\":[\"algo-1\"],\"network_interface_name\":\"eth0\"},\"user_entry_point\":\"train.py\"}\u001b[0m\n",
      "\u001b[34mSM_OUTPUT_DATA_DIR=/opt/ml/output/data\u001b[0m\n",
      "\u001b[34mPYTHONPATH=/usr/local/bin:/usr/lib/python35.zip:/usr/lib/python3.5:/usr/lib/python3.5/plat-x86_64-linux-gnu:/usr/lib/python3.5/lib-dynload:/usr/local/lib/python3.5/dist-packages:/usr/lib/python3/dist-packages\u001b[0m\n",
      "\u001b[34mSM_CHANNEL_TRAINING=/opt/ml/input/data/training\n",
      "\u001b[0m\n",
      "\u001b[34mInvoking script with the following command:\n",
      "\u001b[0m\n",
      "\u001b[34m/usr/bin/python -m train --epochs 10 --hidden_dim 200\n",
      "\n",
      "\u001b[0m\n",
      "\u001b[34mUsing device cuda.\u001b[0m\n",
      "\u001b[34mGet train data loader.\u001b[0m\n",
      "\u001b[34mModel loaded with embedding_dim 32, hidden_dim 200, vocab_size 5000.\u001b[0m\n",
      "\u001b[34mEpoch: 1, BCELoss: 0.6654302927912498\u001b[0m\n",
      "\u001b[34mEpoch: 2, BCELoss: 0.5876423302961855\u001b[0m\n",
      "\u001b[34mEpoch: 3, BCELoss: 0.5513755958907458\u001b[0m\n",
      "\u001b[34mEpoch: 4, BCELoss: 0.4602799591969471\u001b[0m\n",
      "\u001b[34mEpoch: 5, BCELoss: 0.4007179463396267\u001b[0m\n",
      "\u001b[34mEpoch: 6, BCELoss: 0.36301953816900445\u001b[0m\n",
      "\u001b[34mEpoch: 7, BCELoss: 0.3410027446795483\u001b[0m\n",
      "\u001b[34mEpoch: 8, BCELoss: 0.31887243201538007\u001b[0m\n",
      "\u001b[34mEpoch: 9, BCELoss: 0.30388052731144183\u001b[0m\n",
      "\n",
      "2020-08-20 21:47:50 Uploading - Uploading generated training model\u001b[34mEpoch: 10, BCELoss: 0.3004934948926069\u001b[0m\n",
      "\u001b[34m2020-08-20 21:47:47,655 sagemaker-containers INFO     Reporting training SUCCESS\u001b[0m\n",
      "\n",
      "2020-08-20 21:47:57 Completed - Training job completed\n",
      "Training seconds: 266\n",
      "Billable seconds: 266\n"
     ]
    }
   ],
   "source": [
    "estimator.fit({'training': input_data})"
   ]
  },
  {
   "cell_type": "markdown",
   "metadata": {},
   "source": [
    "## Step 5: Testing the model\n",
    "\n",
    "As mentioned at the top of this notebook, we will be testing this model by first deploying it and then sending the testing data to the deployed endpoint. We will do this so that we can make sure that the deployed model is working correctly.\n",
    "\n",
    "## Step 6: Deploy the model for testing\n",
    "\n",
    "Now that we have trained our model, we would like to test it to see how it performs. Currently our model takes input of the form `review_length, review[500]` where `review[500]` is a sequence of `500` integers which describe the words present in the review, encoded using `word_dict`. Fortunately for us, SageMaker provides built-in inference code for models with simple inputs such as this.\n",
    "\n",
    "There is one thing that we need to provide, however, and that is a function which loads the saved model. This function must be called `model_fn()` and takes as its only parameter a path to the directory where the model artifacts are stored. This function must also be present in the python file which we specified as the entry point. In our case the model loading function has been provided and so no changes need to be made.\n",
    "\n",
    "**NOTE**: When the built-in inference code is run it must import the `model_fn()` method from the `train.py` file. This is why the training code is wrapped in a main guard ( ie, `if __name__ == '__main__':` )\n",
    "\n",
    "Since we don't need to change anything in the code that was uploaded during training, we can simply deploy the current model as-is.\n",
    "\n",
    "**NOTE:** When deploying a model you are asking SageMaker to launch an compute instance that will wait for data to be sent to it. As a result, this compute instance will continue to run until *you* shut it down. This is important to know since the cost of a deployed endpoint depends on how long it has been running for.\n",
    "\n",
    "In other words **If you are no longer using a deployed endpoint, shut it down!**\n",
    "\n",
    "**TODO:** Deploy the trained model."
   ]
  },
  {
   "cell_type": "code",
   "execution_count": 29,
   "metadata": {},
   "outputs": [
    {
     "name": "stderr",
     "output_type": "stream",
     "text": [
      "Parameter image will be renamed to image_uri in SageMaker Python SDK v2.\n",
      "'create_image_uri' will be deprecated in favor of 'ImageURIProvider' class in SageMaker Python SDK v2.\n"
     ]
    },
    {
     "name": "stdout",
     "output_type": "stream",
     "text": [
      "---------------!"
     ]
    }
   ],
   "source": [
    "# TODO: Deploy the trained model\n",
    "\n",
    "predictor = estimator.deploy(initial_instance_count = 1, instance_type = 'ml.m4.xlarge')"
   ]
  },
  {
   "cell_type": "markdown",
   "metadata": {},
   "source": [
    "## Step 7 - Use the model for testing\n",
    "\n",
    "Once deployed, we can read in the test data and send it off to our deployed model to get some results. Once we collect all of the results we can determine how accurate our model is."
   ]
  },
  {
   "cell_type": "code",
   "execution_count": 34,
   "metadata": {},
   "outputs": [],
   "source": [
    "test_X = pd.concat([pd.DataFrame(test_X_len), pd.DataFrame(test_X)], axis=1)"
   ]
  },
  {
   "cell_type": "code",
   "execution_count": 35,
   "metadata": {},
   "outputs": [],
   "source": [
    "# We split the data into chunks and send each chunk seperately, accumulating the results.\n",
    "\n",
    "def predict(data, rows=512):\n",
    "    split_array = np.array_split(data, int(data.shape[0] / float(rows) + 1))\n",
    "    predictions = np.array([])\n",
    "    for array in split_array:\n",
    "        predictions = np.append(predictions, predictor.predict(array))\n",
    "    return predictions"
   ]
  },
  {
   "cell_type": "code",
   "execution_count": 36,
   "metadata": {},
   "outputs": [],
   "source": [
    "predictions = predict(test_X.values)\n",
    "predictions = [round(num) for num in predictions]"
   ]
  },
  {
   "cell_type": "code",
   "execution_count": 37,
   "metadata": {},
   "outputs": [
    {
     "data": {
      "text/plain": [
       "0.83656"
      ]
     },
     "execution_count": 37,
     "metadata": {},
     "output_type": "execute_result"
    }
   ],
   "source": [
    "from sklearn.metrics import accuracy_score\n",
    "accuracy_score(test_y, predictions)"
   ]
  },
  {
   "cell_type": "markdown",
   "metadata": {},
   "source": [
    "**Question:** How does this model compare to the XGBoost model you created earlier? Why might these two models perform differently on this dataset? Which do *you* think is better for sentiment analysis?"
   ]
  },
  {
   "cell_type": "markdown",
   "metadata": {},
   "source": [
    "**Answer** Both the RNN and XGBoost models are performing almost similar. RNN model WILL  perform better when there is more training data and by choosing the optimum hyper parameters."
   ]
  },
  {
   "cell_type": "markdown",
   "metadata": {},
   "source": [
    "### (TODO) More testing\n",
    "\n",
    "We now have a trained model which has been deployed and which we can send processed reviews to and which returns the predicted sentiment. However, ultimately we would like to be able to send our model an unprocessed review. That is, we would like to send the review itself as a string. For example, suppose we wish to send the following review to our model."
   ]
  },
  {
   "cell_type": "code",
   "execution_count": 38,
   "metadata": {},
   "outputs": [],
   "source": [
    "test_review = 'The simplest pleasures in life are the best, and this film is one of them. Combining a rather basic storyline of love and adventure this movie transcends the usual weekend fair with wit and unmitigated charm.'"
   ]
  },
  {
   "cell_type": "markdown",
   "metadata": {},
   "source": [
    "The question we now need to answer is, how do we send this review to our model?\n",
    "\n",
    "Recall in the first section of this notebook we did a bunch of data processing to the IMDb dataset. In particular, we did two specific things to the provided reviews.\n",
    " - Removed any html tags and stemmed the input\n",
    " - Encoded the review as a sequence of integers using `word_dict`\n",
    " \n",
    "In order process the review we will need to repeat these two steps.\n",
    "\n",
    "**TODO**: Using the `review_to_words` and `convert_and_pad` methods from section one, convert `test_review` into a numpy array `test_data` suitable to send to our model. Remember that our model expects input of the form `review_length, review[500]`."
   ]
  },
  {
   "cell_type": "code",
   "execution_count": 39,
   "metadata": {},
   "outputs": [],
   "source": [
    "# TODO: Convert test_review into a form usable by the model and save the results in test_data\n",
    "test_data_review = review_to_words(test_review)\n",
    "test_data = [np.array(convert_and_pad(word_dict, test_data_review)[0])]"
   ]
  },
  {
   "cell_type": "markdown",
   "metadata": {},
   "source": [
    "Now that we have processed the review, we can send the resulting array to our model to predict the sentiment of the review."
   ]
  },
  {
   "cell_type": "code",
   "execution_count": 40,
   "metadata": {},
   "outputs": [
    {
     "data": {
      "text/plain": [
       "array(0.5532989, dtype=float32)"
      ]
     },
     "execution_count": 40,
     "metadata": {},
     "output_type": "execute_result"
    }
   ],
   "source": [
    "predictor.predict(test_data)"
   ]
  },
  {
   "cell_type": "markdown",
   "metadata": {},
   "source": [
    "Since the return value of our model is close to `1`, we can be certain that the review we submitted is positive."
   ]
  },
  {
   "cell_type": "markdown",
   "metadata": {},
   "source": [
    "### Delete the endpoint\n",
    "\n",
    "Of course, just like in the XGBoost notebook, once we've deployed an endpoint it continues to run until we tell it to shut down. Since we are done using our endpoint for now, we can delete it."
   ]
  },
  {
   "cell_type": "code",
   "execution_count": 41,
   "metadata": {},
   "outputs": [
    {
     "name": "stderr",
     "output_type": "stream",
     "text": [
      "estimator.delete_endpoint() will be deprecated in SageMaker Python SDK v2. Please use the delete_endpoint() function on your predictor instead.\n"
     ]
    }
   ],
   "source": [
    "estimator.delete_endpoint()"
   ]
  },
  {
   "cell_type": "markdown",
   "metadata": {},
   "source": [
    "## Step 6 (again) - Deploy the model for the web app\n",
    "\n",
    "Now that we know that our model is working, it's time to create some custom inference code so that we can send the model a review which has not been processed and have it determine the sentiment of the review.\n",
    "\n",
    "As we saw above, by default the estimator which we created, when deployed, will use the entry script and directory which we provided when creating the model. However, since we now wish to accept a string as input and our model expects a processed review, we need to write some custom inference code.\n",
    "\n",
    "We will store the code that we write in the `serve` directory. Provided in this directory is the `model.py` file that we used to construct our model, a `utils.py` file which contains the `review_to_words` and `convert_and_pad` pre-processing functions which we used during the initial data processing, and `predict.py`, the file which will contain our custom inference code. Note also that `requirements.txt` is present which will tell SageMaker what Python libraries are required by our custom inference code.\n",
    "\n",
    "When deploying a PyTorch model in SageMaker, you are expected to provide four functions which the SageMaker inference container will use.\n",
    " - `model_fn`: This function is the same function that we used in the training script and it tells SageMaker how to load our model.\n",
    " - `input_fn`: This function receives the raw serialized input that has been sent to the model's endpoint and its job is to de-serialize and make the input available for the inference code.\n",
    " - `output_fn`: This function takes the output of the inference code and its job is to serialize this output and return it to the caller of the model's endpoint.\n",
    " - `predict_fn`: The heart of the inference script, this is where the actual prediction is done and is the function which you will need to complete.\n",
    "\n",
    "For the simple website that we are constructing during this project, the `input_fn` and `output_fn` methods are relatively straightforward. We only require being able to accept a string as input and we expect to return a single value as output. You might imagine though that in a more complex application the input or output may be image data or some other binary data which would require some effort to serialize.\n",
    "\n",
    "### (TODO) Writing inference code\n",
    "\n",
    "Before writing our custom inference code, we will begin by taking a look at the code which has been provided."
   ]
  },
  {
   "cell_type": "code",
   "execution_count": 42,
   "metadata": {},
   "outputs": [
    {
     "name": "stdout",
     "output_type": "stream",
     "text": [
      "\u001b[34mimport\u001b[39;49;00m \u001b[04m\u001b[36margparse\u001b[39;49;00m\r\n",
      "\u001b[34mimport\u001b[39;49;00m \u001b[04m\u001b[36mjson\u001b[39;49;00m\r\n",
      "\u001b[34mimport\u001b[39;49;00m \u001b[04m\u001b[36mos\u001b[39;49;00m\r\n",
      "\u001b[34mimport\u001b[39;49;00m \u001b[04m\u001b[36mpickle\u001b[39;49;00m\r\n",
      "\u001b[34mimport\u001b[39;49;00m \u001b[04m\u001b[36msys\u001b[39;49;00m\r\n",
      "\u001b[34mimport\u001b[39;49;00m \u001b[04m\u001b[36msagemaker_containers\u001b[39;49;00m\r\n",
      "\u001b[34mimport\u001b[39;49;00m \u001b[04m\u001b[36mpandas\u001b[39;49;00m \u001b[34mas\u001b[39;49;00m \u001b[04m\u001b[36mpd\u001b[39;49;00m\r\n",
      "\u001b[34mimport\u001b[39;49;00m \u001b[04m\u001b[36mnumpy\u001b[39;49;00m \u001b[34mas\u001b[39;49;00m \u001b[04m\u001b[36mnp\u001b[39;49;00m\r\n",
      "\u001b[34mimport\u001b[39;49;00m \u001b[04m\u001b[36mtorch\u001b[39;49;00m\r\n",
      "\u001b[34mimport\u001b[39;49;00m \u001b[04m\u001b[36mtorch\u001b[39;49;00m\u001b[04m\u001b[36m.\u001b[39;49;00m\u001b[04m\u001b[36mnn\u001b[39;49;00m \u001b[34mas\u001b[39;49;00m \u001b[04m\u001b[36mnn\u001b[39;49;00m\r\n",
      "\u001b[34mimport\u001b[39;49;00m \u001b[04m\u001b[36mtorch\u001b[39;49;00m\u001b[04m\u001b[36m.\u001b[39;49;00m\u001b[04m\u001b[36moptim\u001b[39;49;00m \u001b[34mas\u001b[39;49;00m \u001b[04m\u001b[36moptim\u001b[39;49;00m\r\n",
      "\u001b[34mimport\u001b[39;49;00m \u001b[04m\u001b[36mtorch\u001b[39;49;00m\u001b[04m\u001b[36m.\u001b[39;49;00m\u001b[04m\u001b[36mutils\u001b[39;49;00m\u001b[04m\u001b[36m.\u001b[39;49;00m\u001b[04m\u001b[36mdata\u001b[39;49;00m\r\n",
      "\r\n",
      "\u001b[34mfrom\u001b[39;49;00m \u001b[04m\u001b[36mmodel\u001b[39;49;00m \u001b[34mimport\u001b[39;49;00m LSTMClassifier\r\n",
      "\r\n",
      "\u001b[34mfrom\u001b[39;49;00m \u001b[04m\u001b[36mutils\u001b[39;49;00m \u001b[34mimport\u001b[39;49;00m review_to_words, convert_and_pad\r\n",
      "\r\n",
      "\u001b[34mdef\u001b[39;49;00m \u001b[32mmodel_fn\u001b[39;49;00m(model_dir):\r\n",
      "    \u001b[33m\"\"\"Load the PyTorch model from the `model_dir` directory.\"\"\"\u001b[39;49;00m\r\n",
      "    \u001b[36mprint\u001b[39;49;00m(\u001b[33m\"\u001b[39;49;00m\u001b[33mLoading model.\u001b[39;49;00m\u001b[33m\"\u001b[39;49;00m)\r\n",
      "\r\n",
      "    \u001b[37m# First, load the parameters used to create the model.\u001b[39;49;00m\r\n",
      "    model_info = {}\r\n",
      "    model_info_path = os.path.join(model_dir, \u001b[33m'\u001b[39;49;00m\u001b[33mmodel_info.pth\u001b[39;49;00m\u001b[33m'\u001b[39;49;00m)\r\n",
      "    \u001b[34mwith\u001b[39;49;00m \u001b[36mopen\u001b[39;49;00m(model_info_path, \u001b[33m'\u001b[39;49;00m\u001b[33mrb\u001b[39;49;00m\u001b[33m'\u001b[39;49;00m) \u001b[34mas\u001b[39;49;00m f:\r\n",
      "        model_info = torch.load(f)\r\n",
      "\r\n",
      "    \u001b[36mprint\u001b[39;49;00m(\u001b[33m\"\u001b[39;49;00m\u001b[33mmodel_info: \u001b[39;49;00m\u001b[33m{}\u001b[39;49;00m\u001b[33m\"\u001b[39;49;00m.format(model_info))\r\n",
      "\r\n",
      "    \u001b[37m# Determine the device and construct the model.\u001b[39;49;00m\r\n",
      "    device = torch.device(\u001b[33m\"\u001b[39;49;00m\u001b[33mcuda\u001b[39;49;00m\u001b[33m\"\u001b[39;49;00m \u001b[34mif\u001b[39;49;00m torch.cuda.is_available() \u001b[34melse\u001b[39;49;00m \u001b[33m\"\u001b[39;49;00m\u001b[33mcpu\u001b[39;49;00m\u001b[33m\"\u001b[39;49;00m)\r\n",
      "    model = LSTMClassifier(model_info[\u001b[33m'\u001b[39;49;00m\u001b[33membedding_dim\u001b[39;49;00m\u001b[33m'\u001b[39;49;00m], model_info[\u001b[33m'\u001b[39;49;00m\u001b[33mhidden_dim\u001b[39;49;00m\u001b[33m'\u001b[39;49;00m], model_info[\u001b[33m'\u001b[39;49;00m\u001b[33mvocab_size\u001b[39;49;00m\u001b[33m'\u001b[39;49;00m])\r\n",
      "\r\n",
      "    \u001b[37m# Load the store model parameters.\u001b[39;49;00m\r\n",
      "    model_path = os.path.join(model_dir, \u001b[33m'\u001b[39;49;00m\u001b[33mmodel.pth\u001b[39;49;00m\u001b[33m'\u001b[39;49;00m)\r\n",
      "    \u001b[34mwith\u001b[39;49;00m \u001b[36mopen\u001b[39;49;00m(model_path, \u001b[33m'\u001b[39;49;00m\u001b[33mrb\u001b[39;49;00m\u001b[33m'\u001b[39;49;00m) \u001b[34mas\u001b[39;49;00m f:\r\n",
      "        model.load_state_dict(torch.load(f))\r\n",
      "\r\n",
      "    \u001b[37m# Load the saved word_dict.\u001b[39;49;00m\r\n",
      "    word_dict_path = os.path.join(model_dir, \u001b[33m'\u001b[39;49;00m\u001b[33mword_dict.pkl\u001b[39;49;00m\u001b[33m'\u001b[39;49;00m)\r\n",
      "    \u001b[34mwith\u001b[39;49;00m \u001b[36mopen\u001b[39;49;00m(word_dict_path, \u001b[33m'\u001b[39;49;00m\u001b[33mrb\u001b[39;49;00m\u001b[33m'\u001b[39;49;00m) \u001b[34mas\u001b[39;49;00m f:\r\n",
      "        model.word_dict = pickle.load(f)\r\n",
      "\r\n",
      "    model.to(device).eval()\r\n",
      "\r\n",
      "    \u001b[36mprint\u001b[39;49;00m(\u001b[33m\"\u001b[39;49;00m\u001b[33mDone loading model.\u001b[39;49;00m\u001b[33m\"\u001b[39;49;00m)\r\n",
      "    \u001b[34mreturn\u001b[39;49;00m model\r\n",
      "\r\n",
      "\u001b[34mdef\u001b[39;49;00m \u001b[32minput_fn\u001b[39;49;00m(serialized_input_data, content_type):\r\n",
      "    \u001b[36mprint\u001b[39;49;00m(\u001b[33m'\u001b[39;49;00m\u001b[33mDeserializing the input data.\u001b[39;49;00m\u001b[33m'\u001b[39;49;00m)\r\n",
      "    \u001b[34mif\u001b[39;49;00m content_type == \u001b[33m'\u001b[39;49;00m\u001b[33mtext/plain\u001b[39;49;00m\u001b[33m'\u001b[39;49;00m:\r\n",
      "        data = serialized_input_data.decode(\u001b[33m'\u001b[39;49;00m\u001b[33mutf-8\u001b[39;49;00m\u001b[33m'\u001b[39;49;00m)\r\n",
      "        \u001b[34mreturn\u001b[39;49;00m data\r\n",
      "    \u001b[34mraise\u001b[39;49;00m \u001b[36mException\u001b[39;49;00m(\u001b[33m'\u001b[39;49;00m\u001b[33mRequested unsupported ContentType in content_type: \u001b[39;49;00m\u001b[33m'\u001b[39;49;00m + content_type)\r\n",
      "\r\n",
      "\u001b[34mdef\u001b[39;49;00m \u001b[32moutput_fn\u001b[39;49;00m(prediction_output, accept):\r\n",
      "    \u001b[36mprint\u001b[39;49;00m(\u001b[33m'\u001b[39;49;00m\u001b[33mSerializing the generated output.\u001b[39;49;00m\u001b[33m'\u001b[39;49;00m)\r\n",
      "    \u001b[34mreturn\u001b[39;49;00m \u001b[36mstr\u001b[39;49;00m(prediction_output)\r\n",
      "\r\n",
      "\u001b[34mdef\u001b[39;49;00m \u001b[32mconvert_and_pad\u001b[39;49;00m(word_dict, sentence, pad=\u001b[34m500\u001b[39;49;00m):\r\n",
      "    NOWORD = \u001b[34m0\u001b[39;49;00m \u001b[37m# We will use 0 to represent the 'no word' category\u001b[39;49;00m\r\n",
      "    INFREQ = \u001b[34m1\u001b[39;49;00m \u001b[37m# and we use 1 to represent the infrequent words, i.e., words not appearing in word_dict\u001b[39;49;00m\r\n",
      "    \r\n",
      "    working_sentence = [NOWORD] * pad\r\n",
      "    \r\n",
      "    \u001b[34mfor\u001b[39;49;00m word_index, word \u001b[35min\u001b[39;49;00m \u001b[36menumerate\u001b[39;49;00m(sentence[:pad]):\r\n",
      "        \u001b[34mif\u001b[39;49;00m word \u001b[35min\u001b[39;49;00m word_dict:\r\n",
      "            working_sentence[word_index] = word_dict[word]\r\n",
      "        \u001b[34melse\u001b[39;49;00m:\r\n",
      "            working_sentence[word_index] = INFREQ\r\n",
      "            \r\n",
      "    \u001b[34mreturn\u001b[39;49;00m working_sentence, \u001b[36mmin\u001b[39;49;00m(\u001b[36mlen\u001b[39;49;00m(sentence), pad)\r\n",
      "\r\n",
      "\u001b[34mdef\u001b[39;49;00m \u001b[32mconvert_and_pad_data\u001b[39;49;00m(word_dict, data, pad=\u001b[34m500\u001b[39;49;00m):\r\n",
      "    result = []\r\n",
      "    lengths = []\r\n",
      "    \r\n",
      "    \u001b[34mfor\u001b[39;49;00m sentence \u001b[35min\u001b[39;49;00m data:\r\n",
      "        converted, leng = convert_and_pad(word_dict, sentence, pad)\r\n",
      "        result.append(converted)\r\n",
      "        lengths.append(leng)\r\n",
      "        \r\n",
      "    \u001b[34mreturn\u001b[39;49;00m np.array(result), np.array(lengths)\r\n",
      "\r\n",
      "\u001b[34mdef\u001b[39;49;00m \u001b[32mpredict_fn\u001b[39;49;00m(input_data, model):\r\n",
      "    \u001b[36mprint\u001b[39;49;00m(\u001b[33m'\u001b[39;49;00m\u001b[33mInferring sentiment of input data.\u001b[39;49;00m\u001b[33m'\u001b[39;49;00m)\r\n",
      "\r\n",
      "    device = torch.device(\u001b[33m\"\u001b[39;49;00m\u001b[33mcuda\u001b[39;49;00m\u001b[33m\"\u001b[39;49;00m \u001b[34mif\u001b[39;49;00m torch.cuda.is_available() \u001b[34melse\u001b[39;49;00m \u001b[33m\"\u001b[39;49;00m\u001b[33mcpu\u001b[39;49;00m\u001b[33m\"\u001b[39;49;00m)\r\n",
      "    \r\n",
      "    \u001b[34mif\u001b[39;49;00m model.word_dict \u001b[35mis\u001b[39;49;00m \u001b[34mNone\u001b[39;49;00m:\r\n",
      "        \u001b[34mraise\u001b[39;49;00m \u001b[36mException\u001b[39;49;00m(\u001b[33m'\u001b[39;49;00m\u001b[33mModel has not been loaded properly, no word_dict.\u001b[39;49;00m\u001b[33m'\u001b[39;49;00m)\r\n",
      "    \r\n",
      "    \u001b[37m# TODO: Process input_data so that it is ready to be sent to our model.\u001b[39;49;00m\r\n",
      "    \u001b[37m#       You should produce two variables:\u001b[39;49;00m\r\n",
      "    \u001b[37m#         data_X   - A sequence of length 500 which represents the converted review\u001b[39;49;00m\r\n",
      "    \u001b[37m#         data_len - The length of the review\u001b[39;49;00m\r\n",
      "\r\n",
      "    data_X = \u001b[34mNone\u001b[39;49;00m\r\n",
      "    data_len = \u001b[34mNone\u001b[39;49;00m\r\n",
      "    reviewed_data = review_to_words(input_data)\r\n",
      "    data_X,data_len = convert_and_pad_data(model.word_dict,reviewed_data)\r\n",
      "    \r\n",
      "    \u001b[37m# Using data_X and data_len we construct an appropriate input tensor. Remember\u001b[39;49;00m\r\n",
      "    \u001b[37m# that our model expects input data of the form 'len, review[500]'.\u001b[39;49;00m\r\n",
      "    data_pack = np.hstack((data_len, data_X))\r\n",
      "    data_pack = data_pack.reshape(\u001b[34m1\u001b[39;49;00m, -\u001b[34m1\u001b[39;49;00m)\r\n",
      "    \r\n",
      "    data = torch.from_numpy(data_pack)\r\n",
      "    data = data.to(device)\r\n",
      "\r\n",
      "    \u001b[37m# Make sure to put the model into evaluation mode\u001b[39;49;00m\r\n",
      "    model.eval()\r\n",
      "\r\n",
      "    \u001b[37m# TODO: Compute the result of applying the model to the input data. The variable `result` should\u001b[39;49;00m\r\n",
      "    \u001b[37m#       be a numpy array which contains a single integer which is either 1 or 0\u001b[39;49;00m\r\n",
      "\r\n",
      "     \r\n",
      "    \u001b[34mwith\u001b[39;49;00m torch.no_grad():\r\n",
      "        output = model(data)\r\n",
      "         \r\n",
      "\r\n",
      "    result = np.round(output.numpy()) \r\n",
      "\r\n",
      "    \r\n",
      "    \u001b[34mreturn\u001b[39;49;00m result\r\n"
     ]
    }
   ],
   "source": [
    "!pygmentize serve/predict.py"
   ]
  },
  {
   "cell_type": "markdown",
   "metadata": {},
   "source": [
    "As mentioned earlier, the `model_fn` method is the same as the one provided in the training code and the `input_fn` and `output_fn` methods are very simple and your task will be to complete the `predict_fn` method. Make sure that you save the completed file as `predict.py` in the `serve` directory.\n",
    "\n",
    "**TODO**: Complete the `predict_fn()` method in the `serve/predict.py` file."
   ]
  },
  {
   "cell_type": "markdown",
   "metadata": {},
   "source": [
    "### Deploying the model\n",
    "\n",
    "Now that the custom inference code has been written, we will create and deploy our model. To begin with, we need to construct a new PyTorchModel object which points to the model artifacts created during training and also points to the inference code that we wish to use. Then we can call the deploy method to launch the deployment container.\n",
    "\n",
    "**NOTE**: The default behaviour for a deployed PyTorch model is to assume that any input passed to the predictor is a `numpy` array. In our case we want to send a string so we need to construct a simple wrapper around the `RealTimePredictor` class to accomodate simple strings. In a more complicated situation you may want to provide a serialization object, for example if you wanted to sent image data."
   ]
  },
  {
   "cell_type": "code",
   "execution_count": 53,
   "metadata": {},
   "outputs": [
    {
     "name": "stderr",
     "output_type": "stream",
     "text": [
      "Parameter image will be renamed to image_uri in SageMaker Python SDK v2.\n",
      "'create_image_uri' will be deprecated in favor of 'ImageURIProvider' class in SageMaker Python SDK v2.\n"
     ]
    },
    {
     "name": "stdout",
     "output_type": "stream",
     "text": [
      "---------------!"
     ]
    }
   ],
   "source": [
    "from sagemaker.predictor import RealTimePredictor\n",
    "from sagemaker.pytorch import PyTorchModel\n",
    "\n",
    "class StringPredictor(RealTimePredictor):\n",
    "    def __init__(self, endpoint_name, sagemaker_session):\n",
    "        super(StringPredictor, self).__init__(endpoint_name, sagemaker_session, content_type='text/plain')\n",
    "\n",
    "model = PyTorchModel(model_data=estimator.model_data,\n",
    "                     role = role,\n",
    "                     framework_version='0.4.0',\n",
    "                     entry_point='predict.py',\n",
    "                     source_dir='serve',\n",
    "                     predictor_cls=StringPredictor)\n",
    "predictor = model.deploy(initial_instance_count=1, instance_type='ml.m4.xlarge')"
   ]
  },
  {
   "cell_type": "markdown",
   "metadata": {},
   "source": [
    "### Testing the model\n",
    "\n",
    "Now that we have deployed our model with the custom inference code, we should test to see if everything is working. Here we test our model by loading the first `250` positive and negative reviews and send them to the endpoint, then collect the results. The reason for only sending some of the data is that the amount of time it takes for our model to process the input and then perform inference is quite long and so testing the entire data set would be prohibitive."
   ]
  },
  {
   "cell_type": "code",
   "execution_count": 54,
   "metadata": {},
   "outputs": [],
   "source": [
    "import glob\n",
    "\n",
    "def test_reviews(data_dir='../data/aclImdb', stop=250):\n",
    "    \n",
    "    results = []\n",
    "    ground = []\n",
    "    \n",
    "    # We make sure to test both positive and negative reviews    \n",
    "    for sentiment in ['pos', 'neg']:\n",
    "        \n",
    "        path = os.path.join(data_dir, 'test', sentiment, '*.txt')\n",
    "        files = glob.glob(path)\n",
    "        \n",
    "        files_read = 0\n",
    "        \n",
    "        print('Starting ', sentiment, ' files')\n",
    "        \n",
    "        # Iterate through the files and send them to the predictor\n",
    "        for f in files:\n",
    "            with open(f) as review:\n",
    "                # First, we store the ground truth (was the review positive or negative)\n",
    "                if sentiment == 'pos':\n",
    "                    ground.append(1)\n",
    "                else:\n",
    "                    ground.append(0)\n",
    "                # Read in the review and convert to 'utf-8' for transmission via HTTP\n",
    "                review_input = review.read().encode('utf-8')\n",
    "                # Send the review to the predictor and store the results\n",
    "                results.append(int(predictor.predict(review_input)))\n",
    "                \n",
    "            # Sending reviews to our endpoint one at a time takes a while so we\n",
    "            # only send a small number of reviews\n",
    "            files_read += 1\n",
    "            if files_read == stop:\n",
    "                break\n",
    "            \n",
    "    return ground, results"
   ]
  },
  {
   "cell_type": "code",
   "execution_count": 55,
   "metadata": {},
   "outputs": [
    {
     "name": "stdout",
     "output_type": "stream",
     "text": [
      "Starting  pos  files\n",
      "Starting  neg  files\n"
     ]
    }
   ],
   "source": [
    "ground, results = test_reviews()"
   ]
  },
  {
   "cell_type": "code",
   "execution_count": 56,
   "metadata": {},
   "outputs": [
    {
     "data": {
      "text/plain": [
       "0.862"
      ]
     },
     "execution_count": 56,
     "metadata": {},
     "output_type": "execute_result"
    }
   ],
   "source": [
    "from sklearn.metrics import accuracy_score\n",
    "accuracy_score(ground, results)"
   ]
  },
  {
   "cell_type": "markdown",
   "metadata": {},
   "source": [
    "As an additional test, we can try sending the `test_review` that we looked at earlier."
   ]
  },
  {
   "cell_type": "code",
   "execution_count": 60,
   "metadata": {},
   "outputs": [
    {
     "data": {
      "text/plain": [
       "b'1'"
      ]
     },
     "execution_count": 60,
     "metadata": {},
     "output_type": "execute_result"
    }
   ],
   "source": [
    "predictor.predict(test_review)"
   ]
  },
  {
   "cell_type": "markdown",
   "metadata": {},
   "source": [
    "Now that we know our endpoint is working as expected, we can set up the web page that will interact with it. If you don't have time to finish the project now, make sure to skip down to the end of this notebook and shut down your endpoint. You can deploy it again when you come back."
   ]
  },
  {
   "cell_type": "markdown",
   "metadata": {},
   "source": [
    "## Step 7 (again): Use the model for the web app\n",
    "\n",
    "> **TODO:** This entire section and the next contain tasks for you to complete, mostly using the AWS console.\n",
    "\n",
    "So far we have been accessing our model endpoint by constructing a predictor object which uses the endpoint and then just using the predictor object to perform inference. What if we wanted to create a web app which accessed our model? The way things are set up currently makes that not possible since in order to access a SageMaker endpoint the app would first have to authenticate with AWS using an IAM role which included access to SageMaker endpoints. However, there is an easier way! We just need to use some additional AWS services.\n",
    "\n",
    "<img src=\"Web App Diagram.svg\">\n",
    "\n",
    "The diagram above gives an overview of how the various services will work together. On the far right is the model which we trained above and which is deployed using SageMaker. On the far left is our web app that collects a user's movie review, sends it off and expects a positive or negative sentiment in return.\n",
    "\n",
    "In the middle is where some of the magic happens. We will construct a Lambda function, which you can think of as a straightforward Python function that can be executed whenever a specified event occurs. We will give this function permission to send and recieve data from a SageMaker endpoint.\n",
    "\n",
    "Lastly, the method we will use to execute the Lambda function is a new endpoint that we will create using API Gateway. This endpoint will be a url that listens for data to be sent to it. Once it gets some data it will pass that data on to the Lambda function and then return whatever the Lambda function returns. Essentially it will act as an interface that lets our web app communicate with the Lambda function.\n",
    "\n",
    "### Setting up a Lambda function\n",
    "\n",
    "The first thing we are going to do is set up a Lambda function. This Lambda function will be executed whenever our public API has data sent to it. When it is executed it will receive the data, perform any sort of processing that is required, send the data (the review) to the SageMaker endpoint we've created and then return the result.\n",
    "\n",
    "#### Part A: Create an IAM Role for the Lambda function\n",
    "\n",
    "Since we want the Lambda function to call a SageMaker endpoint, we need to make sure that it has permission to do so. To do this, we will construct a role that we can later give the Lambda function.\n",
    "\n",
    "Using the AWS Console, navigate to the **IAM** page and click on **Roles**. Then, click on **Create role**. Make sure that the **AWS service** is the type of trusted entity selected and choose **Lambda** as the service that will use this role, then click **Next: Permissions**.\n",
    "\n",
    "In the search box type `sagemaker` and select the check box next to the **AmazonSageMakerFullAccess** policy. Then, click on **Next: Review**.\n",
    "\n",
    "Lastly, give this role a name. Make sure you use a name that you will remember later on, for example `LambdaSageMakerRole`. Then, click on **Create role**.\n",
    "\n",
    "#### Part B: Create a Lambda function\n",
    "\n",
    "Now it is time to actually create the Lambda function.\n",
    "\n",
    "Using the AWS Console, navigate to the AWS Lambda page and click on **Create a function**. When you get to the next page, make sure that **Author from scratch** is selected. Now, name your Lambda function, using a name that you will remember later on, for example `sentiment_analysis_func`. Make sure that the **Python 3.6** runtime is selected and then choose the role that you created in the previous part. Then, click on **Create Function**.\n",
    "\n",
    "On the next page you will see some information about the Lambda function you've just created. If you scroll down you should see an editor in which you can write the code that will be executed when your Lambda function is triggered. In our example, we will use the code below. \n",
    "\n",
    "```python\n",
    "# We need to use the low-level library to interact with SageMaker since the SageMaker API\n",
    "# is not available natively through Lambda.\n",
    "import boto3\n",
    "\n",
    "def lambda_handler(event, context):\n",
    "\n",
    "    # The SageMaker runtime is what allows us to invoke the endpoint that we've created.\n",
    "    runtime = boto3.Session().client('sagemaker-runtime')\n",
    "\n",
    "    # Now we use the SageMaker runtime to invoke our endpoint, sending the review we were given\n",
    "    response = runtime.invoke_endpoint(EndpointName = '**ENDPOINT NAME HERE**',    # The name of the endpoint we created\n",
    "                                       ContentType = 'text/plain',                 # The data format that is expected\n",
    "                                       Body = event['body'])                       # The actual review\n",
    "\n",
    "    # The response is an HTTP response whose body contains the result of our inference\n",
    "    result = response['Body'].read().decode('utf-8')\n",
    "\n",
    "    return {\n",
    "        'statusCode' : 200,\n",
    "        'headers' : { 'Content-Type' : 'text/plain', 'Access-Control-Allow-Origin' : '*' },\n",
    "        'body' : result\n",
    "    }\n",
    "```\n",
    "\n",
    "Once you have copy and pasted the code above into the Lambda code editor, replace the `**ENDPOINT NAME HERE**` portion with the name of the endpoint that we deployed earlier. You can determine the name of the endpoint using the code cell below."
   ]
  },
  {
   "cell_type": "code",
   "execution_count": 59,
   "metadata": {},
   "outputs": [
    {
     "data": {
      "text/plain": [
       "'sagemaker-pytorch-2020-08-20-23-00-59-949'"
      ]
     },
     "execution_count": 59,
     "metadata": {},
     "output_type": "execute_result"
    }
   ],
   "source": [
    "predictor.endpoint"
   ]
  },
  {
   "cell_type": "markdown",
   "metadata": {},
   "source": [
    "Once you have added the endpoint name to the Lambda function, click on **Save**. Your Lambda function is now up and running. Next we need to create a way for our web app to execute the Lambda function.\n",
    "\n",
    "### Setting up API Gateway\n",
    "\n",
    "Now that our Lambda function is set up, it is time to create a new API using API Gateway that will trigger the Lambda function we have just created.\n",
    "\n",
    "Using AWS Console, navigate to **Amazon API Gateway** and then click on **Get started**.\n",
    "\n",
    "On the next page, make sure that **New API** is selected and give the new api a name, for example, `sentiment_analysis_api`. Then, click on **Create API**.\n",
    "\n",
    "Now we have created an API, however it doesn't currently do anything. What we want it to do is to trigger the Lambda function that we created earlier.\n",
    "\n",
    "Select the **Actions** dropdown menu and click **Create Method**. A new blank method will be created, select its dropdown menu and select **POST**, then click on the check mark beside it.\n",
    "\n",
    "For the integration point, make sure that **Lambda Function** is selected and click on the **Use Lambda Proxy integration**. This option makes sure that the data that is sent to the API is then sent directly to the Lambda function with no processing. It also means that the return value must be a proper response object as it will also not be processed by API Gateway.\n",
    "\n",
    "Type the name of the Lambda function you created earlier into the **Lambda Function** text entry box and then click on **Save**. Click on **OK** in the pop-up box that then appears, giving permission to API Gateway to invoke the Lambda function you created.\n",
    "\n",
    "The last step in creating the API Gateway is to select the **Actions** dropdown and click on **Deploy API**. You will need to create a new Deployment stage and name it anything you like, for example `prod`.\n",
    "\n",
    "You have now successfully set up a public API to access your SageMaker model. Make sure to copy or write down the URL provided to invoke your newly created public API as this will be needed in the next step. This URL can be found at the top of the page, highlighted in blue next to the text **Invoke URL**."
   ]
  },
  {
   "cell_type": "markdown",
   "metadata": {},
   "source": [
    "## Step 4: Deploying our web app\n",
    "\n",
    "Now that we have a publicly available API, we can start using it in a web app. For our purposes, we have provided a simple static html file which can make use of the public api you created earlier.\n",
    "\n",
    "In the `website` folder there should be a file called `index.html`. Download the file to your computer and open that file up in a text editor of your choice. There should be a line which contains **\\*\\*REPLACE WITH PUBLIC API URL\\*\\***. Replace this string with the url that you wrote down in the last step and then save the file.\n",
    "\n",
    "Now, if you open `index.html` on your local computer, your browser will behave as a local web server and you can use the provided site to interact with your SageMaker model.\n",
    "\n",
    "If you'd like to go further, you can host this html file anywhere you'd like, for example using github or hosting a static site on Amazon's S3. Once you have done this you can share the link with anyone you'd like and have them play with it too!\n",
    "\n",
    "> **Important Note** In order for the web app to communicate with the SageMaker endpoint, the endpoint has to actually be deployed and running. This means that you are paying for it. Make sure that the endpoint is running when you want to use the web app but that you shut it down when you don't need it, otherwise you will end up with a surprisingly large AWS bill.\n",
    "\n",
    "**TODO:** Make sure that you include the edited `index.html` file in your project submission."
   ]
  },
  {
   "cell_type": "markdown",
   "metadata": {},
   "source": [
    "Now that your web app is working, trying playing around with it and see how well it works.\n",
    "\n",
    "**Question**: Give an example of a review that you entered into your web app. What was the predicted sentiment of your example review?"
   ]
  },
  {
   "cell_type": "markdown",
   "metadata": {},
   "source": [
    "**Answer:** 3 out of 4 results are correct. the model is performing fine.\n",
    "\n",
    "1. **Result**: Positive . Expected: Negative\n",
    "\n",
    "**Review**:\n",
    "\n",
    "The first horror movie I ever saw was “Jaws”–an all-time classic filmed in 1975 by Steven Spielberg. the movie was very horrible.\n",
    "\n",
    "2. **Result**:Negative . Expected : Negative . \n",
    "I have removed the word Classic from the above review and the model has now predicted correctly.\n",
    "\n",
    "**Review**:\n",
    "The first horror movie I ever saw was “Jaws”–an all-time   filmed in 1975 by Steven Spielberg. the movie was very horrible\n",
    "\n",
    "3.  **Result**: Positive . Expected: Positive\n",
    "\n",
    " \n",
    "**Review**:\n",
    "This movie, a brilliant & touching send off to one of the best series ever aired, is like a study on how to write a finale. Every character has a prime moment, the story flows beautifully and it's full of comedy, pathos & action. It makes me wonder how HBO let some shows go on well past their due date and ended this prematurely. Congratulations to all involved for giving the fans the best send off anyone could expect and more.\n",
    "\n",
    "4. **Result**: Negative , Expected:Negative\n",
    "\n",
    "**Review**:\n",
    "This movie goes on and on! No climax no plot!\n",
    "\n",
    "Right from the start is all whinnying and whinnying of Bella!\n",
    "\n",
    "The movies go flat from there, and then she is not sure about Jacob.\n",
    "\n",
    "No what I expected at all.\n",
    "\n",
    "I haven't read the book, but the first one was a real attention catcher.\n",
    "\n",
    "This movie could be done in 60 Min. or less. There was no need to keep the movie going for so long! Waste of film, and our time.\n",
    "\n",
    "The whole movie is very predictable."
   ]
  },
  {
   "cell_type": "markdown",
   "metadata": {},
   "source": [
    "### Delete the endpoint\n",
    "\n",
    "Remember to always shut down your endpoint if you are no longer using it. You are charged for the length of time that the endpoint is running so if you forget and leave it on you could end up with an unexpectedly large bill."
   ]
  },
  {
   "cell_type": "code",
   "execution_count": null,
   "metadata": {},
   "outputs": [],
   "source": [
    "predictor.delete_endpoint()"
   ]
  }
 ],
 "metadata": {
  "kernelspec": {
   "display_name": "conda_pytorch_p36",
   "language": "python",
   "name": "conda_pytorch_p36"
  },
  "language_info": {
   "codemirror_mode": {
    "name": "ipython",
    "version": 3
   },
   "file_extension": ".py",
   "mimetype": "text/x-python",
   "name": "python",
   "nbconvert_exporter": "python",
   "pygments_lexer": "ipython3",
   "version": "3.6.10"
  }
 },
 "nbformat": 4,
 "nbformat_minor": 2
}
